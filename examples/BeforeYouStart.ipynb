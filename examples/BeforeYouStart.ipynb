{
  "cells": [
    {
      "cell_type": "markdown",
      "source": [
        "# Make sure you have correct environment for Ray on AML\r\n",
        "\r\n",
        "To have the best experience Ray on Azure Machine Learning Services **Python 3.8.x** and **Ray 1.9.0** are recommened."
      ],
      "metadata": {
        "nteract": {
          "transient": {
            "deleting": false
          }
        }
      }
    },
    {
      "cell_type": "code",
      "source": [
        "import sys\r\n",
        "import ray\r\n",
        "\r\n",
        "if not (sys.version_info.major == 3 and sys.version_info.minor == 8):\r\n",
        "    print(\"Python 3.8 or higher is required.\")\r\n",
        "    print(\"Change kerner to azureml_py38\")\r\n",
        "    print(\"                 ^^^^^^^^^^^\")\r\n",
        "else:\r\n",
        "    print(f\"{sys.version_info.major}.{sys.version_info.minor} is detected.\")\r\n",
        "\r\n",
        "if not ray.__version__.startswith('1.9'):\r\n",
        "    print(\"User Ray is not 1.9\")\r\n",
        "    print(\"pip install ray==1.9.0\")\r\n",
        "    print(\"           ^^^^^^^^^^^\")\r\n",
        "else:\r\n",
        "    print(f\"{ray.__version__} is detected\")\r\n"
      ],
      "outputs": [
        {
          "output_type": "stream",
          "name": "stdout",
          "text": "3.8 is detected.\n1.9.0 is detected\n"
        }
      ],
      "execution_count": 8,
      "metadata": {
        "jupyter": {
          "source_hidden": false,
          "outputs_hidden": false
        },
        "nteract": {
          "transient": {
            "deleting": false
          }
        },
        "gather": {
          "logged": 1639431649941
        }
      }
    }
  ],
  "metadata": {
    "kernelspec": {
      "name": "python38-azureml",
      "language": "python",
      "display_name": "Python 3.8 - AzureML"
    },
    "language_info": {
      "name": "python",
      "version": "3.8.12",
      "mimetype": "text/x-python",
      "codemirror_mode": {
        "name": "ipython",
        "version": 3
      },
      "pygments_lexer": "ipython3",
      "nbconvert_exporter": "python",
      "file_extension": ".py"
    },
    "kernel_info": {
      "name": "python38-azureml"
    },
    "microsoft": {
      "host": {
        "AzureML": {
          "notebookHasBeenCompleted": true
        }
      }
    },
    "nteract": {
      "version": "nteract-front-end@1.0.0"
    }
  },
  "nbformat": 4,
  "nbformat_minor": 0
}