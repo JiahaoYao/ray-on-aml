{
  "cells": [
    {
      "cell_type": "markdown",
      "source": [
        "### Testing for Interactive use case"
      ],
      "metadata": {}
    },
    {
      "cell_type": "code",
      "source": [
        "# pip install --upgrade ray-on-aml"
      ],
      "outputs": [],
      "execution_count": 13,
      "metadata": {}
    },
    {
      "cell_type": "code",
      "source": [
        "import mlflow\n",
        "from azureml.core import Workspace, Experiment, Environment, Datastore, Dataset, ScriptRunConfig\n",
        "from azureml.core.runconfig import PyTorchConfiguration\n",
        "# from azureml.widgets import RunDetails\n",
        "from azureml.core.compute import ComputeTarget, AmlCompute\n",
        "from azureml.core.compute_target import ComputeTargetException\n",
        "from azureml.core.runconfig import PyTorchConfiguration\n",
        "from azureml.core.environment import Environment\n",
        "from azureml.core.conda_dependencies import CondaDependencies\n",
        "from IPython.display import clear_output\n",
        "import time\n",
        "import platform\n",
        "import sys\n",
        "# sys.path.append(\"../\") # go to parent dir\n",
        "import importlib\n"
      ],
      "outputs": [],
      "execution_count": 6,
      "metadata": {
        "gather": {
          "logged": 1639178777412
        }
      }
    },
    {
      "cell_type": "code",
      "source": [
        "#You can pre-provision \"worker-cpu-v3\" in the same vnet with your compute instance\n",
        "from ray_on_aml.core import Ray_On_AML\n",
        "ws = Workspace.from_config()\n",
        "ray_on_aml =Ray_On_AML(ws=ws, compute_cluster =\"worker-cpu-v3\")\n",
        "_, ray = ray_on_aml.getRay()\n"
      ],
      "outputs": [],
      "execution_count": 17,
      "metadata": {
        "gather": {
          "logged": 1639167793538
        }
      }
    },
    {
      "cell_type": "code",
      "source": [
        "ray.cluster_resources()"
      ],
      "outputs": [
        {
          "output_type": "execute_result",
          "execution_count": 9,
          "data": {
            "text/plain": "{'node:10.0.0.26': 1.0,\n 'CPU': 24.0,\n 'object_store_memory': 24947750089.0,\n 'memory': 56963684356.0,\n 'node:10.0.0.18': 1.0,\n 'node:10.0.0.17': 1.0,\n 'node:10.0.0.21': 1.0,\n 'node:10.0.0.20': 1.0,\n 'node:10.0.0.25': 1.0}"
          },
          "metadata": {}
        }
      ],
      "execution_count": 9,
      "metadata": {}
    },
    {
      "cell_type": "code",
      "source": [
        "# ray_on_aml.shutdown()\n"
      ],
      "outputs": [],
      "execution_count": 17,
      "metadata": {
        "gather": {
          "logged": 1639106683762
        }
      }
    },
    {
      "cell_type": "markdown",
      "source": [
        "### Testing with Dask on Ray"
      ],
      "metadata": {}
    },
    {
      "cell_type": "code",
      "source": [
        "# import ray\n",
        "# ray.init()\n",
        "from ray.util.dask import ray_dask_get\n",
        "import dask\n",
        "import dask.array as da\n",
        "import dask.dataframe as dd\n",
        "import numpy as np\n",
        "import pandas as pd\n",
        "dask.config.set(scheduler=ray_dask_get)\n",
        "d_arr = da.from_array(np.random.randint(0, 1000, size=(256, 256)))\n",
        "\n",
        "# The Dask scheduler submits the underlying task graph to Ray.\n",
        "d_arr.mean().compute(scheduler=ray_dask_get)\n",
        "\n",
        "# Set the scheduler to ray_dask_get in your config so you don't have to\n",
        "# specify it on each compute call.\n",
        "\n",
        "df = dd.from_pandas(\n",
        "    pd.DataFrame(\n",
        "        np.random.randint(0, 10000, size=(1024, 2)), columns=[\"age\", \"grade\"]),\n",
        "    npartitions=2)\n",
        "df.groupby([\"age\"]).mean().compute()\n",
        "\n",
        "# ray.shutdown()"
      ],
      "outputs": [
        {
          "output_type": "stream",
          "name": "stderr",
          "text": "2021-12-11 00:47:10,540\tINFO services.py:1338 -- View the Ray dashboard at \u001b[1m\u001b[32mhttp://127.0.0.1:8266\u001b[39m\u001b[22m\n"
        },
        {
          "output_type": "execute_result",
          "execution_count": 11,
          "data": {
            "text/plain": "       grade\nage         \n5     5610.0\n31    7033.0\n56    9003.5\n57    5911.0\n111   3547.0\n...      ...\n9876  2454.0\n9879  3913.0\n9882  3268.0\n9926  3165.0\n9997  3828.0\n\n[966 rows x 1 columns]",
            "text/html": "<div>\n<style scoped>\n    .dataframe tbody tr th:only-of-type {\n        vertical-align: middle;\n    }\n\n    .dataframe tbody tr th {\n        vertical-align: top;\n    }\n\n    .dataframe thead th {\n        text-align: right;\n    }\n</style>\n<table border=\"1\" class=\"dataframe\">\n  <thead>\n    <tr style=\"text-align: right;\">\n      <th></th>\n      <th>grade</th>\n    </tr>\n    <tr>\n      <th>age</th>\n      <th></th>\n    </tr>\n  </thead>\n  <tbody>\n    <tr>\n      <th>5</th>\n      <td>5610.0</td>\n    </tr>\n    <tr>\n      <th>31</th>\n      <td>7033.0</td>\n    </tr>\n    <tr>\n      <th>56</th>\n      <td>9003.5</td>\n    </tr>\n    <tr>\n      <th>57</th>\n      <td>5911.0</td>\n    </tr>\n    <tr>\n      <th>111</th>\n      <td>3547.0</td>\n    </tr>\n    <tr>\n      <th>...</th>\n      <td>...</td>\n    </tr>\n    <tr>\n      <th>9876</th>\n      <td>2454.0</td>\n    </tr>\n    <tr>\n      <th>9879</th>\n      <td>3913.0</td>\n    </tr>\n    <tr>\n      <th>9882</th>\n      <td>3268.0</td>\n    </tr>\n    <tr>\n      <th>9926</th>\n      <td>3165.0</td>\n    </tr>\n    <tr>\n      <th>9997</th>\n      <td>3828.0</td>\n    </tr>\n  </tbody>\n</table>\n<p>966 rows × 1 columns</p>\n</div>"
          },
          "metadata": {}
        }
      ],
      "execution_count": 11,
      "metadata": {
        "gather": {
          "logged": 1639183635290
        }
      }
    },
    {
      "cell_type": "code",
      "source": [
        "# import dask.dataframe as dd\n",
        "\n",
        "# storage_options = {'account_name': 'azureopendatastorage'}\n",
        "# ddf = dd.read_parquet('az://nyctlc/green/puYear=2019/puMonth=*/*.parquet', storage_options=storage_options)\n",
        "# ddf.count().compute()\n",
        "#This still have error about parquet, need to fix, might be lib version conflict"
      ],
      "outputs": [],
      "execution_count": 13,
      "metadata": {
        "gather": {
          "logged": 1639104458150
        }
      }
    },
    {
      "cell_type": "code",
      "source": [
        "#dask\n",
        "\n",
        "# import ray\n",
        "from ray.util.dask import ray_dask_get\n",
        "import dask\n",
        "import dask.array as da\n",
        "import dask.dataframe as dd\n",
        "import numpy as np\n",
        "import pandas as pd\n",
        "import dask\n",
        "import dask.dataframe as dd\n",
        "import matplotlib.pyplot as plt\n",
        "\n",
        "from datetime import datetime\n",
        "\n",
        "from azureml.core import Workspace, Dataset, Model\n",
        "from adlfs import AzureBlobFileSystem\n",
        "account_key = ws.get_default_keyvault().get_secret(\"adls7-account-key\")\n",
        "account_name=\"adlsgen7\"\n",
        "abfs = AzureBlobFileSystem(account_name=\"adlsgen7\",account_key=account_key,  container_name=\"mltraining\")\n",
        "abfs2 = AzureBlobFileSystem(account_name=\"azureopendatastorage\",  container_name=\"isdweatherdatacontainer\")\n",
        "\n",
        "\n",
        "storage_options={'account_name': account_name, 'account_key': account_key}\n",
        "\n",
        "# ddf = dd.read_parquet('az://mltraining/ISDWeatherDelta/year2008', storage_options=storage_options)\n",
        "\n",
        "data = ray.data.read_parquet(\"az://isdweatherdatacontainer/ISDWeather/year=2009\", filesystem=abfs2)\n",
        "data2 = ray.data.read_parquet(\"az://mltraining/ISDWeatherDelta/year2008\", filesystem=abfs)\n",
        "data.count()"
      ],
      "outputs": [
        {
          "output_type": "stream",
          "name": "stderr",
          "text": "Metadata Fetch Progress: 100%|██████████| 16/16 [00:08<00:00,  1.78it/s]\nMetadata Fetch Progress: 100%|██████████| 8/8 [00:00<00:00, 10.52it/s]\n"
        },
        {
          "output_type": "execute_result",
          "execution_count": 11,
          "data": {
            "text/plain": "98904376"
          },
          "metadata": {}
        }
      ],
      "execution_count": 11,
      "metadata": {
        "gather": {
          "logged": 1639106144831
        }
      }
    },
    {
      "cell_type": "markdown",
      "source": [
        "### Testing Ray Tune for distributed ML tunning"
      ],
      "metadata": {}
    },
    {
      "cell_type": "code",
      "source": [
        "import numpy as np\n",
        "import torch\n",
        "import torch.optim as optim\n",
        "import torch.nn as nn\n",
        "from torchvision import datasets, transforms\n",
        "from torch.utils.data import DataLoader\n",
        "import torch.nn.functional as F\n",
        "# import ray\n",
        "from ray import tune\n",
        "from ray.tune.schedulers import ASHAScheduler\n",
        "class ConvNet(nn.Module):\n",
        "    def __init__(self):\n",
        "        super(ConvNet, self).__init__()\n",
        "        # In this example, we don't change the model architecture\n",
        "        # due to simplicity.\n",
        "        self.conv1 = nn.Conv2d(1, 3, kernel_size=3)\n",
        "        self.fc = nn.Linear(192, 10)\n",
        "\n",
        "    def forward(self, x):\n",
        "        x = F.relu(F.max_pool2d(self.conv1(x), 3))\n",
        "        x = x.view(-1, 192)\n",
        "        x = self.fc(x)\n",
        "        return F.log_softmax(x, dim=1)\n",
        "# Change these values if you want the training to run quicker or slower.\n",
        "EPOCH_SIZE = 512\n",
        "TEST_SIZE = 256\n",
        "\n",
        "def train(model, optimizer, train_loader):\n",
        "    device = torch.device(\"cuda\" if torch.cuda.is_available() else \"cpu\")\n",
        "    model.train()\n",
        "    for batch_idx, (data, target) in enumerate(train_loader):\n",
        "        # We set this just for the example to run quickly.\n",
        "        if batch_idx * len(data) > EPOCH_SIZE:\n",
        "            return\n",
        "        data, target = data.to(device), target.to(device)\n",
        "        optimizer.zero_grad()\n",
        "        output = model(data)\n",
        "        loss = F.nll_loss(output, target)\n",
        "        loss.backward()\n",
        "        optimizer.step()\n",
        "\n",
        "\n",
        "def test(model, data_loader):\n",
        "    device = torch.device(\"cuda\" if torch.cuda.is_available() else \"cpu\")\n",
        "    model.eval()\n",
        "    correct = 0\n",
        "    total = 0\n",
        "    with torch.no_grad():\n",
        "        for batch_idx, (data, target) in enumerate(data_loader):\n",
        "            # We set this just for the example to run quickly.\n",
        "            if batch_idx * len(data) > TEST_SIZE:\n",
        "                break\n",
        "            data, target = data.to(device), target.to(device)\n",
        "            outputs = model(data)\n",
        "            _, predicted = torch.max(outputs.data, 1)\n",
        "            total += target.size(0)\n",
        "            correct += (predicted == target).sum().item()\n",
        "\n",
        "    return correct / total\n",
        "def train_mnist(config):\n",
        "    # Data Setup\n",
        "    mnist_transforms = transforms.Compose(\n",
        "        [transforms.ToTensor(),\n",
        "         transforms.Normalize((0.1307, ), (0.3081, ))])\n",
        "\n",
        "    train_loader = DataLoader(\n",
        "        datasets.MNIST(\"~/data\", train=True, download=True, transform=mnist_transforms),\n",
        "        batch_size=64,\n",
        "        shuffle=True)\n",
        "    test_loader = DataLoader(\n",
        "        datasets.MNIST(\"~/data\", train=False, transform=mnist_transforms),\n",
        "        batch_size=64,\n",
        "        shuffle=True)\n",
        "\n",
        "    device = torch.device(\"cuda\" if torch.cuda.is_available() else \"cpu\")\n",
        "\n",
        "    model = ConvNet()\n",
        "    model.to(device)\n",
        "\n",
        "    optimizer = optim.SGD(\n",
        "        model.parameters(), lr=config[\"lr\"], momentum=config[\"momentum\"])\n",
        "    for i in range(10):\n",
        "        train(model, optimizer, train_loader)\n",
        "        acc = test(model, test_loader)\n",
        "\n",
        "        # Send the current training result back to Tune\n",
        "        tune.report(mean_accuracy=acc)\n",
        "\n",
        "        if i % 5 == 0:\n",
        "            # This saves the model to the trial directory\n",
        "            torch.save(model.state_dict(), \"./model.pth\")\n",
        "search_space = {\n",
        "    \"lr\": tune.sample_from(lambda spec: 10**(-10 * np.random.rand())),\n",
        "    \"momentum\": tune.uniform(0.01, 0.09)\n",
        "}\n",
        "\n",
        "# Uncomment this to enable distributed execution\n",
        "# ray.shutdown()\n",
        "# ray.init(address=\"auto\",ignore_reinit_error=True)\n",
        "# ray.init(address =f'ray://{headnode_private_ip}:10001',allow_multiple=True,ignore_reinit_error=True )\n",
        "# Download the dataset first\n",
        "datasets.MNIST(\"~/data\", train=True, download=True)\n",
        "\n",
        "analysis = tune.run(train_mnist, config=search_space)\n"
      ],
      "outputs": [
        {
          "output_type": "stream",
          "name": "stderr",
          "text": "2021-12-11 00:47:49,763\tWARNING function_runner.py:561 -- Function checkpointing is disabled. This may result in unexpected behavior when using checkpointing features or certain schedulers. To enable, set the train function arguments to be `func(config, checkpoint_dir=None)`.\n2021-12-11 00:47:49,782\tINFO logger.py:605 -- pip install \"ray[tune]\" to see TensorBoard files.\n2021-12-11 00:47:49,783\tWARNING callback.py:114 -- The TensorboardX logger cannot be instantiated because either TensorboardX or one of it's dependencies is not installed. Please make sure you have the latest version of TensorboardX installed: `pip install -U tensorboardx`\n"
        },
        {
          "output_type": "display_data",
          "data": {
            "text/plain": "<IPython.core.display.HTML object>",
            "text/html": "== Status ==<br>Current time: 2021-12-11 00:47:50 (running for 00:00:01.08)<br>Memory usage on this node: 4.3/13.7 GiB<br>Using FIFO scheduling algorithm.<br>Resources requested: 1.0/4 CPUs, 0/0 GPUs, 0.0/6.37 GiB heap, 0.0/3.19 GiB objects<br>Result logdir: /home/azureuser/ray_results/train_mnist_2021-12-11_00-47-49<br>Number of trials: 1/1 (1 RUNNING)<br><table>\n<thead>\n<tr><th>Trial name             </th><th>status  </th><th>loc            </th><th style=\"text-align: right;\">      lr</th><th style=\"text-align: right;\">  momentum</th></tr>\n</thead>\n<tbody>\n<tr><td>train_mnist_f7183_00000</td><td>RUNNING </td><td>10.0.0.26:17429</td><td style=\"text-align: right;\">0.624708</td><td style=\"text-align: right;\"> 0.0506789</td></tr>\n</tbody>\n</table><br><br>"
          },
          "metadata": {}
        },
        {
          "output_type": "stream",
          "name": "stderr",
          "text": "\u001b[2m\u001b[36m(ImplicitFunc pid=17429)\u001b[0m /anaconda/envs/azureml_py38/lib/python3.8/site-packages/torch/nn/functional.py:718: UserWarning: Named tensors and all their associated APIs are an experimental feature and subject to change. Please do not use them for anything important until they are released as stable. (Triggered internally at  /opt/conda/conda-bld/pytorch_1623448234945/work/c10/core/TensorImpl.h:1156.)\n\u001b[2m\u001b[36m(ImplicitFunc pid=17429)\u001b[0m   return torch.max_pool2d(input, kernel_size, stride, padding, dilation, ceil_mode)\n"
        },
        {
          "output_type": "stream",
          "name": "stdout",
          "text": "Result for train_mnist_f7183_00000:\n  date: 2021-12-11_00-47-52\n  done: false\n  experiment_id: dba54bd10afc46d5971f8a43831ee34c\n  hostname: janguy1\n  iterations_since_restore: 1\n  mean_accuracy: 0.025\n  node_ip: 10.0.0.26\n  pid: 17429\n  time_since_restore: 1.3808343410491943\n  time_this_iter_s: 1.3808343410491943\n  time_total_s: 1.3808343410491943\n  timestamp: 1639183672\n  timesteps_since_restore: 0\n  training_iteration: 1\n  trial_id: f7183_00000\n  \nResult for train_mnist_f7183_00000:\n  date: 2021-12-11_00-47-54\n  done: true\n  experiment_id: dba54bd10afc46d5971f8a43831ee34c\n  experiment_tag: 0_lr=0.62471,momentum=0.050679\n  hostname: janguy1\n  iterations_since_restore: 10\n  mean_accuracy: 0.115625\n  node_ip: 10.0.0.26\n  pid: 17429\n  time_since_restore: 3.5196287631988525\n  time_this_iter_s: 0.229386568069458\n  time_total_s: 3.5196287631988525\n  timestamp: 1639183674\n  timesteps_since_restore: 0\n  training_iteration: 10\n  trial_id: f7183_00000\n  \n"
        },
        {
          "output_type": "display_data",
          "data": {
            "text/plain": "<IPython.core.display.HTML object>",
            "text/html": "== Status ==<br>Current time: 2021-12-11 00:47:54 (running for 00:00:04.61)<br>Memory usage on this node: 4.3/13.7 GiB<br>Using FIFO scheduling algorithm.<br>Resources requested: 0/4 CPUs, 0/0 GPUs, 0.0/6.37 GiB heap, 0.0/3.19 GiB objects<br>Result logdir: /home/azureuser/ray_results/train_mnist_2021-12-11_00-47-49<br>Number of trials: 1/1 (1 TERMINATED)<br><table>\n<thead>\n<tr><th>Trial name             </th><th>status    </th><th>loc            </th><th style=\"text-align: right;\">      lr</th><th style=\"text-align: right;\">  momentum</th><th style=\"text-align: right;\">     acc</th><th style=\"text-align: right;\">  iter</th><th style=\"text-align: right;\">  total time (s)</th></tr>\n</thead>\n<tbody>\n<tr><td>train_mnist_f7183_00000</td><td>TERMINATED</td><td>10.0.0.26:17429</td><td style=\"text-align: right;\">0.624708</td><td style=\"text-align: right;\"> 0.0506789</td><td style=\"text-align: right;\">0.115625</td><td style=\"text-align: right;\">    10</td><td style=\"text-align: right;\">         3.51963</td></tr>\n</tbody>\n</table><br><br>"
          },
          "metadata": {}
        },
        {
          "output_type": "stream",
          "name": "stderr",
          "text": "2021-12-11 00:47:54,511\tINFO tune.py:626 -- Total run time: 4.75 seconds (4.60 seconds for the tuning loop).\n"
        }
      ],
      "execution_count": 12,
      "metadata": {
        "gather": {
          "logged": 1639183675204
        }
      }
    },
    {
      "cell_type": "code",
      "source": [
        " import sklearn.datasets\n",
        " import sklearn.metrics\n",
        " from sklearn.model_selection import train_test_split\n",
        " import xgboost as xgb\n",
        "\n",
        " from ray import tune\n",
        "\n",
        "\n",
        " def train_breast_cancer(config):\n",
        "     # Load dataset\n",
        "     data, labels = sklearn.datasets.load_breast_cancer(return_X_y=True)\n",
        "     # Split into train and test set\n",
        "     train_x, test_x, train_y, test_y = train_test_split(\n",
        "         data, labels, test_size=0.25)\n",
        "     # Build input matrices for XGBoost\n",
        "     train_set = xgb.DMatrix(train_x, label=train_y)\n",
        "     test_set = xgb.DMatrix(test_x, label=test_y)\n",
        "     # Train the classifier\n",
        "     results = {}\n",
        "     xgb.train(\n",
        "         config,\n",
        "         train_set,\n",
        "         evals=[(test_set, \"eval\")],\n",
        "         evals_result=results,\n",
        "         verbose_eval=False)\n",
        "     # Return prediction accuracy\n",
        "     accuracy = 1. - results[\"eval\"][\"error\"][-1]\n",
        "     tune.report(mean_accuracy=accuracy, done=True)\n",
        "\n",
        "\n",
        " config = {\n",
        "     \"objective\": \"binary:logistic\",\n",
        "     \"eval_metric\": [\"logloss\", \"error\"],\n",
        "     \"max_depth\": tune.randint(1, 9),\n",
        "     \"min_child_weight\": tune.choice([1, 2, 3]),\n",
        "     \"subsample\": tune.uniform(0.5, 1.0),\n",
        "     \"eta\": tune.loguniform(1e-4, 1e-1)\n",
        " }\n",
        " analysis = tune.run(\n",
        "     train_breast_cancer,\n",
        "     resources_per_trial={\"cpu\": 1},\n",
        "     config=config,\n",
        "     num_samples=10)\n"
      ],
      "outputs": [
        {
          "output_type": "stream",
          "name": "stderr",
          "text": "2021-12-11 00:48:43,165\tWARNING callback.py:114 -- The TensorboardX logger cannot be instantiated because either TensorboardX or one of it's dependencies is not installed. Please make sure you have the latest version of TensorboardX installed: `pip install -U tensorboardx`\n"
        },
        {
          "output_type": "display_data",
          "data": {
            "text/plain": "<IPython.core.display.HTML object>",
            "text/html": "== Status ==<br>Current time: 2021-12-11 00:48:44 (running for 00:00:00.90)<br>Memory usage on this node: 4.1/13.7 GiB<br>Using FIFO scheduling algorithm.<br>Resources requested: 1.0/4 CPUs, 0/0 GPUs, 0.0/6.37 GiB heap, 0.0/3.19 GiB objects<br>Result logdir: /home/azureuser/ray_results/train_breast_cancer_2021-12-11_00-48-43<br>Number of trials: 10/10 (9 PENDING, 1 RUNNING)<br><table>\n<thead>\n<tr><th>Trial name                     </th><th>status  </th><th>loc            </th><th style=\"text-align: right;\">        eta</th><th style=\"text-align: right;\">  max_depth</th><th style=\"text-align: right;\">  min_child_weight</th><th style=\"text-align: right;\">  subsample</th></tr>\n</thead>\n<tbody>\n<tr><td>train_breast_cancer_16e9d_00000</td><td>RUNNING </td><td>10.0.0.26:17428</td><td style=\"text-align: right;\">0.00614327 </td><td style=\"text-align: right;\">          4</td><td style=\"text-align: right;\">                 2</td><td style=\"text-align: right;\">   0.691106</td></tr>\n<tr><td>train_breast_cancer_16e9d_00001</td><td>PENDING </td><td>               </td><td style=\"text-align: right;\">0.00568519 </td><td style=\"text-align: right;\">          8</td><td style=\"text-align: right;\">                 2</td><td style=\"text-align: right;\">   0.970368</td></tr>\n<tr><td>train_breast_cancer_16e9d_00002</td><td>PENDING </td><td>               </td><td style=\"text-align: right;\">0.00533281 </td><td style=\"text-align: right;\">          2</td><td style=\"text-align: right;\">                 2</td><td style=\"text-align: right;\">   0.591415</td></tr>\n<tr><td>train_breast_cancer_16e9d_00003</td><td>PENDING </td><td>               </td><td style=\"text-align: right;\">0.00125831 </td><td style=\"text-align: right;\">          4</td><td style=\"text-align: right;\">                 1</td><td style=\"text-align: right;\">   0.571634</td></tr>\n<tr><td>train_breast_cancer_16e9d_00004</td><td>PENDING </td><td>               </td><td style=\"text-align: right;\">0.00762085 </td><td style=\"text-align: right;\">          5</td><td style=\"text-align: right;\">                 2</td><td style=\"text-align: right;\">   0.620571</td></tr>\n<tr><td>train_breast_cancer_16e9d_00005</td><td>PENDING </td><td>               </td><td style=\"text-align: right;\">0.0122729  </td><td style=\"text-align: right;\">          8</td><td style=\"text-align: right;\">                 2</td><td style=\"text-align: right;\">   0.538666</td></tr>\n<tr><td>train_breast_cancer_16e9d_00006</td><td>PENDING </td><td>               </td><td style=\"text-align: right;\">0.00054504 </td><td style=\"text-align: right;\">          7</td><td style=\"text-align: right;\">                 2</td><td style=\"text-align: right;\">   0.631806</td></tr>\n<tr><td>train_breast_cancer_16e9d_00007</td><td>PENDING </td><td>               </td><td style=\"text-align: right;\">0.000159952</td><td style=\"text-align: right;\">          2</td><td style=\"text-align: right;\">                 2</td><td style=\"text-align: right;\">   0.722614</td></tr>\n<tr><td>train_breast_cancer_16e9d_00008</td><td>PENDING </td><td>               </td><td style=\"text-align: right;\">0.00341512 </td><td style=\"text-align: right;\">          2</td><td style=\"text-align: right;\">                 2</td><td style=\"text-align: right;\">   0.881959</td></tr>\n<tr><td>train_breast_cancer_16e9d_00009</td><td>PENDING </td><td>               </td><td style=\"text-align: right;\">0.000112983</td><td style=\"text-align: right;\">          8</td><td style=\"text-align: right;\">                 2</td><td style=\"text-align: right;\">   0.773099</td></tr>\n</tbody>\n</table><br><br>"
          },
          "metadata": {}
        },
        {
          "output_type": "stream",
          "name": "stdout",
          "text": "Result for train_breast_cancer_16e9d_00000:\n  date: 2021-12-11_00-48-45\n  done: true\n  experiment_id: 85e61e482ff1480daa2bef04b2d6066d\n  hostname: janguy1\n  iterations_since_restore: 1\n  mean_accuracy: 0.951049\n  node_ip: 10.0.0.26\n  pid: 17428\n  time_since_restore: 1.6287903785705566\n  time_this_iter_s: 1.6287903785705566\n  time_total_s: 1.6287903785705566\n  timestamp: 1639183725\n  timesteps_since_restore: 0\n  training_iteration: 1\n  trial_id: 16e9d_00000\n  \nResult for train_breast_cancer_16e9d_00002:\n  date: 2021-12-11_00-48-46\n  done: true\n  experiment_id: 83d41d6adf2e4609a4b81564a57fb346\n  hostname: janguy1\n  iterations_since_restore: 1\n  mean_accuracy: 0.916084\n  node_ip: 10.0.0.26\n  pid: 17426\n  time_since_restore: 1.4918522834777832\n  time_this_iter_s: 1.4918522834777832\n  time_total_s: 1.4918522834777832\n  timestamp: 1639183726\n  timesteps_since_restore: 0\n  training_iteration: 1\n  trial_id: 16e9d_00002\n  \nResult for train_breast_cancer_16e9d_00001:\n  date: 2021-12-11_00-48-46\n  done: true\n  experiment_id: 69d106dbe39e4b2bb9246e95af4586b9\n  hostname: janguy1\n  iterations_since_restore: 1\n  mean_accuracy: 0.958042\n  node_ip: 10.0.0.26\n  pid: 17427\n  time_since_restore: 1.9533255100250244\n  time_this_iter_s: 1.9533255100250244\n  time_total_s: 1.9533255100250244\n  timestamp: 1639183726\n  timesteps_since_restore: 0\n  training_iteration: 1\n  trial_id: 16e9d_00001\n  \n"
        },
        {
          "output_type": "display_data",
          "data": {
            "text/plain": "<IPython.core.display.HTML object>",
            "text/html": "== Status ==<br>Current time: 2021-12-11 00:48:49 (running for 00:00:06.38)<br>Memory usage on this node: 4.3/13.7 GiB<br>Using FIFO scheduling algorithm.<br>Resources requested: 4.0/4 CPUs, 0/0 GPUs, 0.0/6.37 GiB heap, 0.0/3.19 GiB objects<br>Result logdir: /home/azureuser/ray_results/train_breast_cancer_2021-12-11_00-48-43<br>Number of trials: 10/10 (3 PENDING, 4 RUNNING, 3 TERMINATED)<br><table>\n<thead>\n<tr><th>Trial name                     </th><th>status    </th><th>loc            </th><th style=\"text-align: right;\">        eta</th><th style=\"text-align: right;\">  max_depth</th><th style=\"text-align: right;\">  min_child_weight</th><th style=\"text-align: right;\">  subsample</th><th style=\"text-align: right;\">     acc</th><th style=\"text-align: right;\">  iter</th><th style=\"text-align: right;\">  total time (s)</th></tr>\n</thead>\n<tbody>\n<tr><td>train_breast_cancer_16e9d_00003</td><td>RUNNING   </td><td>10.0.0.26:17746</td><td style=\"text-align: right;\">0.00125831 </td><td style=\"text-align: right;\">          4</td><td style=\"text-align: right;\">                 1</td><td style=\"text-align: right;\">   0.571634</td><td style=\"text-align: right;\">        </td><td style=\"text-align: right;\">      </td><td style=\"text-align: right;\">                </td></tr>\n<tr><td>train_breast_cancer_16e9d_00004</td><td>RUNNING   </td><td>10.0.0.26:18030</td><td style=\"text-align: right;\">0.00762085 </td><td style=\"text-align: right;\">          5</td><td style=\"text-align: right;\">                 2</td><td style=\"text-align: right;\">   0.620571</td><td style=\"text-align: right;\">        </td><td style=\"text-align: right;\">      </td><td style=\"text-align: right;\">                </td></tr>\n<tr><td>train_breast_cancer_16e9d_00005</td><td>RUNNING   </td><td>10.0.0.26:18032</td><td style=\"text-align: right;\">0.0122729  </td><td style=\"text-align: right;\">          8</td><td style=\"text-align: right;\">                 2</td><td style=\"text-align: right;\">   0.538666</td><td style=\"text-align: right;\">        </td><td style=\"text-align: right;\">      </td><td style=\"text-align: right;\">                </td></tr>\n<tr><td>train_breast_cancer_16e9d_00006</td><td>RUNNING   </td><td>10.0.0.26:18060</td><td style=\"text-align: right;\">0.00054504 </td><td style=\"text-align: right;\">          7</td><td style=\"text-align: right;\">                 2</td><td style=\"text-align: right;\">   0.631806</td><td style=\"text-align: right;\">        </td><td style=\"text-align: right;\">      </td><td style=\"text-align: right;\">                </td></tr>\n<tr><td>train_breast_cancer_16e9d_00007</td><td>PENDING   </td><td>               </td><td style=\"text-align: right;\">0.000159952</td><td style=\"text-align: right;\">          2</td><td style=\"text-align: right;\">                 2</td><td style=\"text-align: right;\">   0.722614</td><td style=\"text-align: right;\">        </td><td style=\"text-align: right;\">      </td><td style=\"text-align: right;\">                </td></tr>\n<tr><td>train_breast_cancer_16e9d_00008</td><td>PENDING   </td><td>               </td><td style=\"text-align: right;\">0.00341512 </td><td style=\"text-align: right;\">          2</td><td style=\"text-align: right;\">                 2</td><td style=\"text-align: right;\">   0.881959</td><td style=\"text-align: right;\">        </td><td style=\"text-align: right;\">      </td><td style=\"text-align: right;\">                </td></tr>\n<tr><td>train_breast_cancer_16e9d_00009</td><td>PENDING   </td><td>               </td><td style=\"text-align: right;\">0.000112983</td><td style=\"text-align: right;\">          8</td><td style=\"text-align: right;\">                 2</td><td style=\"text-align: right;\">   0.773099</td><td style=\"text-align: right;\">        </td><td style=\"text-align: right;\">      </td><td style=\"text-align: right;\">                </td></tr>\n<tr><td>train_breast_cancer_16e9d_00000</td><td>TERMINATED</td><td>10.0.0.26:17428</td><td style=\"text-align: right;\">0.00614327 </td><td style=\"text-align: right;\">          4</td><td style=\"text-align: right;\">                 2</td><td style=\"text-align: right;\">   0.691106</td><td style=\"text-align: right;\">0.951049</td><td style=\"text-align: right;\">     1</td><td style=\"text-align: right;\">         1.62879</td></tr>\n<tr><td>train_breast_cancer_16e9d_00001</td><td>TERMINATED</td><td>10.0.0.26:17427</td><td style=\"text-align: right;\">0.00568519 </td><td style=\"text-align: right;\">          8</td><td style=\"text-align: right;\">                 2</td><td style=\"text-align: right;\">   0.970368</td><td style=\"text-align: right;\">0.958042</td><td style=\"text-align: right;\">     1</td><td style=\"text-align: right;\">         1.95333</td></tr>\n<tr><td>train_breast_cancer_16e9d_00002</td><td>TERMINATED</td><td>10.0.0.26:17426</td><td style=\"text-align: right;\">0.00533281 </td><td style=\"text-align: right;\">          2</td><td style=\"text-align: right;\">                 2</td><td style=\"text-align: right;\">   0.591415</td><td style=\"text-align: right;\">0.916084</td><td style=\"text-align: right;\">     1</td><td style=\"text-align: right;\">         1.49185</td></tr>\n</tbody>\n</table><br><br>"
          },
          "metadata": {}
        },
        {
          "output_type": "stream",
          "name": "stdout",
          "text": "Result for train_breast_cancer_16e9d_00003:\n  date: 2021-12-11_00-48-49\n  done: true\n  experiment_id: c96e5ee2578e49cf8090a12483731761\n  hostname: janguy1\n  iterations_since_restore: 1\n  mean_accuracy: 0.923077\n  node_ip: 10.0.0.26\n  pid: 17746\n  time_since_restore: 1.8323750495910645\n  time_this_iter_s: 1.8323750495910645\n  time_total_s: 1.8323750495910645\n  timestamp: 1639183729\n  timesteps_since_restore: 0\n  training_iteration: 1\n  trial_id: 16e9d_00003\n  \nResult for train_breast_cancer_16e9d_00004:\n  date: 2021-12-11_00-48-49\n  done: true\n  experiment_id: 9883561f17524dd7a81fc8376fe135a7\n  hostname: janguy1\n  iterations_since_restore: 1\n  mean_accuracy: 0.944056\n  node_ip: 10.0.0.26\n  pid: 18030\n  time_since_restore: 1.1165332794189453\n  time_this_iter_s: 1.1165332794189453\n  time_total_s: 1.1165332794189453\n  timestamp: 1639183729\n  timesteps_since_restore: 0\n  training_iteration: 1\n  trial_id: 16e9d_00004\n  \nResult for train_breast_cancer_16e9d_00005:\n  date: 2021-12-11_00-48-50\n  done: true\n  experiment_id: 166881babc0f4215bc29f1df138b4b72\n  hostname: janguy1\n  iterations_since_restore: 1\n  mean_accuracy: 0.937063\n  node_ip: 10.0.0.26\n  pid: 18032\n  time_since_restore: 1.5779509544372559\n  time_this_iter_s: 1.5779509544372559\n  time_total_s: 1.5779509544372559\n  timestamp: 1639183730\n  timesteps_since_restore: 0\n  training_iteration: 1\n  trial_id: 16e9d_00005\n  \nResult for train_breast_cancer_16e9d_00006:\n  date: 2021-12-11_00-48-51\n  done: true\n  experiment_id: 07a75a9eeac445d0b077b5632e8d3d4c\n  hostname: janguy1\n  iterations_since_restore: 1\n  mean_accuracy: 0.937063\n  node_ip: 10.0.0.26\n  pid: 18060\n  time_since_restore: 1.9091403484344482\n  time_this_iter_s: 1.9091403484344482\n  time_total_s: 1.9091403484344482\n  timestamp: 1639183731\n  timesteps_since_restore: 0\n  training_iteration: 1\n  trial_id: 16e9d_00006\n  \nResult for train_breast_cancer_16e9d_00007:\n  date: 2021-12-11_00-48-53\n  done: true\n  experiment_id: 0a9d4b041d1e4095a3706e479126c692\n  hostname: janguy1\n  iterations_since_restore: 1\n  mean_accuracy: 0.937063\n  node_ip: 10.0.0.26\n  pid: 18379\n  time_since_restore: 0.8415091037750244\n  time_this_iter_s: 0.8415091037750244\n  time_total_s: 0.8415091037750244\n  timestamp: 1639183733\n  timesteps_since_restore: 0\n  training_iteration: 1\n  trial_id: 16e9d_00007\n  \nResult for train_breast_cancer_16e9d_00008:\n  date: 2021-12-11_00-48-53\n  done: true\n  experiment_id: 3b628de2ac174b68b0c161f3422a2136\n  hostname: janguy1\n  iterations_since_restore: 1\n  mean_accuracy: 0.937063\n  node_ip: 10.0.0.26\n  pid: 18437\n  time_since_restore: 0.5176243782043457\n  time_this_iter_s: 0.5176243782043457\n  time_total_s: 0.5176243782043457\n  timestamp: 1639183733\n  timesteps_since_restore: 0\n  training_iteration: 1\n  trial_id: 16e9d_00008\n  \nResult for train_breast_cancer_16e9d_00009:\n  date: 2021-12-11_00-48-53\n  done: true\n  experiment_id: 4b77f0bf9ea242469066ec4de15a91c2\n  hostname: janguy1\n  iterations_since_restore: 1\n  mean_accuracy: 0.93007\n  node_ip: 10.0.0.26\n  pid: 18497\n  time_since_restore: 0.3039987087249756\n  time_this_iter_s: 0.3039987087249756\n  time_total_s: 0.3039987087249756\n  timestamp: 1639183733\n  timesteps_since_restore: 0\n  training_iteration: 1\n  trial_id: 16e9d_00009\n  \n"
        },
        {
          "output_type": "display_data",
          "data": {
            "text/plain": "<IPython.core.display.HTML object>",
            "text/html": "== Status ==<br>Current time: 2021-12-11 00:48:53 (running for 00:00:10.38)<br>Memory usage on this node: 3.9/13.7 GiB<br>Using FIFO scheduling algorithm.<br>Resources requested: 0/4 CPUs, 0/0 GPUs, 0.0/6.37 GiB heap, 0.0/3.19 GiB objects<br>Result logdir: /home/azureuser/ray_results/train_breast_cancer_2021-12-11_00-48-43<br>Number of trials: 10/10 (10 TERMINATED)<br><table>\n<thead>\n<tr><th>Trial name                     </th><th>status    </th><th>loc            </th><th style=\"text-align: right;\">        eta</th><th style=\"text-align: right;\">  max_depth</th><th style=\"text-align: right;\">  min_child_weight</th><th style=\"text-align: right;\">  subsample</th><th style=\"text-align: right;\">     acc</th><th style=\"text-align: right;\">  iter</th><th style=\"text-align: right;\">  total time (s)</th></tr>\n</thead>\n<tbody>\n<tr><td>train_breast_cancer_16e9d_00000</td><td>TERMINATED</td><td>10.0.0.26:17428</td><td style=\"text-align: right;\">0.00614327 </td><td style=\"text-align: right;\">          4</td><td style=\"text-align: right;\">                 2</td><td style=\"text-align: right;\">   0.691106</td><td style=\"text-align: right;\">0.951049</td><td style=\"text-align: right;\">     1</td><td style=\"text-align: right;\">        1.62879 </td></tr>\n<tr><td>train_breast_cancer_16e9d_00001</td><td>TERMINATED</td><td>10.0.0.26:17427</td><td style=\"text-align: right;\">0.00568519 </td><td style=\"text-align: right;\">          8</td><td style=\"text-align: right;\">                 2</td><td style=\"text-align: right;\">   0.970368</td><td style=\"text-align: right;\">0.958042</td><td style=\"text-align: right;\">     1</td><td style=\"text-align: right;\">        1.95333 </td></tr>\n<tr><td>train_breast_cancer_16e9d_00002</td><td>TERMINATED</td><td>10.0.0.26:17426</td><td style=\"text-align: right;\">0.00533281 </td><td style=\"text-align: right;\">          2</td><td style=\"text-align: right;\">                 2</td><td style=\"text-align: right;\">   0.591415</td><td style=\"text-align: right;\">0.916084</td><td style=\"text-align: right;\">     1</td><td style=\"text-align: right;\">        1.49185 </td></tr>\n<tr><td>train_breast_cancer_16e9d_00003</td><td>TERMINATED</td><td>10.0.0.26:17746</td><td style=\"text-align: right;\">0.00125831 </td><td style=\"text-align: right;\">          4</td><td style=\"text-align: right;\">                 1</td><td style=\"text-align: right;\">   0.571634</td><td style=\"text-align: right;\">0.923077</td><td style=\"text-align: right;\">     1</td><td style=\"text-align: right;\">        1.83238 </td></tr>\n<tr><td>train_breast_cancer_16e9d_00004</td><td>TERMINATED</td><td>10.0.0.26:18030</td><td style=\"text-align: right;\">0.00762085 </td><td style=\"text-align: right;\">          5</td><td style=\"text-align: right;\">                 2</td><td style=\"text-align: right;\">   0.620571</td><td style=\"text-align: right;\">0.944056</td><td style=\"text-align: right;\">     1</td><td style=\"text-align: right;\">        1.11653 </td></tr>\n<tr><td>train_breast_cancer_16e9d_00005</td><td>TERMINATED</td><td>10.0.0.26:18032</td><td style=\"text-align: right;\">0.0122729  </td><td style=\"text-align: right;\">          8</td><td style=\"text-align: right;\">                 2</td><td style=\"text-align: right;\">   0.538666</td><td style=\"text-align: right;\">0.937063</td><td style=\"text-align: right;\">     1</td><td style=\"text-align: right;\">        1.57795 </td></tr>\n<tr><td>train_breast_cancer_16e9d_00006</td><td>TERMINATED</td><td>10.0.0.26:18060</td><td style=\"text-align: right;\">0.00054504 </td><td style=\"text-align: right;\">          7</td><td style=\"text-align: right;\">                 2</td><td style=\"text-align: right;\">   0.631806</td><td style=\"text-align: right;\">0.937063</td><td style=\"text-align: right;\">     1</td><td style=\"text-align: right;\">        1.90914 </td></tr>\n<tr><td>train_breast_cancer_16e9d_00007</td><td>TERMINATED</td><td>10.0.0.26:18379</td><td style=\"text-align: right;\">0.000159952</td><td style=\"text-align: right;\">          2</td><td style=\"text-align: right;\">                 2</td><td style=\"text-align: right;\">   0.722614</td><td style=\"text-align: right;\">0.937063</td><td style=\"text-align: right;\">     1</td><td style=\"text-align: right;\">        0.841509</td></tr>\n<tr><td>train_breast_cancer_16e9d_00008</td><td>TERMINATED</td><td>10.0.0.26:18437</td><td style=\"text-align: right;\">0.00341512 </td><td style=\"text-align: right;\">          2</td><td style=\"text-align: right;\">                 2</td><td style=\"text-align: right;\">   0.881959</td><td style=\"text-align: right;\">0.937063</td><td style=\"text-align: right;\">     1</td><td style=\"text-align: right;\">        0.517624</td></tr>\n<tr><td>train_breast_cancer_16e9d_00009</td><td>TERMINATED</td><td>10.0.0.26:18497</td><td style=\"text-align: right;\">0.000112983</td><td style=\"text-align: right;\">          8</td><td style=\"text-align: right;\">                 2</td><td style=\"text-align: right;\">   0.773099</td><td style=\"text-align: right;\">0.93007 </td><td style=\"text-align: right;\">     1</td><td style=\"text-align: right;\">        0.303999</td></tr>\n</tbody>\n</table><br><br>"
          },
          "metadata": {}
        },
        {
          "output_type": "display_data",
          "data": {
            "text/plain": "<IPython.core.display.HTML object>",
            "text/html": "== Status ==<br>Current time: 2021-12-11 00:48:53 (running for 00:00:10.34)<br>Memory usage on this node: 3.9/13.7 GiB<br>Using FIFO scheduling algorithm.<br>Resources requested: 1.0/4 CPUs, 0/0 GPUs, 0.0/6.37 GiB heap, 0.0/3.19 GiB objects<br>Result logdir: /home/azureuser/ray_results/train_breast_cancer_2021-12-11_00-48-43<br>Number of trials: 10/10 (1 RUNNING, 9 TERMINATED)<br><table>\n<thead>\n<tr><th>Trial name                     </th><th>status    </th><th>loc            </th><th style=\"text-align: right;\">        eta</th><th style=\"text-align: right;\">  max_depth</th><th style=\"text-align: right;\">  min_child_weight</th><th style=\"text-align: right;\">  subsample</th><th style=\"text-align: right;\">     acc</th><th style=\"text-align: right;\">  iter</th><th style=\"text-align: right;\">  total time (s)</th></tr>\n</thead>\n<tbody>\n<tr><td>train_breast_cancer_16e9d_00009</td><td>RUNNING   </td><td>10.0.0.26:18497</td><td style=\"text-align: right;\">0.000112983</td><td style=\"text-align: right;\">          8</td><td style=\"text-align: right;\">                 2</td><td style=\"text-align: right;\">   0.773099</td><td style=\"text-align: right;\">        </td><td style=\"text-align: right;\">      </td><td style=\"text-align: right;\">                </td></tr>\n<tr><td>train_breast_cancer_16e9d_00000</td><td>TERMINATED</td><td>10.0.0.26:17428</td><td style=\"text-align: right;\">0.00614327 </td><td style=\"text-align: right;\">          4</td><td style=\"text-align: right;\">                 2</td><td style=\"text-align: right;\">   0.691106</td><td style=\"text-align: right;\">0.951049</td><td style=\"text-align: right;\">     1</td><td style=\"text-align: right;\">        1.62879 </td></tr>\n<tr><td>train_breast_cancer_16e9d_00001</td><td>TERMINATED</td><td>10.0.0.26:17427</td><td style=\"text-align: right;\">0.00568519 </td><td style=\"text-align: right;\">          8</td><td style=\"text-align: right;\">                 2</td><td style=\"text-align: right;\">   0.970368</td><td style=\"text-align: right;\">0.958042</td><td style=\"text-align: right;\">     1</td><td style=\"text-align: right;\">        1.95333 </td></tr>\n<tr><td>train_breast_cancer_16e9d_00002</td><td>TERMINATED</td><td>10.0.0.26:17426</td><td style=\"text-align: right;\">0.00533281 </td><td style=\"text-align: right;\">          2</td><td style=\"text-align: right;\">                 2</td><td style=\"text-align: right;\">   0.591415</td><td style=\"text-align: right;\">0.916084</td><td style=\"text-align: right;\">     1</td><td style=\"text-align: right;\">        1.49185 </td></tr>\n<tr><td>train_breast_cancer_16e9d_00003</td><td>TERMINATED</td><td>10.0.0.26:17746</td><td style=\"text-align: right;\">0.00125831 </td><td style=\"text-align: right;\">          4</td><td style=\"text-align: right;\">                 1</td><td style=\"text-align: right;\">   0.571634</td><td style=\"text-align: right;\">0.923077</td><td style=\"text-align: right;\">     1</td><td style=\"text-align: right;\">        1.83238 </td></tr>\n<tr><td>train_breast_cancer_16e9d_00004</td><td>TERMINATED</td><td>10.0.0.26:18030</td><td style=\"text-align: right;\">0.00762085 </td><td style=\"text-align: right;\">          5</td><td style=\"text-align: right;\">                 2</td><td style=\"text-align: right;\">   0.620571</td><td style=\"text-align: right;\">0.944056</td><td style=\"text-align: right;\">     1</td><td style=\"text-align: right;\">        1.11653 </td></tr>\n<tr><td>train_breast_cancer_16e9d_00005</td><td>TERMINATED</td><td>10.0.0.26:18032</td><td style=\"text-align: right;\">0.0122729  </td><td style=\"text-align: right;\">          8</td><td style=\"text-align: right;\">                 2</td><td style=\"text-align: right;\">   0.538666</td><td style=\"text-align: right;\">0.937063</td><td style=\"text-align: right;\">     1</td><td style=\"text-align: right;\">        1.57795 </td></tr>\n<tr><td>train_breast_cancer_16e9d_00006</td><td>TERMINATED</td><td>10.0.0.26:18060</td><td style=\"text-align: right;\">0.00054504 </td><td style=\"text-align: right;\">          7</td><td style=\"text-align: right;\">                 2</td><td style=\"text-align: right;\">   0.631806</td><td style=\"text-align: right;\">0.937063</td><td style=\"text-align: right;\">     1</td><td style=\"text-align: right;\">        1.90914 </td></tr>\n<tr><td>train_breast_cancer_16e9d_00007</td><td>TERMINATED</td><td>10.0.0.26:18379</td><td style=\"text-align: right;\">0.000159952</td><td style=\"text-align: right;\">          2</td><td style=\"text-align: right;\">                 2</td><td style=\"text-align: right;\">   0.722614</td><td style=\"text-align: right;\">0.937063</td><td style=\"text-align: right;\">     1</td><td style=\"text-align: right;\">        0.841509</td></tr>\n<tr><td>train_breast_cancer_16e9d_00008</td><td>TERMINATED</td><td>10.0.0.26:18437</td><td style=\"text-align: right;\">0.00341512 </td><td style=\"text-align: right;\">          2</td><td style=\"text-align: right;\">                 2</td><td style=\"text-align: right;\">   0.881959</td><td style=\"text-align: right;\">0.937063</td><td style=\"text-align: right;\">     1</td><td style=\"text-align: right;\">        0.517624</td></tr>\n</tbody>\n</table><br><br>"
          },
          "metadata": {}
        },
        {
          "output_type": "stream",
          "name": "stderr",
          "text": "2021-12-11 00:48:53,658\tINFO tune.py:626 -- Total run time: 10.50 seconds (10.38 seconds for the tuning loop).\n"
        }
      ],
      "execution_count": 13,
      "metadata": {
        "gather": {
          "logged": 1639183734086
        }
      }
    },
    {
      "cell_type": "markdown",
      "source": [
        "### Testing Spark on Ray (#todo)"
      ],
      "metadata": {}
    },
    {
      "cell_type": "code",
      "source": [
        "# import ray\n",
        "# import raydp\n",
        "# import os\n",
        "# ray.shutdown()\n",
        "# ray.init()\n",
        "# os.environ[\"PYSPARK_PYTHON\"]=\"/anaconda/envs/azureml_py38/bin/python3\"\n",
        "\n",
        "# # ray.init(address ='ray://10.0.0.11:6379')\n",
        "# spark = raydp.init_spark(\n",
        "#   app_name = \"example\",\n",
        "#   num_executors = 2,\n",
        "#   executor_cores = 1,\n",
        "#   executor_memory = \"1gb\"\n",
        "# )\n",
        "\n",
        "# # data =spark.read.format(\"csv\").option(\"header\", True).load(\"wasbs://ojsales-simulatedcontainer@azureopendatastorage.blob.core.windows.net/oj_sales_data/Store10*.csv\")\n",
        "\n",
        "\n",
        "# # # normal data processesing with Spark\n",
        "# # df = spark.createDataFrame([('look',), ('spark',), ('tutorial',), ('spark',), ('look', ), ('python', )], ['word'])\n",
        "# # df.show()\n",
        "# # word_count = df.groupBy('word').count()\n",
        "# # word_count.show()\n",
        "# import pandas as pd\n",
        "\n",
        "# from pyspark.sql.functions import col, pandas_udf\n",
        "# from pyspark.sql.types import LongType\n",
        "\n",
        "# # Declare the function and create the UDF\n",
        "# def multiply_func(a: pd.Series, b: pd.Series) -> pd.Series:\n",
        "#     return a * b\n",
        "\n",
        "# multiply = pandas_udf(multiply_func, returnType=LongType())\n",
        "\n",
        "# # The function for a pandas_udf should be able to execute with local Pandas data\n",
        "# x = pd.Series([1, 2, 3])\n",
        "# print(multiply_func(x, x))\n",
        "# # 0    1\n",
        "# # 1    4\n",
        "# # 2    9\n",
        "# # dtype: int64\n",
        "\n",
        "# # Create a Spark DataFrame, 'spark' is an existing SparkSession\n",
        "# df = spark.createDataFrame(pd.DataFrame(x, columns=[\"x\"]))\n",
        "\n",
        "# # Execute function as a Spark vectorized UDF\n",
        "# df.select(multiply(col(\"x\"), col(\"x\"))).show()\n",
        "# # +-------------------+\n",
        "# # |multiply_func(x, x)|\n",
        "# # +-------------------+\n",
        "# # |                  1|\n",
        "# # |                  4|\n",
        "# # |                  9|\n",
        "# # +-------------------+\n",
        "\n",
        "\n",
        "# # stop the spark cluster\n",
        "# raydp.stop_spark()\n"
      ],
      "outputs": [],
      "execution_count": 15,
      "metadata": {}
    },
    {
      "cell_type": "markdown",
      "source": [
        "## Testing Ray on Job Cluster"
      ],
      "metadata": {}
    },
    {
      "cell_type": "code",
      "source": [
        "ws = Workspace.from_config()\n",
        "\n",
        "compute_cluster = 'worker-cpu-v3'\n",
        "maxnode =5\n",
        "vm_size='STANDARD_DS3_V2'\n",
        "vnet='rayvnet'\n",
        "subnet='default'\n",
        "exp ='ray_on_aml_job'\n",
        "ws_detail = ws.get_details()\n",
        "ws_rg = ws_detail['id'].split(\"/\")[4]\n",
        "vnet_rg=None\n",
        "try:\n",
        "    ray_cluster = ComputeTarget(workspace=ws, name=compute_cluster)\n",
        "\n",
        "    print('Found existing cluster, use it.')\n",
        "except ComputeTargetException:\n",
        "    if vnet_rg is None:\n",
        "        vnet_rg = ws_rg\n",
        "    compute_config = AmlCompute.provisioning_configuration(vm_size=vm_size,\n",
        "                                                        min_nodes=0, max_nodes=maxnode,\n",
        "                                                        vnet_resourcegroup_name=vnet_rg,\n",
        "                                                        vnet_name=vnet,\n",
        "                                                        subnet_name=subnet)\n",
        "    ray_cluster = ComputeTarget.create(ws, compute_cluster, compute_config)\n",
        "\n",
        "    ray_cluster.wait_for_completion(show_output=True)\n",
        "\n",
        "\n",
        "rayEnv = Environment.from_conda_specification(name = \"rayEnv\",\n",
        "                                             file_path = \"../examples/conda_env.yml\")\n",
        "\n",
        "# rayEnv = Environment.get(ws, \"rayEnv\", version=19)\n",
        "\n",
        "\n",
        "src = ScriptRunConfig(source_directory='../examples/job',\n",
        "                script='aml_job.py',\n",
        "                environment=rayEnv,\n",
        "                compute_target=ray_cluster,\n",
        "                distributed_job_config=PyTorchConfiguration(node_count=maxnode),\n",
        "                    # arguments = [\"--master_ip\",master_ip]\n",
        "                )\n",
        "run = Experiment(ws, exp).submit(src)"
      ],
      "outputs": [
        {
          "output_type": "stream",
          "name": "stdout",
          "text": "Found existing cluster, use it.\n"
        }
      ],
      "execution_count": 10,
      "metadata": {
        "gather": {
          "logged": 1639179342786
        }
      }
    },
    {
      "cell_type": "code",
      "source": [],
      "outputs": [],
      "execution_count": null,
      "metadata": {
        "jupyter": {
          "source_hidden": false,
          "outputs_hidden": false
        },
        "nteract": {
          "transient": {
            "deleting": false
          }
        }
      }
    }
  ],
  "metadata": {
    "interpreter": {
      "hash": "cac4749ce6e64bfd07fafd5bf9c175e86cc05b1d81ce0d05824a22ecc489c963"
    },
    "kernel_info": {
      "name": "python38-azureml"
    },
    "kernelspec": {
      "name": "python38-azureml",
      "language": "python",
      "display_name": "Python 3.8 - AzureML"
    },
    "language_info": {
      "name": "python",
      "version": "3.8.1",
      "mimetype": "text/x-python",
      "codemirror_mode": {
        "name": "ipython",
        "version": 3
      },
      "pygments_lexer": "ipython3",
      "nbconvert_exporter": "python",
      "file_extension": ".py"
    },
    "microsoft": {
      "host": {
        "AzureML": {
          "notebookHasBeenCompleted": true
        }
      }
    },
    "nteract": {
      "version": "nteract-front-end@1.0.0"
    }
  },
  "nbformat": 4,
  "nbformat_minor": 0
}