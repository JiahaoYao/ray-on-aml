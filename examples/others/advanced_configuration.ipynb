{
 "cells": [
  {
   "cell_type": "markdown",
   "id": "b5e7368b",
   "metadata": {},
   "source": [
    "## This notebook gives instructions on advanced scenarios"
   ]
  },
  {
   "cell_type": "code",
   "execution_count": null,
   "id": "8356631d",
   "metadata": {},
   "outputs": [],
   "source": [
    "from azureml.core import Workspace, Experiment, Environment, Datastore, Dataset, ScriptRunConfig\n",
    "from azureml.core.runconfig import PyTorchConfiguration\n",
    "# from azureml.widgets import RunDetails\n",
    "from azureml.core.compute import ComputeTarget, AmlCompute\n",
    "from azureml.core.compute_target import ComputeTargetException\n",
    "from azureml.core.environment import Environment\n",
    "from IPython.display import clear_output\n",
    "import time\n"
   ]
  },
  {
   "cell_type": "code",
   "execution_count": 2,
   "id": "f34fa4cd",
   "metadata": {},
   "outputs": [
    {
     "name": "stdout",
     "output_type": "stream",
     "text": [
      "Cancel active AML runs if any\n",
      "Canceling active run  ray_on_aml_1642801578_7ee37e36 in ray_on_aml\n",
      "Shutting down ray if any\n",
      "Found existing cluster d15-v2\n",
      "Creating new Environment ray-0.0.7-3074610585624962555\n"
     ]
    },
    {
     "name": "stderr",
     "output_type": "stream",
     "text": [
      "2022-01-21 23:08:28,366\tINFO services.py:1338 -- View the Ray dashboard at \u001b[1m\u001b[32mhttp://127.0.0.1:8265\u001b[39m\u001b[22m\n"
     ]
    },
    {
     "name": "stdout",
     "output_type": "stream",
     "text": [
      "Waiting for cluster to start\n"
     ]
    },
    {
     "data": {
      "text/plain": [
       "{'CPU': 26.0,\n",
       " 'object_store_memory': 60333033062.0,\n",
       " 'memory': 135397421466.0,\n",
       " 'GPU': 1.0,\n",
       " 'node:10.0.0.13': 1.0,\n",
       " 'accelerator_type:K80': 1.0,\n",
       " 'node:10.0.0.17': 1.0}"
      ]
     },
     "execution_count": 2,
     "metadata": {},
     "output_type": "execute_result"
    }
   ],
   "source": [
    "from ray_on_aml.core import Ray_On_AML\n",
    "\n",
    "ws = Workspace.from_config()\n",
    "ray_on_aml =Ray_On_AML(ws=ws, compute_cluster =\"d15-v2\",additional_pip_packages=['torch==1.10.0', 'torchvision', 'sklearn'], maxnode=1)\n",
    "ray = ray_on_aml.getRay()\n",
    "# Note that by default, ci_is_head=True which means  compute instance as head node and all nodes in the remote compute cluster as workers \n",
    "# But if you want to use one of the nodes in the remote AML compute cluster is used as head node and the remaining are worker nodes.\n",
    "# then simply specify ray = ray_on_aml.getRay(ci_is_head=False)\n",
    "# To install additional library, use additional_pip_packages and additional_conda_packages parameters.\n",
    "time.sleep(50)\n",
    "ray.cluster_resources()"
   ]
  },
  {
   "cell_type": "markdown",
   "id": "bd56dc7e",
   "metadata": {},
   "source": [
    "## Loading custom resources such as files and python modules to run interactively"
   ]
  },
  {
   "cell_type": "code",
   "execution_count": 3,
   "id": "2fded278",
   "metadata": {},
   "outputs": [
    {
     "name": "stderr",
     "output_type": "stream",
     "text": [
      "2022-01-21 23:09:46,587\tINFO packaging.py:352 -- Creating a file package for local directory 'files'.\n",
      "2022-01-21 23:09:46,810\tINFO packaging.py:221 -- Pushing file package 'gcs://_ray_pkg_fdd168c6e168930f.zip' (0.00MiB) to Ray cluster...\n",
      "2022-01-21 23:09:46,812\tINFO packaging.py:224 -- Successfully pushed file package 'gcs://_ray_pkg_fdd168c6e168930f.zip'.\n",
      "The autoscaler failed with the following error:\n",
      "Terminated with signal 15\n",
      "  File \"/anaconda/envs/azureml_py38/lib/python3.8/site-packages/ray/autoscaler/_private/monitor.py\", line 543, in <module>\n",
      "    monitor.run()\n",
      "  File \"/anaconda/envs/azureml_py38/lib/python3.8/site-packages/ray/autoscaler/_private/monitor.py\", line 439, in run\n",
      "    self._run()\n",
      "  File \"/anaconda/envs/azureml_py38/lib/python3.8/site-packages/ray/autoscaler/_private/monitor.py\", line 346, in _run\n",
      "    time.sleep(AUTOSCALER_UPDATE_INTERVAL_S)\n",
      "\n"
     ]
    },
    {
     "name": "stdout",
     "output_type": "stream",
     "text": [
      "(1, 2)\n"
     ]
    }
   ],
   "source": [
    "#Create a new client object\n",
    "import ray\n",
    "from files import utils \n",
    "client = ray.init(f\"ray://{ray_on_aml.get_ip()}:10001\", runtime_env={\"py_modules\": ['files']})\n",
    "\n",
    "\n",
    "@ray.remote\n",
    "class test():\n",
    "    def test_method(self):\n",
    "        return utils.Foo().bar()\n",
    "        return(os.listdir())\n",
    "test_obj = test.remote()\n",
    "print(ray.get(test_obj.test_method.remote()))\n",
    "client.disconnect() \n",
    "#disconnect after use, if you don't do this, you will have error if you run the client connection again\n"
   ]
  },
  {
   "cell_type": "markdown",
   "id": "92fd121e",
   "metadata": {},
   "source": [
    "Learn more at https://docs.ray.io/en/latest/handling-dependencies.html"
   ]
  }
 ],
 "metadata": {
  "kernelspec": {
   "display_name": "Python 3.8 - AzureML",
   "language": "python",
   "name": "python38-azureml"
  },
  "language_info": {
   "codemirror_mode": {
    "name": "ipython",
    "version": 3
   },
   "file_extension": ".py",
   "mimetype": "text/x-python",
   "name": "python",
   "nbconvert_exporter": "python",
   "pygments_lexer": "ipython3",
   "version": "3.8.1"
  }
 },
 "nbformat": 4,
 "nbformat_minor": 5
}
