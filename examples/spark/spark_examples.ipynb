{
 "cells": [
  {
   "cell_type": "markdown",
   "id": "5a2e352d",
   "metadata": {},
   "source": [
    "\n",
    "# Examples of using Spark "
   ]
  },
  {
   "cell_type": "code",
   "execution_count": null,
   "id": "2d30a4bb",
   "metadata": {},
   "outputs": [],
   "source": [
    "from azureml.core import Workspace, Experiment, Environment,ScriptRunConfig\n",
    "# from azureml.widgets import RunDetails\n",
    "from azureml.core.compute import ComputeTarget, AmlCompute\n",
    "from azureml.core.compute_target import ComputeTargetException\n",
    "from azureml.core.environment import Environment\n",
    "import time"
   ]
  },
  {
   "cell_type": "code",
   "execution_count": null,
   "id": "fa978be8",
   "metadata": {},
   "outputs": [],
   "source": [
    "from ray_on_aml.core import Ray_On_AML\n",
    "\n",
    "ws = Workspace.from_config()\n",
    "ray_on_aml =Ray_On_AML(ws=ws, compute_cluster =\"d12-v2-ssh\", maxnode=2)\n",
    "ray = ray_on_aml.getRay()\n",
    "ray.cluster_resources()"
   ]
  },
  {
   "cell_type": "markdown",
   "id": "d94f6a49",
   "metadata": {},
   "source": [
    "# Reading Delta Lake data from ADLS Gen2 "
   ]
  },
  {
   "cell_type": "code",
   "execution_count": null,
   "id": "281aef5b",
   "metadata": {},
   "outputs": [],
   "source": [
    "storage_account_name =\"adlsdatalakegen6\"\n",
    "storage_account_key=ws.get_default_keyvault().get_secret(\"adlsdatalakegen6\")\n",
    "additional_spark_configs ={f\"fs.azure.account.key.{storage_account_name}.dfs.core.windows.net\":f\"{storage_account_key}\"}\n",
    "spark = ray_on_aml.getSpark(executor_cores =3,num_executors =3 ,executor_memory='10GB', additional_spark_configs=additional_spark_configs)\n",
    "#Number of nodes (including head node) can be set as number of executor. "
   ]
  },
  {
   "cell_type": "code",
   "execution_count": null,
   "id": "30e24ff5",
   "metadata": {},
   "outputs": [],
   "source": [
    "adls_data = spark.read.format(\"delta\").load(\"abfss://mltraining@adlsdatalakegen6.dfs.core.windows.net/ISDWeatherDelta\")\n",
    "adls_data.groupby(\"stationName\").count().head(20)\n"
   ]
  },
  {
   "cell_type": "markdown",
   "id": "34fbe1d3",
   "metadata": {},
   "source": [
    "## Synapse SQL Pool Data Access"
   ]
  },
  {
   "cell_type": "code",
   "execution_count": null,
   "id": "e2a03c54",
   "metadata": {},
   "outputs": [],
   "source": [
    "server_name = \"jdbc:sqlserver://sy2qwhqqkv7eacsws1.sql.azuresynapse.net:1433\"\n",
    "database_name = \"sy2qwhqqkv7eacsws1p1\"\n",
    "url = server_name + \";\" + \"databaseName=\" + database_name + \";\"\n",
    "\n",
    "table_name = \"ISDWeatherDelta\"\n",
    "username = \"\"\n",
    "password = \"\" # Please specify password here or get it from keyvault\n",
    "\n",
    "\n",
    "jdbcDF = spark.read \\\n",
    "        .format(\"jdbc\") \\\n",
    "        .option(\"url\", url) \\\n",
    "        .option(\"dbtable\", table_name) \\\n",
    "        .option(\"driver\", \"com.microsoft.sqlserver.jdbc.SQLServerDriver\") \\\n",
    "        .option(\"user\", username) \\\n",
    "        .option(\"password\", password).load()\n",
    "\n",
    "jdbcDF.show()"
   ]
  }
 ],
 "metadata": {
  "kernelspec": {
   "display_name": "Python 3.8 - AzureML",
   "language": "python",
   "name": "python38-azureml"
  },
  "language_info": {
   "codemirror_mode": {
    "name": "ipython",
    "version": 3
   },
   "file_extension": ".py",
   "mimetype": "text/x-python",
   "name": "python",
   "nbconvert_exporter": "python",
   "pygments_lexer": "ipython3",
   "version": "3.8.1"
  }
 },
 "nbformat": 4,
 "nbformat_minor": 5
}
