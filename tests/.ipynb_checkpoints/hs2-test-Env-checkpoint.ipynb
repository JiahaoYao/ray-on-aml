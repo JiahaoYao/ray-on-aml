{
 "cells": [
  {
   "cell_type": "code",
   "execution_count": 1,
   "id": "564dc66e",
   "metadata": {},
   "outputs": [],
   "source": [
    "import sys\n",
    "sys.path.append('../')\n",
    "from azureml.core import Workspace\n",
    "from src.ray_on_aml.core import Ray_On_AML\n",
    "\n",
    "ws = Workspace.from_config()\n",
    "ray_on_aml =Ray_On_AML(ws=ws,\n",
    "                       exp_name='ray_on_aml_2',\n",
    "                       compute_cluster =\"worker-cpu-v3\",\n",
    "                       maxnode=2)\n",
    "\n",
    "# ray = ray_on_aml.getRay()"
   ]
  },
  {
   "cell_type": "code",
   "execution_count": 2,
   "id": "769ea8d4",
   "metadata": {},
   "outputs": [
    {
     "name": "stdout",
     "output_type": "stream",
     "text": [
      "Creating new Environment ray-0.0.7--7294837543169836478\n"
     ]
    },
    {
     "data": {
      "text/plain": [
       "{\n",
       "    \"databricks\": {\n",
       "        \"eggLibraries\": [],\n",
       "        \"jarLibraries\": [],\n",
       "        \"mavenLibraries\": [],\n",
       "        \"pypiLibraries\": [],\n",
       "        \"rcranLibraries\": []\n",
       "    },\n",
       "    \"docker\": {\n",
       "        \"arguments\": [],\n",
       "        \"baseDockerfile\": null,\n",
       "        \"baseImage\": \"mcr.microsoft.com/azureml/openmpi3.1.2-ubuntu18.04:20211124.v1\",\n",
       "        \"baseImageRegistry\": {\n",
       "            \"address\": null,\n",
       "            \"password\": null,\n",
       "            \"registryIdentity\": null,\n",
       "            \"username\": null\n",
       "        },\n",
       "        \"enabled\": false,\n",
       "        \"platform\": {\n",
       "            \"architecture\": \"amd64\",\n",
       "            \"os\": \"Linux\"\n",
       "        },\n",
       "        \"sharedVolumes\": true,\n",
       "        \"shmSize\": \"2g\"\n",
       "    },\n",
       "    \"environmentVariables\": {\n",
       "        \"EXAMPLE_ENV_VAR\": \"EXAMPLE_VALUE\"\n",
       "    },\n",
       "    \"inferencingStackVersion\": null,\n",
       "    \"name\": \"ray-0.0.7--7294837543169836478\",\n",
       "    \"python\": {\n",
       "        \"baseCondaEnvironment\": null,\n",
       "        \"condaDependencies\": {\n",
       "            \"channels\": [\n",
       "                \"anaconda\",\n",
       "                \"conda-forge\"\n",
       "            ],\n",
       "            \"dependencies\": [\n",
       "                \"python=3.8.1\",\n",
       "                {\n",
       "                    \"pip\": [\n",
       "                        \"azureml-defaults\",\n",
       "                        \"ray[serve]==1.9.1\",\n",
       "                        \"xgboost_ray==0.1.6\",\n",
       "                        \"dask==2021.12.0\",\n",
       "                        \"pyarrow >= 5.0.0\",\n",
       "                        \"fsspec==2021.10.1\",\n",
       "                        \"fastparquet==0.7.2\",\n",
       "                        \"tabulate==0.8.9\"\n",
       "                    ]\n",
       "                },\n",
       "                \"adlfs==2021.10.0\",\n",
       "                \"pip==21.3.1\"\n",
       "            ],\n",
       "            \"name\": \"project_environment\"\n",
       "        },\n",
       "        \"condaDependenciesFile\": null,\n",
       "        \"interpreterPath\": \"python\",\n",
       "        \"userManagedDependencies\": false\n",
       "    },\n",
       "    \"r\": null,\n",
       "    \"spark\": {\n",
       "        \"packages\": [],\n",
       "        \"precachePackages\": true,\n",
       "        \"repositories\": []\n",
       "    },\n",
       "    \"version\": null\n",
       "}"
      ]
     },
     "execution_count": 2,
     "metadata": {},
     "output_type": "execute_result"
    }
   ],
   "source": [
    "ray_on_aml.getRayEnvironment() #default -7294837543169836478\n"
   ]
  },
  {
   "cell_type": "code",
   "execution_count": null,
   "id": "ced70bc7",
   "metadata": {},
   "outputs": [],
   "source": [
    "ray_on_aml.getRay()"
   ]
  },
  {
   "cell_type": "code",
   "execution_count": null,
   "id": "3a9d0dd4",
   "metadata": {},
   "outputs": [],
   "source": [
    "from azureml.core import Workspace, Experiment, Environment, Datastore, Dataset, ScriptRunConfig, Run\n",
    "# from azureml._common.exceptions import AzureMLException.DiscoveryUrlNotFoundException\n",
    "\n",
    "try :\n",
    "    env = Environment.get(ws, 'rayEnv')\n",
    "    print(env)\n",
    "except :\n",
    "    print(Message)\n",
    "    "
   ]
  },
  {
   "cell_type": "code",
   "execution_count": null,
   "id": "246d539a",
   "metadata": {},
   "outputs": [],
   "source": [
    "# for item in Environment.list(ws):    \n",
    "#     if item == 'rayEnv0.0.7':\n",
    "#         print(item)\n",
    "#         break\n",
    "#     else:\n",
    "#         print(item)\n",
    "if Environment.list(ws).get('rayEnv0.0.7') != '':\n",
    "    print('Not found')\n",
    "\n"
   ]
  },
  {
   "cell_type": "code",
   "execution_count": null,
   "id": "c4ed102d",
   "metadata": {},
   "outputs": [],
   "source": [
    "print(ray_on_aml.getRun())"
   ]
  },
  {
   "cell_type": "code",
   "execution_count": null,
   "id": "0241c151",
   "metadata": {},
   "outputs": [],
   "source": [
    "ray_on_aml.getUserEnvironment()"
   ]
  },
  {
   "cell_type": "code",
   "execution_count": null,
   "id": "7c744b44",
   "metadata": {},
   "outputs": [],
   "source": [
    "ray_on_aml.shutdown(end_all_runs=False)\n"
   ]
  },
  {
   "cell_type": "code",
   "execution_count": null,
   "id": "3b36cb19",
   "metadata": {},
   "outputs": [],
   "source": [
    "print(ray_on_aml.exp)"
   ]
  },
  {
   "cell_type": "code",
   "execution_count": null,
   "id": "dc0288ba",
   "metadata": {},
   "outputs": [],
   "source": [
    "print(ray_on_aml.run)"
   ]
  },
  {
   "cell_type": "code",
   "execution_count": null,
   "id": "35ebb408",
   "metadata": {},
   "outputs": [],
   "source": [
    "from azureml.core import Run\n",
    "\n",
    "for item in Run.list(ray_on_aml.getRun().experiment):\n",
    "    print(item)"
   ]
  },
  {
   "cell_type": "code",
   "execution_count": null,
   "id": "1e1163ae",
   "metadata": {},
   "outputs": [],
   "source": [
    "ray_on_aml.shutdown(end_all_runs=False)"
   ]
  },
  {
   "cell_type": "code",
   "execution_count": null,
   "id": "df452209",
   "metadata": {},
   "outputs": [],
   "source": [
    "import hashlib\n",
    "hash_object = hashlib.md5(b'Hello World')\n",
    "print(hash_object.hexdigest())"
   ]
  },
  {
   "cell_type": "code",
   "execution_count": null,
   "id": "ea740fa7",
   "metadata": {},
   "outputs": [],
   "source": [
    "int_hash = hash(1020)\n",
    " \n",
    "float_hash = hash(100.523)\n",
    " \n",
    "string_hash = hash(\"Hello from AskPython\")\n",
    " \n",
    "print(f\"For {1020}, Hash : {int_hash}\")\n",
    "print(f\"For {100.523}, Hash: {float_hash}\")\n",
    "print(f\"For {'Hello from AskPython'}, Hash: {string_hash}\")"
   ]
  },
  {
   "cell_type": "code",
   "execution_count": null,
   "id": "432c7e49",
   "metadata": {},
   "outputs": [],
   "source": []
  }
 ],
 "metadata": {
  "kernelspec": {
   "display_name": "Python 3.8 - AzureML",
   "language": "python",
   "name": "python38-azureml"
  },
  "language_info": {
   "codemirror_mode": {
    "name": "ipython",
    "version": 3
   },
   "file_extension": ".py",
   "mimetype": "text/x-python",
   "name": "python",
   "nbconvert_exporter": "python",
   "pygments_lexer": "ipython3",
   "version": "3.8.1"
  }
 },
 "nbformat": 4,
 "nbformat_minor": 5
}
