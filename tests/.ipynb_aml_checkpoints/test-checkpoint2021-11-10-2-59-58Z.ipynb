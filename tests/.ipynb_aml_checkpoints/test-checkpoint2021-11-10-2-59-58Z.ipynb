{
  "cells": [
    {
      "cell_type": "code",
      "source": [
        "import mlflow\n",
        "from azureml.core import Workspace, Experiment, Environment, Datastore, Dataset, ScriptRunConfig\n",
        "from azureml.core.runconfig import PyTorchConfiguration\n",
        "# from azureml.widgets import RunDetails\n",
        "from azureml.core.compute import ComputeTarget, AmlCompute\n",
        "from azureml.core.compute_target import ComputeTargetException\n",
        "from IPython.display import clear_output\n",
        "import time\n",
        "# from ray_on_azureml.ray_on_aml import getRay\n",
        "import sys\n",
        "sys.path.append(\"../\") # go to parent dir\n",
        "import importlib\n"
      ],
      "outputs": [],
      "execution_count": 5,
      "metadata": {
        "gather": {
          "logged": 1639105187821
        }
      }
    },
    {
      "cell_type": "code",
      "source": [
        "from src.ray_on_azureml.ray_on_aml import Ray_On_AML\n",
        "ws = Workspace.from_config()\n",
        "ray_on_aml =Ray_On_AML(ws=ws, compute_cluster =\"worker-cpu-v3\")\n",
        "# _, ray = ray_on_aml.getRay()\n",
        "# ray.cluster_resources()"
      ],
      "outputs": [
        {
          "output_type": "error",
          "ename": "ModuleNotFoundError",
          "evalue": "No module named 'ray'",
          "traceback": [
            "\u001b[0;31m---------------------------------------------------------------------------\u001b[0m",
            "\u001b[0;31mModuleNotFoundError\u001b[0m                       Traceback (most recent call last)",
            "\u001b[0;32m<ipython-input-6-4e2eae9dbdf1>\u001b[0m in \u001b[0;36m<module>\u001b[0;34m\u001b[0m\n\u001b[0;32m----> 1\u001b[0;31m \u001b[0;32mfrom\u001b[0m \u001b[0msrc\u001b[0m\u001b[0;34m.\u001b[0m\u001b[0mray_on_azureml\u001b[0m\u001b[0;34m.\u001b[0m\u001b[0mray_on_aml\u001b[0m \u001b[0;32mimport\u001b[0m \u001b[0mRay_On_AML\u001b[0m\u001b[0;34m\u001b[0m\u001b[0;34m\u001b[0m\u001b[0m\n\u001b[0m\u001b[1;32m      2\u001b[0m \u001b[0mws\u001b[0m \u001b[0;34m=\u001b[0m \u001b[0mWorkspace\u001b[0m\u001b[0;34m.\u001b[0m\u001b[0mfrom_config\u001b[0m\u001b[0;34m(\u001b[0m\u001b[0;34m)\u001b[0m\u001b[0;34m\u001b[0m\u001b[0;34m\u001b[0m\u001b[0m\n\u001b[1;32m      3\u001b[0m \u001b[0mray_on_aml\u001b[0m \u001b[0;34m=\u001b[0m\u001b[0mRay_On_AML\u001b[0m\u001b[0;34m(\u001b[0m\u001b[0mws\u001b[0m\u001b[0;34m=\u001b[0m\u001b[0mws\u001b[0m\u001b[0;34m,\u001b[0m \u001b[0mcompute_cluster\u001b[0m \u001b[0;34m=\u001b[0m\u001b[0;34m\"worker-cpu-v3\"\u001b[0m\u001b[0;34m)\u001b[0m\u001b[0;34m\u001b[0m\u001b[0;34m\u001b[0m\u001b[0m\n\u001b[1;32m      4\u001b[0m \u001b[0;31m# _, ray = ray_on_aml.getRay()\u001b[0m\u001b[0;34m\u001b[0m\u001b[0;34m\u001b[0m\u001b[0;34m\u001b[0m\u001b[0m\n\u001b[1;32m      5\u001b[0m \u001b[0;31m# ray.cluster_resources()\u001b[0m\u001b[0;34m\u001b[0m\u001b[0;34m\u001b[0m\u001b[0;34m\u001b[0m\u001b[0m\n",
            "\u001b[0;32m/mnt/batch/tasks/shared/LS_root/mounts/clusters/janguy2/code/ray/ray_on_aml/src/ray_on_azureml/ray_on_aml.py\u001b[0m in \u001b[0;36m<module>\u001b[0;34m\u001b[0m\n\u001b[1;32m      7\u001b[0m \u001b[0;32mimport\u001b[0m \u001b[0mplatform\u001b[0m\u001b[0;34m\u001b[0m\u001b[0;34m\u001b[0m\u001b[0m\n\u001b[1;32m      8\u001b[0m \u001b[0;32mimport\u001b[0m \u001b[0mmlflow\u001b[0m\u001b[0;34m\u001b[0m\u001b[0;34m\u001b[0m\u001b[0m\n\u001b[0;32m----> 9\u001b[0;31m \u001b[0;32mimport\u001b[0m \u001b[0mray\u001b[0m\u001b[0;34m\u001b[0m\u001b[0;34m\u001b[0m\u001b[0m\n\u001b[0m\u001b[1;32m     10\u001b[0m \u001b[0;32mimport\u001b[0m \u001b[0minspect\u001b[0m\u001b[0;34m\u001b[0m\u001b[0;34m\u001b[0m\u001b[0m\n\u001b[1;32m     11\u001b[0m \u001b[0;32mfrom\u001b[0m \u001b[0mtextwrap\u001b[0m \u001b[0;32mimport\u001b[0m \u001b[0mdedent\u001b[0m\u001b[0;34m\u001b[0m\u001b[0;34m\u001b[0m\u001b[0m\n",
            "\u001b[0;31mModuleNotFoundError\u001b[0m: No module named 'ray'"
          ]
        }
      ],
      "execution_count": 6,
      "metadata": {
        "gather": {
          "logged": 1639104905027
        }
      }
    },
    {
      "cell_type": "code",
      "source": [
        "ray_on_aml.shutdown()\r\n",
        "# import ray\r\n",
        "# ray.shutdown()\r\n",
        "# ray.init()"
      ],
      "outputs": [
        {
          "output_type": "error",
          "ename": "NameError",
          "evalue": "name 'ray_on_aml' is not defined",
          "traceback": [
            "\u001b[0;31m---------------------------------------------------------------------------\u001b[0m",
            "\u001b[0;31mNameError\u001b[0m                                 Traceback (most recent call last)",
            "\u001b[0;32m<ipython-input-3-c78353f7f2d6>\u001b[0m in \u001b[0;36m<module>\u001b[0;34m\u001b[0m\n\u001b[0;32m----> 1\u001b[0;31m \u001b[0mray_on_aml\u001b[0m\u001b[0;34m.\u001b[0m\u001b[0mshutdown\u001b[0m\u001b[0;34m(\u001b[0m\u001b[0;34m)\u001b[0m\u001b[0;34m\u001b[0m\u001b[0;34m\u001b[0m\u001b[0m\n\u001b[0m\u001b[1;32m      2\u001b[0m \u001b[0;31m# import ray\u001b[0m\u001b[0;34m\u001b[0m\u001b[0;34m\u001b[0m\u001b[0;34m\u001b[0m\u001b[0m\n\u001b[1;32m      3\u001b[0m \u001b[0;31m# ray.shutdown()\u001b[0m\u001b[0;34m\u001b[0m\u001b[0;34m\u001b[0m\u001b[0;34m\u001b[0m\u001b[0m\n\u001b[1;32m      4\u001b[0m \u001b[0;31m# ray.init()\u001b[0m\u001b[0;34m\u001b[0m\u001b[0;34m\u001b[0m\u001b[0;34m\u001b[0m\u001b[0m\n",
            "\u001b[0;31mNameError\u001b[0m: name 'ray_on_aml' is not defined"
          ]
        }
      ],
      "execution_count": 3,
      "metadata": {
        "gather": {
          "logged": 1639104882761
        }
      }
    },
    {
      "cell_type": "code",
      "source": [
        "# import ray\n",
        "# ray.init()\n",
        "from ray.util.dask import ray_dask_get\n",
        "import dask\n",
        "import dask.array as da\n",
        "import dask.dataframe as dd\n",
        "import numpy as np\n",
        "import pandas as pd\n",
        "# ray.shutdown()\n",
        "# client = ray.init(address =f'ray://{headnode_private_ip}:10001',allow_multiple=True  )\n",
        "# with client:\n",
        "# Start Ray.\n",
        "# Tip: If connecting to an existing cluster, use ray.init(address=\"auto\").\n",
        "# ray.init(address ='ray://10.0.0.14:10001',ignore_reinit_error=True)\n",
        "d_arr = da.from_array(np.random.randint(0, 1000, size=(256, 256)))\n",
        "\n",
        "# The Dask scheduler submits the underlying task graph to Ray.\n",
        "d_arr.mean().compute(scheduler=ray_dask_get)\n",
        "\n",
        "# Set the scheduler to ray_dask_get in your config so you don't have to\n",
        "# specify it on each compute call.\n",
        "dask.config.set(scheduler=ray_dask_get)\n",
        "\n",
        "df = dd.from_pandas(\n",
        "    pd.DataFrame(\n",
        "        np.random.randint(0, 10000, size=(1024, 2)), columns=[\"age\", \"grade\"]),\n",
        "    npartitions=2)\n",
        "df.groupby([\"age\"]).mean().compute()\n",
        "\n",
        "# ray.shutdown()"
      ],
      "outputs": [
        {
          "output_type": "execute_result",
          "execution_count": 6,
          "data": {
            "text/plain": "       grade\nage         \n14    2054.0\n29    4682.0\n72    4525.0\n94    1078.0\n118   9947.0\n...      ...\n9940  2479.0\n9955  8684.0\n9961   128.0\n9970   518.0\n9983  9613.0\n\n[984 rows x 1 columns]",
            "text/html": "<div>\n<style scoped>\n    .dataframe tbody tr th:only-of-type {\n        vertical-align: middle;\n    }\n\n    .dataframe tbody tr th {\n        vertical-align: top;\n    }\n\n    .dataframe thead th {\n        text-align: right;\n    }\n</style>\n<table border=\"1\" class=\"dataframe\">\n  <thead>\n    <tr style=\"text-align: right;\">\n      <th></th>\n      <th>grade</th>\n    </tr>\n    <tr>\n      <th>age</th>\n      <th></th>\n    </tr>\n  </thead>\n  <tbody>\n    <tr>\n      <th>14</th>\n      <td>2054.0</td>\n    </tr>\n    <tr>\n      <th>29</th>\n      <td>4682.0</td>\n    </tr>\n    <tr>\n      <th>72</th>\n      <td>4525.0</td>\n    </tr>\n    <tr>\n      <th>94</th>\n      <td>1078.0</td>\n    </tr>\n    <tr>\n      <th>118</th>\n      <td>9947.0</td>\n    </tr>\n    <tr>\n      <th>...</th>\n      <td>...</td>\n    </tr>\n    <tr>\n      <th>9940</th>\n      <td>2479.0</td>\n    </tr>\n    <tr>\n      <th>9955</th>\n      <td>8684.0</td>\n    </tr>\n    <tr>\n      <th>9961</th>\n      <td>128.0</td>\n    </tr>\n    <tr>\n      <th>9970</th>\n      <td>518.0</td>\n    </tr>\n    <tr>\n      <th>9983</th>\n      <td>9613.0</td>\n    </tr>\n  </tbody>\n</table>\n<p>984 rows × 1 columns</p>\n</div>"
          },
          "metadata": {}
        }
      ],
      "execution_count": 6,
      "metadata": {
        "gather": {
          "logged": 1639102809522
        }
      }
    },
    {
      "cell_type": "code",
      "source": [
        "pip install fsspec==2021.10.1"
      ],
      "outputs": [
        {
          "output_type": "stream",
          "name": "stdout",
          "text": "Collecting fsspec==2021.10.1\n  Using cached fsspec-2021.10.1-py3-none-any.whl (125 kB)\n\u001b[31mERROR: datasets 1.8.0 has requirement pyarrow<4.0.0,>=1.0.0, but you'll have pyarrow 5.0.0 which is incompatible.\u001b[0m\n\u001b[31mERROR: datasets 1.8.0 has requirement tqdm<4.50.0,>=4.27, but you'll have tqdm 4.61.2 which is incompatible.\u001b[0m\nInstalling collected packages: fsspec\n  Attempting uninstall: fsspec\n    Found existing installation: fsspec 2021.7.0\n    Uninstalling fsspec-2021.7.0:\n      Successfully uninstalled fsspec-2021.7.0\nSuccessfully installed fsspec-2021.10.1\nNote: you may need to restart the kernel to use updated packages.\n"
        }
      ],
      "execution_count": 1,
      "metadata": {
        "jupyter": {
          "source_hidden": false,
          "outputs_hidden": false
        },
        "nteract": {
          "transient": {
            "deleting": false
          }
        },
        "gather": {
          "logged": 1639105117676
        }
      }
    },
    {
      "cell_type": "code",
      "source": [
        "!pip install --upgrade pyarrow "
      ],
      "outputs": [
        {
          "output_type": "stream",
          "name": "stdout",
          "text": "Requirement already up-to-date: pyarrow in /anaconda/envs/azureml_py36/lib/python3.6/site-packages (6.0.1)\r\nRequirement already satisfied, skipping upgrade: numpy>=1.16.6 in /anaconda/envs/azureml_py36/lib/python3.6/site-packages (from pyarrow) (1.18.5)\r\n"
        }
      ],
      "execution_count": 2,
      "metadata": {
        "jupyter": {
          "source_hidden": false,
          "outputs_hidden": false
        },
        "nteract": {
          "transient": {
            "deleting": false
          }
        }
      }
    },
    {
      "cell_type": "code",
      "source": [
        "import dask.dataframe as dd\n",
        "\n",
        "storage_options = {'account_name': 'azureopendatastorage'}\n",
        "ddf = dd.read_parquet('az://nyctlc/green/puYear=2019/puMonth=*/*.parquet', storage_options=storage_options)\n",
        "ddf.count()"
      ],
      "outputs": [
        {
          "output_type": "execute_result",
          "execution_count": 9,
          "data": {
            "text/plain": "Dask Series Structure:\nnpartitions=1\ndoLocationId    int64\nvendorID          ...\ndtype: int64\nDask Name: dataframe-count-agg, 17 tasks"
          },
          "metadata": {}
        }
      ],
      "execution_count": 9,
      "metadata": {
        "gather": {
          "logged": 1639104458150
        }
      }
    },
    {
      "cell_type": "code",
      "source": [
        "import dask\n",
        "dask.__version__\n",
        "# '2021.09.0'\n",
        "# '2.30.0'\n"
      ],
      "outputs": [
        {
          "output_type": "execute_result",
          "execution_count": 6,
          "data": {
            "text/plain": "'2021.09.0'"
          },
          "metadata": {}
        }
      ],
      "execution_count": 6,
      "metadata": {
        "gather": {
          "logged": 1639097755596
        }
      }
    },
    {
      "cell_type": "code",
      "source": [
        "import pyarrow\r\n",
        "pyarrow.__version__"
      ],
      "outputs": [
        {
          "output_type": "execute_result",
          "execution_count": 3,
          "data": {
            "text/plain": "'4.0.1'"
          },
          "metadata": {}
        }
      ],
      "execution_count": 3,
      "metadata": {
        "jupyter": {
          "source_hidden": false,
          "outputs_hidden": false
        },
        "nteract": {
          "transient": {
            "deleting": false
          }
        },
        "gather": {
          "logged": 1639097973453
        }
      }
    },
    {
      "cell_type": "code",
      "source": [
        "pip install --upgrade cchardet, pip install -U pyarrow"
      ],
      "outputs": [
        {
          "output_type": "stream",
          "name": "stdout",
          "text": "Collecting cchardet\n  Downloading cchardet-2.1.7-cp38-cp38-manylinux2010_x86_64.whl (265 kB)\n\u001b[K     |████████████████████████████████| 265 kB 11.6 MB/s eta 0:00:01\n\u001b[?25hInstalling collected packages: cchardet\nSuccessfully installed cchardet-2.1.7\nNote: you may need to restart the kernel to use updated packages.\n"
        }
      ],
      "execution_count": 2,
      "metadata": {}
    },
    {
      "cell_type": "code",
      "source": [
        "pip install -U pyarrow"
      ],
      "outputs": [
        {
          "output_type": "stream",
          "name": "stdout",
          "text": "Collecting pyarrow\n  Using cached pyarrow-6.0.1-cp38-cp38-manylinux_2_17_x86_64.manylinux2014_x86_64.whl (25.6 MB)\nRequirement already satisfied, skipping upgrade: numpy>=1.16.6 in /anaconda/envs/azureml_py38_pytorch/lib/python3.8/site-packages (from pyarrow) (1.20.3)\nInstalling collected packages: pyarrow\n  Attempting uninstall: pyarrow\n    Found existing installation: pyarrow 3.0.0\n    Uninstalling pyarrow-3.0.0:\n      Successfully uninstalled pyarrow-3.0.0\n\u001b[31mERROR: After October 2020 you may experience errors when installing or updating packages. This is because pip will change the way that it resolves dependency conflicts.\n\nWe recommend you use --use-feature=2020-resolver to test your packages with the new resolver before it becomes the default.\n\nazureml-dataset-runtime 1.34.0 requires pyarrow<4.0.0,>=0.17.0, but you'll have pyarrow 6.0.1 which is incompatible.\u001b[0m\nSuccessfully installed pyarrow-6.0.1\nNote: you may need to restart the kernel to use updated packages.\n"
        }
      ],
      "execution_count": 13,
      "metadata": {}
    },
    {
      "cell_type": "code",
      "source": [
        "pip install pyarrow==4.0.1"
      ],
      "outputs": [
        {
          "output_type": "stream",
          "name": "stdout",
          "text": "Collecting pyarrow==4.0.1\n  Using cached pyarrow-4.0.1-cp38-cp38-manylinux2014_x86_64.whl (21.9 MB)\nRequirement already satisfied: numpy>=1.16.6 in /anaconda/envs/azureml_py38_pytorch/lib/python3.8/site-packages (from pyarrow==4.0.1) (1.20.3)\nInstalling collected packages: pyarrow\n  Attempting uninstall: pyarrow\n    Found existing installation: pyarrow 6.0.1\n    Uninstalling pyarrow-6.0.1:\n      Successfully uninstalled pyarrow-6.0.1\n\u001b[31mERROR: After October 2020 you may experience errors when installing or updating packages. This is because pip will change the way that it resolves dependency conflicts.\n\nWe recommend you use --use-feature=2020-resolver to test your packages with the new resolver before it becomes the default.\n\nazureml-dataset-runtime 1.34.0 requires pyarrow<4.0.0,>=0.17.0, but you'll have pyarrow 4.0.1 which is incompatible.\u001b[0m\nSuccessfully installed pyarrow-4.0.1\nNote: you may need to restart the kernel to use updated packages.\n"
        }
      ],
      "execution_count": 6,
      "metadata": {}
    },
    {
      "cell_type": "code",
      "source": [
        "import numpy as np\n",
        "import torch\n",
        "import torch.optim as optim\n",
        "import torch.nn as nn\n",
        "from torchvision import datasets, transforms\n",
        "from torch.utils.data import DataLoader\n",
        "import torch.nn.functional as F\n",
        "# import ray\n",
        "from ray import tune\n",
        "from ray.tune.schedulers import ASHAScheduler\n",
        "class ConvNet(nn.Module):\n",
        "    def __init__(self):\n",
        "        super(ConvNet, self).__init__()\n",
        "        # In this example, we don't change the model architecture\n",
        "        # due to simplicity.\n",
        "        self.conv1 = nn.Conv2d(1, 3, kernel_size=3)\n",
        "        self.fc = nn.Linear(192, 10)\n",
        "\n",
        "    def forward(self, x):\n",
        "        x = F.relu(F.max_pool2d(self.conv1(x), 3))\n",
        "        x = x.view(-1, 192)\n",
        "        x = self.fc(x)\n",
        "        return F.log_softmax(x, dim=1)\n",
        "# Change these values if you want the training to run quicker or slower.\n",
        "EPOCH_SIZE = 512\n",
        "TEST_SIZE = 256\n",
        "\n",
        "def train(model, optimizer, train_loader):\n",
        "    device = torch.device(\"cuda\" if torch.cuda.is_available() else \"cpu\")\n",
        "    model.train()\n",
        "    for batch_idx, (data, target) in enumerate(train_loader):\n",
        "        # We set this just for the example to run quickly.\n",
        "        if batch_idx * len(data) > EPOCH_SIZE:\n",
        "            return\n",
        "        data, target = data.to(device), target.to(device)\n",
        "        optimizer.zero_grad()\n",
        "        output = model(data)\n",
        "        loss = F.nll_loss(output, target)\n",
        "        loss.backward()\n",
        "        optimizer.step()\n",
        "\n",
        "\n",
        "def test(model, data_loader):\n",
        "    device = torch.device(\"cuda\" if torch.cuda.is_available() else \"cpu\")\n",
        "    model.eval()\n",
        "    correct = 0\n",
        "    total = 0\n",
        "    with torch.no_grad():\n",
        "        for batch_idx, (data, target) in enumerate(data_loader):\n",
        "            # We set this just for the example to run quickly.\n",
        "            if batch_idx * len(data) > TEST_SIZE:\n",
        "                break\n",
        "            data, target = data.to(device), target.to(device)\n",
        "            outputs = model(data)\n",
        "            _, predicted = torch.max(outputs.data, 1)\n",
        "            total += target.size(0)\n",
        "            correct += (predicted == target).sum().item()\n",
        "\n",
        "    return correct / total\n",
        "def train_mnist(config):\n",
        "    # Data Setup\n",
        "    mnist_transforms = transforms.Compose(\n",
        "        [transforms.ToTensor(),\n",
        "         transforms.Normalize((0.1307, ), (0.3081, ))])\n",
        "\n",
        "    train_loader = DataLoader(\n",
        "        datasets.MNIST(\"~/data\", train=True, download=True, transform=mnist_transforms),\n",
        "        batch_size=64,\n",
        "        shuffle=True)\n",
        "    test_loader = DataLoader(\n",
        "        datasets.MNIST(\"~/data\", train=False, transform=mnist_transforms),\n",
        "        batch_size=64,\n",
        "        shuffle=True)\n",
        "\n",
        "    device = torch.device(\"cuda\" if torch.cuda.is_available() else \"cpu\")\n",
        "\n",
        "    model = ConvNet()\n",
        "    model.to(device)\n",
        "\n",
        "    optimizer = optim.SGD(\n",
        "        model.parameters(), lr=config[\"lr\"], momentum=config[\"momentum\"])\n",
        "    for i in range(10):\n",
        "        train(model, optimizer, train_loader)\n",
        "        acc = test(model, test_loader)\n",
        "\n",
        "        # Send the current training result back to Tune\n",
        "        tune.report(mean_accuracy=acc)\n",
        "\n",
        "        if i % 5 == 0:\n",
        "            # This saves the model to the trial directory\n",
        "            torch.save(model.state_dict(), \"./model.pth\")\n",
        "search_space = {\n",
        "    \"lr\": tune.sample_from(lambda spec: 10**(-10 * np.random.rand())),\n",
        "    \"momentum\": tune.uniform(0.01, 0.09)\n",
        "}\n",
        "\n",
        "# Uncomment this to enable distributed execution\n",
        "# ray.shutdown()\n",
        "# ray.init(address=\"auto\",ignore_reinit_error=True)\n",
        "# ray.init(address =f'ray://{headnode_private_ip}:10001',allow_multiple=True,ignore_reinit_error=True )\n",
        "# Download the dataset first\n",
        "datasets.MNIST(\"~/data\", train=True, download=True)\n",
        "\n",
        "analysis = tune.run(train_mnist, config=search_space)\n"
      ],
      "outputs": [
        {
          "output_type": "stream",
          "name": "stdout",
          "text": "Downloading http://yann.lecun.com/exdb/mnist/train-images-idx3-ubyte.gz\nDownloading http://yann.lecun.com/exdb/mnist/train-images-idx3-ubyte.gz to /home/azureuser/data/MNIST/raw/train-images-idx3-ubyte.gz\n"
        },
        {
          "output_type": "display_data",
          "data": {
            "text/plain": "  0%|          | 0/9912422 [00:00<?, ?it/s]",
            "application/vnd.jupyter.widget-view+json": {
              "version_major": 2,
              "version_minor": 0,
              "model_id": "6c76dfad2a95403cb2e2c4290e74942a"
            }
          },
          "metadata": {}
        },
        {
          "output_type": "stream",
          "name": "stdout",
          "text": "Extracting /home/azureuser/data/MNIST/raw/train-images-idx3-ubyte.gz to /home/azureuser/data/MNIST/raw\n\nDownloading http://yann.lecun.com/exdb/mnist/train-labels-idx1-ubyte.gz\nDownloading http://yann.lecun.com/exdb/mnist/train-labels-idx1-ubyte.gz to /home/azureuser/data/MNIST/raw/train-labels-idx1-ubyte.gz\nExtracting /home/azureuser/data/MNIST/raw/train-labels-idx1-ubyte.gz to /home/azureuser/data/MNIST/raw\n\nDownloading http://yann.lecun.com/exdb/mnist/t10k-images-idx3-ubyte.gz\n"
        },
        {
          "output_type": "display_data",
          "data": {
            "text/plain": "  0%|          | 0/28881 [00:00<?, ?it/s]",
            "application/vnd.jupyter.widget-view+json": {
              "version_major": 2,
              "version_minor": 0,
              "model_id": "7fb53c66484f44589bc80360062e20ad"
            }
          },
          "metadata": {}
        },
        {
          "output_type": "stream",
          "name": "stdout",
          "text": "Downloading http://yann.lecun.com/exdb/mnist/t10k-images-idx3-ubyte.gz to /home/azureuser/data/MNIST/raw/t10k-images-idx3-ubyte.gz\nExtracting /home/azureuser/data/MNIST/raw/t10k-images-idx3-ubyte.gz to /home/azureuser/data/MNIST/raw\n\nDownloading http://yann.lecun.com/exdb/mnist/t10k-labels-idx1-ubyte.gz\nDownloading http://yann.lecun.com/exdb/mnist/t10k-labels-idx1-ubyte.gz to /home/azureuser/data/MNIST/raw/t10k-labels-idx1-ubyte.gz\nExtracting /home/azureuser/data/MNIST/raw/t10k-labels-idx1-ubyte.gz to /home/azureuser/data/MNIST/raw\n\nProcessing...\n"
        },
        {
          "output_type": "display_data",
          "data": {
            "text/plain": "  0%|          | 0/1648877 [00:00<?, ?it/s]",
            "application/vnd.jupyter.widget-view+json": {
              "version_major": 2,
              "version_minor": 0,
              "model_id": "41c37cf5fa514af386f25e11f4bb4d2e"
            }
          },
          "metadata": {}
        },
        {
          "output_type": "display_data",
          "data": {
            "text/plain": "  0%|          | 0/4542 [00:00<?, ?it/s]",
            "application/vnd.jupyter.widget-view+json": {
              "version_major": 2,
              "version_minor": 0,
              "model_id": "02b6d3ba964d4be68444433e63dbc6a5"
            }
          },
          "metadata": {}
        },
        {
          "output_type": "stream",
          "name": "stderr",
          "text": "/anaconda/envs/azureml_py36/lib/python3.6/site-packages/torchvision/datasets/mnist.py:502: UserWarning: The given NumPy array is not writeable, and PyTorch does not support non-writeable tensors. This means you can write to the underlying (supposedly non-writeable) NumPy array using the tensor. You may want to copy the array to protect its data or make it writeable before converting it to a tensor. This type of warning will be suppressed for the rest of this program. (Triggered internally at  /pytorch/torch/csrc/utils/tensor_numpy.cpp:180.)\n  return torch.from_numpy(parsed.astype(m[2], copy=False)).view(*s)\n2021-12-10 02:47:57,844\tWARNING function_runner.py:564 -- Function checkpointing is disabled. This may result in unexpected behavior when using checkpointing features or certain schedulers. To enable, set the train function arguments to be `func(config, checkpoint_dir=None)`.\n"
        },
        {
          "output_type": "stream",
          "name": "stdout",
          "text": "Done!\n"
        },
        {
          "output_type": "display_data",
          "data": {
            "text/plain": "<IPython.core.display.HTML object>",
            "text/html": "== Status ==<br>Current time: 2021-12-10 02:47:58 (running for 00:00:00.12)<br>Memory usage on this node: 5.4/94.3 GiB<br>Using FIFO scheduling algorithm.<br>Resources requested: 0/48 CPUs, 0/0 GPUs, 0.0/54.31 GiB heap, 0.0/27.15 GiB objects<br>Result logdir: /home/azureuser/ray_results/train_mnist_2021-12-10_02-47-57<br>Number of trials: 1/1 (1 PENDING)<br><table>\n<thead>\n<tr><th>Trial name             </th><th>status  </th><th>loc  </th><th style=\"text-align: right;\">         lr</th><th style=\"text-align: right;\">  momentum</th></tr>\n</thead>\n<tbody>\n<tr><td>train_mnist_9507e_00000</td><td>PENDING </td><td>     </td><td style=\"text-align: right;\">3.72805e-10</td><td style=\"text-align: right;\"> 0.0233414</td></tr>\n</tbody>\n</table><br><br>"
          },
          "metadata": {}
        },
        {
          "output_type": "stream",
          "name": "stderr",
          "text": "\u001b[2m\u001b[36m(pid=5668)\u001b[0m /anaconda/envs/azureml_py36/lib/python3.6/site-packages/torch/nn/functional.py:718: UserWarning: Named tensors and all their associated APIs are an experimental feature and subject to change. Please do not use them for anything important until they are released as stable. (Triggered internally at  /pytorch/c10/core/TensorImpl.h:1156.)\n\u001b[2m\u001b[36m(pid=5668)\u001b[0m   return torch.max_pool2d(input, kernel_size, stride, padding, dilation, ceil_mode)\n"
        },
        {
          "output_type": "stream",
          "name": "stdout",
          "text": "Result for train_mnist_9507e_00000:\n  date: 2021-12-10_02-48-00\n  done: false\n  experiment_id: f0d5d864bb194a29a0b5fe918e61a97d\n  hostname: janguy2\n  iterations_since_restore: 1\n  mean_accuracy: 0.053125\n  node_ip: 10.0.0.5\n  pid: 5668\n  time_since_restore: 1.2203056812286377\n  time_this_iter_s: 1.2203056812286377\n  time_total_s: 1.2203056812286377\n  timestamp: 1639104480\n  timesteps_since_restore: 0\n  training_iteration: 1\n  trial_id: 9507e_00000\n  \nResult for train_mnist_9507e_00000:\n  date: 2021-12-10_02-48-01\n  done: true\n  experiment_id: f0d5d864bb194a29a0b5fe918e61a97d\n  experiment_tag: 0_lr=3.7281e-10,momentum=0.023341\n  hostname: janguy2\n  iterations_since_restore: 10\n  mean_accuracy: 0.053125\n  node_ip: 10.0.0.5\n  pid: 5668\n  time_since_restore: 2.5444483757019043\n  time_this_iter_s: 0.14707326889038086\n  time_total_s: 2.5444483757019043\n  timestamp: 1639104481\n  timesteps_since_restore: 0\n  training_iteration: 10\n  trial_id: 9507e_00000\n  \n"
        },
        {
          "output_type": "display_data",
          "data": {
            "text/plain": "<IPython.core.display.HTML object>",
            "text/html": "== Status ==<br>Current time: 2021-12-10 02:48:01 (running for 00:00:03.53)<br>Memory usage on this node: 5.4/94.3 GiB<br>Using FIFO scheduling algorithm.<br>Resources requested: 0/48 CPUs, 0/0 GPUs, 0.0/54.31 GiB heap, 0.0/27.15 GiB objects<br>Result logdir: /home/azureuser/ray_results/train_mnist_2021-12-10_02-47-57<br>Number of trials: 1/1 (1 TERMINATED)<br><table>\n<thead>\n<tr><th>Trial name             </th><th>status    </th><th>loc          </th><th style=\"text-align: right;\">         lr</th><th style=\"text-align: right;\">  momentum</th><th style=\"text-align: right;\">     acc</th><th style=\"text-align: right;\">  iter</th><th style=\"text-align: right;\">  total time (s)</th></tr>\n</thead>\n<tbody>\n<tr><td>train_mnist_9507e_00000</td><td>TERMINATED</td><td>10.0.0.5:5668</td><td style=\"text-align: right;\">3.72805e-10</td><td style=\"text-align: right;\"> 0.0233414</td><td style=\"text-align: right;\">0.053125</td><td style=\"text-align: right;\">    10</td><td style=\"text-align: right;\">         2.54445</td></tr>\n</tbody>\n</table><br><br>"
          },
          "metadata": {}
        },
        {
          "output_type": "stream",
          "name": "stderr",
          "text": "2021-12-10 02:48:01,935\tINFO tune.py:630 -- Total run time: 4.09 seconds (3.52 seconds for the tuning loop).\n"
        }
      ],
      "execution_count": 10,
      "metadata": {
        "gather": {
          "logged": 1639104481596
        }
      }
    },
    {
      "cell_type": "code",
      "source": [
        " import sklearn.datasets\n",
        " import sklearn.metrics\n",
        " from sklearn.model_selection import train_test_split\n",
        " import xgboost as xgb\n",
        "\n",
        " from ray import tune\n",
        "\n",
        "\n",
        " def train_breast_cancer(config):\n",
        "     # Load dataset\n",
        "     data, labels = sklearn.datasets.load_breast_cancer(return_X_y=True)\n",
        "     # Split into train and test set\n",
        "     train_x, test_x, train_y, test_y = train_test_split(\n",
        "         data, labels, test_size=0.25)\n",
        "     # Build input matrices for XGBoost\n",
        "     train_set = xgb.DMatrix(train_x, label=train_y)\n",
        "     test_set = xgb.DMatrix(test_x, label=test_y)\n",
        "     # Train the classifier\n",
        "     results = {}\n",
        "     xgb.train(\n",
        "         config,\n",
        "         train_set,\n",
        "         evals=[(test_set, \"eval\")],\n",
        "         evals_result=results,\n",
        "         verbose_eval=False)\n",
        "     # Return prediction accuracy\n",
        "     accuracy = 1. - results[\"eval\"][\"error\"][-1]\n",
        "     tune.report(mean_accuracy=accuracy, done=True)\n",
        "\n",
        "\n",
        " config = {\n",
        "     \"objective\": \"binary:logistic\",\n",
        "     \"eval_metric\": [\"logloss\", \"error\"],\n",
        "     \"max_depth\": tune.randint(1, 9),\n",
        "     \"min_child_weight\": tune.choice([1, 2, 3]),\n",
        "     \"subsample\": tune.uniform(0.5, 1.0),\n",
        "     \"eta\": tune.loguniform(1e-4, 1e-1)\n",
        " }\n",
        " analysis = tune.run(\n",
        "     train_breast_cancer,\n",
        "     resources_per_trial={\"cpu\": 1},\n",
        "     config=config,\n",
        "     num_samples=10)\n"
      ],
      "outputs": [
        {
          "output_type": "display_data",
          "data": {
            "text/plain": "<IPython.core.display.HTML object>",
            "text/html": "== Status ==<br>Current time: 2021-12-10 02:48:04 (running for 00:00:00.14)<br>Memory usage on this node: 5.3/94.3 GiB<br>Using FIFO scheduling algorithm.<br>Resources requested: 0/48 CPUs, 0/0 GPUs, 0.0/54.31 GiB heap, 0.0/27.15 GiB objects<br>Result logdir: /home/azureuser/ray_results/train_breast_cancer_2021-12-10_02-48-04<br>Number of trials: 10/10 (10 PENDING)<br><table>\n<thead>\n<tr><th>Trial name                     </th><th>status  </th><th>loc  </th><th style=\"text-align: right;\">        eta</th><th style=\"text-align: right;\">  max_depth</th><th style=\"text-align: right;\">  min_child_weight</th><th style=\"text-align: right;\">  subsample</th></tr>\n</thead>\n<tbody>\n<tr><td>train_breast_cancer_98d5b_00000</td><td>PENDING </td><td>     </td><td style=\"text-align: right;\">0.000215207</td><td style=\"text-align: right;\">          1</td><td style=\"text-align: right;\">                 2</td><td style=\"text-align: right;\">   0.991314</td></tr>\n<tr><td>train_breast_cancer_98d5b_00001</td><td>PENDING </td><td>     </td><td style=\"text-align: right;\">0.00177882 </td><td style=\"text-align: right;\">          4</td><td style=\"text-align: right;\">                 2</td><td style=\"text-align: right;\">   0.860054</td></tr>\n<tr><td>train_breast_cancer_98d5b_00002</td><td>PENDING </td><td>     </td><td style=\"text-align: right;\">0.0237837  </td><td style=\"text-align: right;\">          6</td><td style=\"text-align: right;\">                 3</td><td style=\"text-align: right;\">   0.577541</td></tr>\n<tr><td>train_breast_cancer_98d5b_00003</td><td>PENDING </td><td>     </td><td style=\"text-align: right;\">0.000448295</td><td style=\"text-align: right;\">          7</td><td style=\"text-align: right;\">                 3</td><td style=\"text-align: right;\">   0.669501</td></tr>\n<tr><td>train_breast_cancer_98d5b_00004</td><td>PENDING </td><td>     </td><td style=\"text-align: right;\">0.000131317</td><td style=\"text-align: right;\">          6</td><td style=\"text-align: right;\">                 2</td><td style=\"text-align: right;\">   0.979965</td></tr>\n<tr><td>train_breast_cancer_98d5b_00005</td><td>PENDING </td><td>     </td><td style=\"text-align: right;\">0.00842119 </td><td style=\"text-align: right;\">          2</td><td style=\"text-align: right;\">                 3</td><td style=\"text-align: right;\">   0.691144</td></tr>\n<tr><td>train_breast_cancer_98d5b_00006</td><td>PENDING </td><td>     </td><td style=\"text-align: right;\">0.00727616 </td><td style=\"text-align: right;\">          5</td><td style=\"text-align: right;\">                 2</td><td style=\"text-align: right;\">   0.650641</td></tr>\n<tr><td>train_breast_cancer_98d5b_00007</td><td>PENDING </td><td>     </td><td style=\"text-align: right;\">0.00647503 </td><td style=\"text-align: right;\">          6</td><td style=\"text-align: right;\">                 2</td><td style=\"text-align: right;\">   0.717976</td></tr>\n<tr><td>train_breast_cancer_98d5b_00008</td><td>PENDING </td><td>     </td><td style=\"text-align: right;\">0.000159053</td><td style=\"text-align: right;\">          8</td><td style=\"text-align: right;\">                 1</td><td style=\"text-align: right;\">   0.519957</td></tr>\n<tr><td>train_breast_cancer_98d5b_00009</td><td>PENDING </td><td>     </td><td style=\"text-align: right;\">0.000163399</td><td style=\"text-align: right;\">          7</td><td style=\"text-align: right;\">                 3</td><td style=\"text-align: right;\">   0.783772</td></tr>\n</tbody>\n</table><br><br>"
          },
          "metadata": {}
        },
        {
          "output_type": "stream",
          "name": "stdout",
          "text": "Result for train_breast_cancer_98d5b_00002:\n  date: 2021-12-10_02-48-05\n  done: true\n  experiment_id: 20cd17427a7441799255e975f9ee7215\n  hostname: janguy2\n  iterations_since_restore: 1\n  mean_accuracy: 0.902098\n  node_ip: 10.0.0.5\n  pid: 5669\n  time_since_restore: 0.03443479537963867\n  time_this_iter_s: 0.03443479537963867\n  time_total_s: 0.03443479537963867\n  timestamp: 1639104485\n  timesteps_since_restore: 0\n  training_iteration: 1\n  trial_id: 98d5b_00002\n  \nResult for train_breast_cancer_98d5b_00000:\n  date: 2021-12-10_02-48-05\n  done: true\n  experiment_id: 1973cc8ffc57478eb86103dc93e2a5c5\n  hostname: janguy2\n  iterations_since_restore: 1\n  mean_accuracy: 0.93007\n  node_ip: 10.0.0.5\n  pid: 5724\n  time_since_restore: 0.01591324806213379\n  time_this_iter_s: 0.01591324806213379\n  time_total_s: 0.01591324806213379\n  timestamp: 1639104485\n  timesteps_since_restore: 0\n  training_iteration: 1\n  trial_id: 98d5b_00000\n  \nResult for train_breast_cancer_98d5b_00001:\n  date: 2021-12-10_02-48-05\n  done: true\n  experiment_id: 5fa4bcb144e4404aac385575c4728299\n  hostname: janguy2\n  iterations_since_restore: 1\n  mean_accuracy: 0.93007\n  node_ip: 10.0.0.5\n  pid: 5723\n  time_since_restore: 0.021480321884155273\n  time_this_iter_s: 0.021480321884155273\n  time_total_s: 0.021480321884155273\n  timestamp: 1639104485\n  timesteps_since_restore: 0\n  training_iteration: 1\n  trial_id: 98d5b_00001\n  \nResult for train_breast_cancer_98d5b_00009:\n  date: 2021-12-10_02-48-05\n  done: true\n  experiment_id: d04854efc31b4c57a8f7dfb014a67049\n  hostname: janguy2\n  iterations_since_restore: 1\n  mean_accuracy: 0.895105\n  node_ip: 10.0.0.5\n  pid: 10707\n  time_since_restore: 0.019290447235107422\n  time_this_iter_s: 0.019290447235107422\n  time_total_s: 0.019290447235107422\n  timestamp: 1639104485\n  timesteps_since_restore: 0\n  training_iteration: 1\n  trial_id: 98d5b_00009\n  \nResult for train_breast_cancer_98d5b_00008:\n  date: 2021-12-10_02-48-05\n  done: true\n  experiment_id: a67bc9592a324e578a427fd6882ed79b\n  hostname: janguy2\n  iterations_since_restore: 1\n  mean_accuracy: 0.979021\n  node_ip: 10.0.0.5\n  pid: 10709\n  time_since_restore: 0.020487070083618164\n  time_this_iter_s: 0.020487070083618164\n  time_total_s: 0.020487070083618164\n  timestamp: 1639104485\n  timesteps_since_restore: 0\n  training_iteration: 1\n  trial_id: 98d5b_00008\n  \nResult for train_breast_cancer_98d5b_00005:\n  date: 2021-12-10_02-48-06\n  done: true\n  experiment_id: 83937605ec48475cb4210bcf1e33d769\n  hostname: janguy2\n  iterations_since_restore: 1\n  mean_accuracy: 0.888112\n  node_ip: 10.0.0.5\n  pid: 10710\n  time_since_restore: 0.016997337341308594\n  time_this_iter_s: 0.016997337341308594\n  time_total_s: 0.016997337341308594\n  timestamp: 1639104486\n  timesteps_since_restore: 0\n  training_iteration: 1\n  trial_id: 98d5b_00005\n  \nResult for train_breast_cancer_98d5b_00007:\n  date: 2021-12-10_02-48-06\n  done: true\n  experiment_id: 7fc4a3732b1b4d83978753adfe6f8fd9\n  hostname: janguy2\n  iterations_since_restore: 1\n  mean_accuracy: 0.93007\n  node_ip: 10.0.0.5\n  pid: 10708\n  time_since_restore: 0.02154541015625\n  time_this_iter_s: 0.02154541015625\n  time_total_s: 0.02154541015625\n  timestamp: 1639104486\n  timesteps_since_restore: 0\n  training_iteration: 1\n  trial_id: 98d5b_00007\n  \nResult for train_breast_cancer_98d5b_00006:\n  date: 2021-12-10_02-48-06\n  done: true\n  experiment_id: 2440c0bde8b1477687625b136f004a01\n  hostname: janguy2\n  iterations_since_restore: 1\n  mean_accuracy: 0.937063\n  node_ip: 10.0.0.5\n  pid: 10711\n  time_since_restore: 0.024286508560180664\n  time_this_iter_s: 0.024286508560180664\n  time_total_s: 0.024286508560180664\n  timestamp: 1639104486\n  timesteps_since_restore: 0\n  training_iteration: 1\n  trial_id: 98d5b_00006\n  \nResult for train_breast_cancer_98d5b_00003:\n  date: 2021-12-10_02-48-06\n  done: true\n  experiment_id: 52cf634a95a74453ad1ab5b70e4bdd3f\n  hostname: janguy2\n  iterations_since_restore: 1\n  mean_accuracy: 0.923077\n  node_ip: 10.0.0.5\n  pid: 10730\n  time_since_restore: 0.018958568572998047\n  time_this_iter_s: 0.018958568572998047\n  time_total_s: 0.018958568572998047\n  timestamp: 1639104486\n  timesteps_since_restore: 0\n  training_iteration: 1\n  trial_id: 98d5b_00003\n  \nResult for train_breast_cancer_98d5b_00004:\n  date: 2021-12-10_02-48-06\n  done: true\n  experiment_id: 01d6ca0458414de3bc38c4be133e870f\n  hostname: janguy2\n  iterations_since_restore: 1\n  mean_accuracy: 0.93007\n  node_ip: 10.0.0.5\n  pid: 10735\n  time_since_restore: 0.021993637084960938\n  time_this_iter_s: 0.021993637084960938\n  time_total_s: 0.021993637084960938\n  timestamp: 1639104486\n  timesteps_since_restore: 0\n  training_iteration: 1\n  trial_id: 98d5b_00004\n  \n"
        },
        {
          "output_type": "display_data",
          "data": {
            "text/plain": "<IPython.core.display.HTML object>",
            "text/html": "== Status ==<br>Current time: 2021-12-10 02:48:06 (running for 00:00:01.83)<br>Memory usage on this node: 5.1/94.3 GiB<br>Using FIFO scheduling algorithm.<br>Resources requested: 0/48 CPUs, 0/0 GPUs, 0.0/54.31 GiB heap, 0.0/27.15 GiB objects<br>Result logdir: /home/azureuser/ray_results/train_breast_cancer_2021-12-10_02-48-04<br>Number of trials: 10/10 (10 TERMINATED)<br><table>\n<thead>\n<tr><th>Trial name                     </th><th>status    </th><th>loc           </th><th style=\"text-align: right;\">        eta</th><th style=\"text-align: right;\">  max_depth</th><th style=\"text-align: right;\">  min_child_weight</th><th style=\"text-align: right;\">  subsample</th><th style=\"text-align: right;\">     acc</th><th style=\"text-align: right;\">  iter</th><th style=\"text-align: right;\">  total time (s)</th></tr>\n</thead>\n<tbody>\n<tr><td>train_breast_cancer_98d5b_00000</td><td>TERMINATED</td><td>10.0.0.5:5724 </td><td style=\"text-align: right;\">0.000215207</td><td style=\"text-align: right;\">          1</td><td style=\"text-align: right;\">                 2</td><td style=\"text-align: right;\">   0.991314</td><td style=\"text-align: right;\">0.93007 </td><td style=\"text-align: right;\">     1</td><td style=\"text-align: right;\">       0.0159132</td></tr>\n<tr><td>train_breast_cancer_98d5b_00001</td><td>TERMINATED</td><td>10.0.0.5:5723 </td><td style=\"text-align: right;\">0.00177882 </td><td style=\"text-align: right;\">          4</td><td style=\"text-align: right;\">                 2</td><td style=\"text-align: right;\">   0.860054</td><td style=\"text-align: right;\">0.93007 </td><td style=\"text-align: right;\">     1</td><td style=\"text-align: right;\">       0.0214803</td></tr>\n<tr><td>train_breast_cancer_98d5b_00002</td><td>TERMINATED</td><td>10.0.0.5:5669 </td><td style=\"text-align: right;\">0.0237837  </td><td style=\"text-align: right;\">          6</td><td style=\"text-align: right;\">                 3</td><td style=\"text-align: right;\">   0.577541</td><td style=\"text-align: right;\">0.902098</td><td style=\"text-align: right;\">     1</td><td style=\"text-align: right;\">       0.0344348</td></tr>\n<tr><td>train_breast_cancer_98d5b_00003</td><td>TERMINATED</td><td>10.0.0.5:10730</td><td style=\"text-align: right;\">0.000448295</td><td style=\"text-align: right;\">          7</td><td style=\"text-align: right;\">                 3</td><td style=\"text-align: right;\">   0.669501</td><td style=\"text-align: right;\">0.923077</td><td style=\"text-align: right;\">     1</td><td style=\"text-align: right;\">       0.0189586</td></tr>\n<tr><td>train_breast_cancer_98d5b_00004</td><td>TERMINATED</td><td>10.0.0.5:10735</td><td style=\"text-align: right;\">0.000131317</td><td style=\"text-align: right;\">          6</td><td style=\"text-align: right;\">                 2</td><td style=\"text-align: right;\">   0.979965</td><td style=\"text-align: right;\">0.93007 </td><td style=\"text-align: right;\">     1</td><td style=\"text-align: right;\">       0.0219936</td></tr>\n<tr><td>train_breast_cancer_98d5b_00005</td><td>TERMINATED</td><td>10.0.0.5:10710</td><td style=\"text-align: right;\">0.00842119 </td><td style=\"text-align: right;\">          2</td><td style=\"text-align: right;\">                 3</td><td style=\"text-align: right;\">   0.691144</td><td style=\"text-align: right;\">0.888112</td><td style=\"text-align: right;\">     1</td><td style=\"text-align: right;\">       0.0169973</td></tr>\n<tr><td>train_breast_cancer_98d5b_00006</td><td>TERMINATED</td><td>10.0.0.5:10711</td><td style=\"text-align: right;\">0.00727616 </td><td style=\"text-align: right;\">          5</td><td style=\"text-align: right;\">                 2</td><td style=\"text-align: right;\">   0.650641</td><td style=\"text-align: right;\">0.937063</td><td style=\"text-align: right;\">     1</td><td style=\"text-align: right;\">       0.0242865</td></tr>\n<tr><td>train_breast_cancer_98d5b_00007</td><td>TERMINATED</td><td>10.0.0.5:10708</td><td style=\"text-align: right;\">0.00647503 </td><td style=\"text-align: right;\">          6</td><td style=\"text-align: right;\">                 2</td><td style=\"text-align: right;\">   0.717976</td><td style=\"text-align: right;\">0.93007 </td><td style=\"text-align: right;\">     1</td><td style=\"text-align: right;\">       0.0215454</td></tr>\n<tr><td>train_breast_cancer_98d5b_00008</td><td>TERMINATED</td><td>10.0.0.5:10709</td><td style=\"text-align: right;\">0.000159053</td><td style=\"text-align: right;\">          8</td><td style=\"text-align: right;\">                 1</td><td style=\"text-align: right;\">   0.519957</td><td style=\"text-align: right;\">0.979021</td><td style=\"text-align: right;\">     1</td><td style=\"text-align: right;\">       0.0204871</td></tr>\n<tr><td>train_breast_cancer_98d5b_00009</td><td>TERMINATED</td><td>10.0.0.5:10707</td><td style=\"text-align: right;\">0.000163399</td><td style=\"text-align: right;\">          7</td><td style=\"text-align: right;\">                 3</td><td style=\"text-align: right;\">   0.783772</td><td style=\"text-align: right;\">0.895105</td><td style=\"text-align: right;\">     1</td><td style=\"text-align: right;\">       0.0192904</td></tr>\n</tbody>\n</table><br><br>"
          },
          "metadata": {}
        },
        {
          "output_type": "stream",
          "name": "stderr",
          "text": "2021-12-10 02:48:06,189\tINFO tune.py:630 -- Total run time: 1.95 seconds (1.81 seconds for the tuning loop).\n"
        }
      ],
      "execution_count": 11,
      "metadata": {
        "gather": {
          "logged": 1639104485871
        }
      }
    },
    {
      "cell_type": "code",
      "source": [],
      "outputs": [],
      "execution_count": null,
      "metadata": {}
    },
    {
      "cell_type": "code",
      "source": [
        "#dask\n",
        "\n",
        "# import ray\n",
        "from ray.util.dask import ray_dask_get\n",
        "import dask\n",
        "import dask.array as da\n",
        "import dask.dataframe as dd\n",
        "import numpy as np\n",
        "import pandas as pd\n",
        "import dask\n",
        "import glob\n",
        "import joblib\n",
        "\n",
        "import pandas as pd\n",
        "import dask.dataframe as dd\n",
        "import matplotlib.pyplot as plt\n",
        "\n",
        "from datetime import datetime\n",
        "\n",
        "from azureml.core import Workspace, Dataset, Model\n",
        "data_url = 'https://azureopendatastorage.blob.core.windows.net/isdweatherdatacontainer/ISDWeather'\n",
        "\n"
      ],
      "outputs": [],
      "execution_count": 3,
      "metadata": {
        "gather": {
          "logged": 1639104696264
        }
      }
    },
    {
      "cell_type": "code",
      "source": [
        "from adlfs import AzureBlobFileSystem,AzureDatalakeFileSystem\n",
        "sas_token='sp=rle&st=2021-11-27T19:26:49Z&se=2022-04-22T02:26:49Z&spr=https&sv=2020-08-04&sr=c&sig=gpYJ3LofkkjkeWkrMDTY1Ge6NsOCghbUR9CQs65HCvU%3D'\n",
        "account_key='ak7nSgU/iRc5XCvXjaM2UwX18ybS9WO1BsE4Vm42XLmiZvBm1kCyZQD3USeCCOiwusWkDaq0jcRF1JpPHiAMhw=='\n",
        "account_name=\"adlsgen7\"\n",
        "abfs = AzureBlobFileSystem(account_name=\"adlsgen7\",account_key=account_key,  container_name=\"mltraining\")\n",
        "abfs2 = AzureBlobFileSystem(account_name=\"azureopendatastorage\",  container_name=\"isdweatherdatacontainer\")\n"
      ],
      "outputs": [],
      "execution_count": 5,
      "metadata": {
        "gather": {
          "logged": 1639104906607
        }
      }
    },
    {
      "cell_type": "code",
      "source": [
        "import dask.dataframe as dd\n",
        "\n",
        "storage_options={'account_name': account_name, 'account_key': account_key}\n",
        "\n",
        "ddf = dd.read_parquet('az://mltraining/ISDWeatherDelta/year2008', storage_options=storage_options)\n"
      ],
      "outputs": [
        {
          "output_type": "error",
          "ename": "ValueError",
          "evalue": "Directory name did not appear to be a partition: month",
          "traceback": [
            "\u001b[0;31m---------------------------------------------------------------------------\u001b[0m",
            "\u001b[0;31mValueError\u001b[0m                                Traceback (most recent call last)",
            "\u001b[0;32m<ipython-input-12-7f8d82d8c4a6>\u001b[0m in \u001b[0;36m<module>\u001b[0;34m\u001b[0m\n\u001b[1;32m      3\u001b[0m \u001b[0mstorage_options\u001b[0m\u001b[0;34m=\u001b[0m\u001b[0;34m{\u001b[0m\u001b[0;34m'account_name'\u001b[0m\u001b[0;34m:\u001b[0m \u001b[0maccount_name\u001b[0m\u001b[0;34m,\u001b[0m \u001b[0;34m'account_key'\u001b[0m\u001b[0;34m:\u001b[0m \u001b[0maccount_key\u001b[0m\u001b[0;34m}\u001b[0m\u001b[0;34m\u001b[0m\u001b[0;34m\u001b[0m\u001b[0m\n\u001b[1;32m      4\u001b[0m \u001b[0;34m\u001b[0m\u001b[0m\n\u001b[0;32m----> 5\u001b[0;31m \u001b[0mddf\u001b[0m \u001b[0;34m=\u001b[0m \u001b[0mdd\u001b[0m\u001b[0;34m.\u001b[0m\u001b[0mread_parquet\u001b[0m\u001b[0;34m(\u001b[0m\u001b[0;34m'az://mltraining/ISDWeatherDelta/year2008'\u001b[0m\u001b[0;34m,\u001b[0m \u001b[0mstorage_options\u001b[0m\u001b[0;34m=\u001b[0m\u001b[0mstorage_options\u001b[0m\u001b[0;34m)\u001b[0m\u001b[0;34m\u001b[0m\u001b[0;34m\u001b[0m\u001b[0m\n\u001b[0m",
            "\u001b[0;32m/anaconda/envs/azureml_py36/lib/python3.6/site-packages/dask/dataframe/io/parquet/core.py\u001b[0m in \u001b[0;36mread_parquet\u001b[0;34m(path, columns, filters, categories, index, storage_options, engine, gather_statistics, split_row_groups, chunksize, **kwargs)\u001b[0m\n\u001b[1;32m    237\u001b[0m         \u001b[0mfilters\u001b[0m\u001b[0;34m=\u001b[0m\u001b[0mfilters\u001b[0m\u001b[0;34m,\u001b[0m\u001b[0;34m\u001b[0m\u001b[0;34m\u001b[0m\u001b[0m\n\u001b[1;32m    238\u001b[0m         \u001b[0msplit_row_groups\u001b[0m\u001b[0;34m=\u001b[0m\u001b[0msplit_row_groups\u001b[0m\u001b[0;34m,\u001b[0m\u001b[0;34m\u001b[0m\u001b[0;34m\u001b[0m\u001b[0m\n\u001b[0;32m--> 239\u001b[0;31m         \u001b[0;34m**\u001b[0m\u001b[0mkwargs\u001b[0m\u001b[0;34m,\u001b[0m\u001b[0;34m\u001b[0m\u001b[0;34m\u001b[0m\u001b[0m\n\u001b[0m\u001b[1;32m    240\u001b[0m     )\n\u001b[1;32m    241\u001b[0m \u001b[0;34m\u001b[0m\u001b[0m\n",
            "\u001b[0;32m/anaconda/envs/azureml_py36/lib/python3.6/site-packages/dask/dataframe/io/parquet/arrow.py\u001b[0m in \u001b[0;36mread_metadata\u001b[0;34m(cls, fs, paths, categories, index, gather_statistics, filters, split_row_groups, **kwargs)\u001b[0m\n\u001b[1;32m    654\u001b[0m             \u001b[0mgather_statistics\u001b[0m\u001b[0;34m,\u001b[0m\u001b[0;34m\u001b[0m\u001b[0;34m\u001b[0m\u001b[0m\n\u001b[1;32m    655\u001b[0m         \u001b[0;34m)\u001b[0m \u001b[0;34m=\u001b[0m \u001b[0m_gather_metadata\u001b[0m\u001b[0;34m(\u001b[0m\u001b[0;34m\u001b[0m\u001b[0;34m\u001b[0m\u001b[0m\n\u001b[0;32m--> 656\u001b[0;31m             \u001b[0mpaths\u001b[0m\u001b[0;34m,\u001b[0m \u001b[0mfs\u001b[0m\u001b[0;34m,\u001b[0m \u001b[0msplit_row_groups\u001b[0m\u001b[0;34m,\u001b[0m \u001b[0mgather_statistics\u001b[0m\u001b[0;34m,\u001b[0m \u001b[0mfilters\u001b[0m\u001b[0;34m,\u001b[0m \u001b[0mdataset_kwargs\u001b[0m\u001b[0;34m\u001b[0m\u001b[0;34m\u001b[0m\u001b[0m\n\u001b[0m\u001b[1;32m    657\u001b[0m         )\n\u001b[1;32m    658\u001b[0m \u001b[0;34m\u001b[0m\u001b[0m\n",
            "\u001b[0;32m/anaconda/envs/azureml_py36/lib/python3.6/site-packages/dask/dataframe/io/parquet/arrow.py\u001b[0m in \u001b[0;36m_gather_metadata\u001b[0;34m(paths, fs, split_row_groups, gather_statistics, filters, dataset_kwargs)\u001b[0m\n\u001b[1;32m    164\u001b[0m \u001b[0;34m\u001b[0m\u001b[0m\n\u001b[1;32m    165\u001b[0m     \u001b[0;31m# Step 1: Create a ParquetDataset object\u001b[0m\u001b[0;34m\u001b[0m\u001b[0;34m\u001b[0m\u001b[0;34m\u001b[0m\u001b[0m\n\u001b[0;32m--> 166\u001b[0;31m     \u001b[0mdataset\u001b[0m\u001b[0;34m,\u001b[0m \u001b[0mbase\u001b[0m\u001b[0;34m,\u001b[0m \u001b[0mfns\u001b[0m \u001b[0;34m=\u001b[0m \u001b[0m_get_dataset_object\u001b[0m\u001b[0;34m(\u001b[0m\u001b[0mpaths\u001b[0m\u001b[0;34m,\u001b[0m \u001b[0mfs\u001b[0m\u001b[0;34m,\u001b[0m \u001b[0mfilters\u001b[0m\u001b[0;34m,\u001b[0m \u001b[0mdataset_kwargs\u001b[0m\u001b[0;34m)\u001b[0m\u001b[0;34m\u001b[0m\u001b[0;34m\u001b[0m\u001b[0m\n\u001b[0m\u001b[1;32m    167\u001b[0m     \u001b[0;32mif\u001b[0m \u001b[0mfns\u001b[0m \u001b[0;34m==\u001b[0m \u001b[0;34m[\u001b[0m\u001b[0;32mNone\u001b[0m\u001b[0;34m]\u001b[0m\u001b[0;34m:\u001b[0m\u001b[0;34m\u001b[0m\u001b[0;34m\u001b[0m\u001b[0m\n\u001b[1;32m    168\u001b[0m         \u001b[0;31m# This is a single file. No danger in gathering statistics\u001b[0m\u001b[0;34m\u001b[0m\u001b[0;34m\u001b[0m\u001b[0;34m\u001b[0m\u001b[0m\n",
            "\u001b[0;32m/anaconda/envs/azureml_py36/lib/python3.6/site-packages/dask/dataframe/io/parquet/arrow.py\u001b[0m in \u001b[0;36m_get_dataset_object\u001b[0;34m(paths, fs, filters, dataset_kwargs)\u001b[0m\n\u001b[1;32m    142\u001b[0m         \u001b[0mallpaths\u001b[0m \u001b[0;34m=\u001b[0m \u001b[0mfs\u001b[0m\u001b[0;34m.\u001b[0m\u001b[0mglob\u001b[0m\u001b[0;34m(\u001b[0m\u001b[0mpaths\u001b[0m\u001b[0;34m[\u001b[0m\u001b[0;36m0\u001b[0m\u001b[0;34m]\u001b[0m \u001b[0;34m+\u001b[0m \u001b[0mfs\u001b[0m\u001b[0;34m.\u001b[0m\u001b[0msep\u001b[0m \u001b[0;34m+\u001b[0m \u001b[0;34m\"*\"\u001b[0m\u001b[0;34m)\u001b[0m\u001b[0;34m\u001b[0m\u001b[0;34m\u001b[0m\u001b[0m\n\u001b[1;32m    143\u001b[0m         \u001b[0mbase\u001b[0m\u001b[0;34m,\u001b[0m \u001b[0mfns\u001b[0m \u001b[0;34m=\u001b[0m \u001b[0m_analyze_paths\u001b[0m\u001b[0;34m(\u001b[0m\u001b[0mallpaths\u001b[0m\u001b[0;34m,\u001b[0m \u001b[0mfs\u001b[0m\u001b[0;34m)\u001b[0m\u001b[0;34m\u001b[0m\u001b[0;34m\u001b[0m\u001b[0m\n\u001b[0;32m--> 144\u001b[0;31m         \u001b[0mdataset\u001b[0m \u001b[0;34m=\u001b[0m \u001b[0mpq\u001b[0m\u001b[0;34m.\u001b[0m\u001b[0mParquetDataset\u001b[0m\u001b[0;34m(\u001b[0m\u001b[0mpaths\u001b[0m\u001b[0;34m[\u001b[0m\u001b[0;36m0\u001b[0m\u001b[0;34m]\u001b[0m\u001b[0;34m,\u001b[0m \u001b[0mfilesystem\u001b[0m\u001b[0;34m=\u001b[0m\u001b[0mfs\u001b[0m\u001b[0;34m,\u001b[0m \u001b[0mfilters\u001b[0m\u001b[0;34m=\u001b[0m\u001b[0mfilters\u001b[0m\u001b[0;34m,\u001b[0m \u001b[0;34m**\u001b[0m\u001b[0mkwargs\u001b[0m\u001b[0;34m)\u001b[0m\u001b[0;34m\u001b[0m\u001b[0;34m\u001b[0m\u001b[0m\n\u001b[0m\u001b[1;32m    145\u001b[0m     \u001b[0;32melse\u001b[0m\u001b[0;34m:\u001b[0m\u001b[0;34m\u001b[0m\u001b[0;34m\u001b[0m\u001b[0m\n\u001b[1;32m    146\u001b[0m         \u001b[0;31m# This is a single file.  No danger in gathering statistics\u001b[0m\u001b[0;34m\u001b[0m\u001b[0;34m\u001b[0m\u001b[0;34m\u001b[0m\u001b[0m\n",
            "\u001b[0;32m/anaconda/envs/azureml_py36/lib/python3.6/site-packages/pyarrow/parquet.py\u001b[0m in \u001b[0;36m__init__\u001b[0;34m(self, path_or_paths, filesystem, schema, metadata, split_row_groups, validate_schema, filters, metadata_nthreads, read_dictionary, memory_map, buffer_size, partitioning, use_legacy_dataset, pre_buffer, coerce_int96_timestamp_unit)\u001b[0m\n\u001b[1;32m   1355\u001b[0m          \u001b[0mself\u001b[0m\u001b[0;34m.\u001b[0m\u001b[0mmetadata_path\u001b[0m\u001b[0;34m)\u001b[0m \u001b[0;34m=\u001b[0m \u001b[0m_make_manifest\u001b[0m\u001b[0;34m(\u001b[0m\u001b[0;34m\u001b[0m\u001b[0;34m\u001b[0m\u001b[0m\n\u001b[1;32m   1356\u001b[0m              \u001b[0mpath_or_paths\u001b[0m\u001b[0;34m,\u001b[0m \u001b[0mself\u001b[0m\u001b[0;34m.\u001b[0m\u001b[0m_fs\u001b[0m\u001b[0;34m,\u001b[0m \u001b[0mmetadata_nthreads\u001b[0m\u001b[0;34m=\u001b[0m\u001b[0mmetadata_nthreads\u001b[0m\u001b[0;34m,\u001b[0m\u001b[0;34m\u001b[0m\u001b[0;34m\u001b[0m\u001b[0m\n\u001b[0;32m-> 1357\u001b[0;31m              \u001b[0mopen_file_func\u001b[0m\u001b[0;34m=\u001b[0m\u001b[0mpartial\u001b[0m\u001b[0;34m(\u001b[0m\u001b[0m_open_dataset_file\u001b[0m\u001b[0;34m,\u001b[0m \u001b[0mself\u001b[0m\u001b[0;34m.\u001b[0m\u001b[0m_metadata\u001b[0m\u001b[0;34m)\u001b[0m\u001b[0;34m\u001b[0m\u001b[0;34m\u001b[0m\u001b[0m\n\u001b[0m\u001b[1;32m   1358\u001b[0m         )\n\u001b[1;32m   1359\u001b[0m \u001b[0;34m\u001b[0m\u001b[0m\n",
            "\u001b[0;32m/anaconda/envs/azureml_py36/lib/python3.6/site-packages/pyarrow/parquet.py\u001b[0m in \u001b[0;36m_make_manifest\u001b[0;34m(path_or_paths, fs, pathsep, metadata_nthreads, open_file_func)\u001b[0m\n\u001b[1;32m   1593\u001b[0m                                    \u001b[0mopen_file_func\u001b[0m\u001b[0;34m=\u001b[0m\u001b[0mopen_file_func\u001b[0m\u001b[0;34m,\u001b[0m\u001b[0;34m\u001b[0m\u001b[0;34m\u001b[0m\u001b[0m\n\u001b[1;32m   1594\u001b[0m                                    \u001b[0mpathsep\u001b[0m\u001b[0;34m=\u001b[0m\u001b[0mgetattr\u001b[0m\u001b[0;34m(\u001b[0m\u001b[0mfs\u001b[0m\u001b[0;34m,\u001b[0m \u001b[0;34m\"pathsep\"\u001b[0m\u001b[0;34m,\u001b[0m \u001b[0;34m\"/\"\u001b[0m\u001b[0;34m)\u001b[0m\u001b[0;34m,\u001b[0m\u001b[0;34m\u001b[0m\u001b[0;34m\u001b[0m\u001b[0m\n\u001b[0;32m-> 1595\u001b[0;31m                                    metadata_nthreads=metadata_nthreads)\n\u001b[0m\u001b[1;32m   1596\u001b[0m         \u001b[0mcommon_metadata_path\u001b[0m \u001b[0;34m=\u001b[0m \u001b[0mmanifest\u001b[0m\u001b[0;34m.\u001b[0m\u001b[0mcommon_metadata_path\u001b[0m\u001b[0;34m\u001b[0m\u001b[0;34m\u001b[0m\u001b[0m\n\u001b[1;32m   1597\u001b[0m         \u001b[0mmetadata_path\u001b[0m \u001b[0;34m=\u001b[0m \u001b[0mmanifest\u001b[0m\u001b[0;34m.\u001b[0m\u001b[0mmetadata_path\u001b[0m\u001b[0;34m\u001b[0m\u001b[0;34m\u001b[0m\u001b[0m\n",
            "\u001b[0;32m/anaconda/envs/azureml_py36/lib/python3.6/site-packages/pyarrow/parquet.py\u001b[0m in \u001b[0;36m__init__\u001b[0;34m(self, dirpath, open_file_func, filesystem, pathsep, partition_scheme, metadata_nthreads)\u001b[0m\n\u001b[1;32m   1080\u001b[0m         \u001b[0mself\u001b[0m\u001b[0;34m.\u001b[0m\u001b[0mmetadata_path\u001b[0m \u001b[0;34m=\u001b[0m \u001b[0;32mNone\u001b[0m\u001b[0;34m\u001b[0m\u001b[0;34m\u001b[0m\u001b[0m\n\u001b[1;32m   1081\u001b[0m \u001b[0;34m\u001b[0m\u001b[0m\n\u001b[0;32m-> 1082\u001b[0;31m         \u001b[0mself\u001b[0m\u001b[0;34m.\u001b[0m\u001b[0m_visit_level\u001b[0m\u001b[0;34m(\u001b[0m\u001b[0;36m0\u001b[0m\u001b[0;34m,\u001b[0m \u001b[0mself\u001b[0m\u001b[0;34m.\u001b[0m\u001b[0mdirpath\u001b[0m\u001b[0;34m,\u001b[0m \u001b[0;34m[\u001b[0m\u001b[0;34m]\u001b[0m\u001b[0;34m)\u001b[0m\u001b[0;34m\u001b[0m\u001b[0;34m\u001b[0m\u001b[0m\n\u001b[0m\u001b[1;32m   1083\u001b[0m \u001b[0;34m\u001b[0m\u001b[0m\n\u001b[1;32m   1084\u001b[0m         \u001b[0;31m# Due to concurrency, pieces will potentially by out of order if the\u001b[0m\u001b[0;34m\u001b[0m\u001b[0;34m\u001b[0m\u001b[0;34m\u001b[0m\u001b[0m\n",
            "\u001b[0;32m/anaconda/envs/azureml_py36/lib/python3.6/site-packages/pyarrow/parquet.py\u001b[0m in \u001b[0;36m_visit_level\u001b[0;34m(self, level, base_path, part_keys)\u001b[0m\n\u001b[1;32m   1121\u001b[0m                              'directory: {}'.format(base_path))\n\u001b[1;32m   1122\u001b[0m         \u001b[0;32melif\u001b[0m \u001b[0mlen\u001b[0m\u001b[0;34m(\u001b[0m\u001b[0mfiltered_directories\u001b[0m\u001b[0;34m)\u001b[0m \u001b[0;34m>\u001b[0m \u001b[0;36m0\u001b[0m\u001b[0;34m:\u001b[0m\u001b[0;34m\u001b[0m\u001b[0;34m\u001b[0m\u001b[0m\n\u001b[0;32m-> 1123\u001b[0;31m             \u001b[0mself\u001b[0m\u001b[0;34m.\u001b[0m\u001b[0m_visit_directories\u001b[0m\u001b[0;34m(\u001b[0m\u001b[0mlevel\u001b[0m\u001b[0;34m,\u001b[0m \u001b[0mfiltered_directories\u001b[0m\u001b[0;34m,\u001b[0m \u001b[0mpart_keys\u001b[0m\u001b[0;34m)\u001b[0m\u001b[0;34m\u001b[0m\u001b[0;34m\u001b[0m\u001b[0m\n\u001b[0m\u001b[1;32m   1124\u001b[0m         \u001b[0;32melse\u001b[0m\u001b[0;34m:\u001b[0m\u001b[0;34m\u001b[0m\u001b[0;34m\u001b[0m\u001b[0m\n\u001b[1;32m   1125\u001b[0m             \u001b[0mself\u001b[0m\u001b[0;34m.\u001b[0m\u001b[0m_push_pieces\u001b[0m\u001b[0;34m(\u001b[0m\u001b[0mfiltered_files\u001b[0m\u001b[0;34m,\u001b[0m \u001b[0mpart_keys\u001b[0m\u001b[0;34m)\u001b[0m\u001b[0;34m\u001b[0m\u001b[0;34m\u001b[0m\u001b[0m\n",
            "\u001b[0;32m/anaconda/envs/azureml_py36/lib/python3.6/site-packages/pyarrow/parquet.py\u001b[0m in \u001b[0;36m_visit_directories\u001b[0;34m(self, level, directories, part_keys)\u001b[0m\n\u001b[1;32m   1136\u001b[0m         \u001b[0;32mfor\u001b[0m \u001b[0mpath\u001b[0m \u001b[0;32min\u001b[0m \u001b[0mdirectories\u001b[0m\u001b[0;34m:\u001b[0m\u001b[0;34m\u001b[0m\u001b[0;34m\u001b[0m\u001b[0m\n\u001b[1;32m   1137\u001b[0m             \u001b[0mhead\u001b[0m\u001b[0;34m,\u001b[0m \u001b[0mtail\u001b[0m \u001b[0;34m=\u001b[0m \u001b[0m_path_split\u001b[0m\u001b[0;34m(\u001b[0m\u001b[0mpath\u001b[0m\u001b[0;34m,\u001b[0m \u001b[0mself\u001b[0m\u001b[0;34m.\u001b[0m\u001b[0mpathsep\u001b[0m\u001b[0;34m)\u001b[0m\u001b[0;34m\u001b[0m\u001b[0;34m\u001b[0m\u001b[0m\n\u001b[0;32m-> 1138\u001b[0;31m             \u001b[0mname\u001b[0m\u001b[0;34m,\u001b[0m \u001b[0mkey\u001b[0m \u001b[0;34m=\u001b[0m \u001b[0m_parse_hive_partition\u001b[0m\u001b[0;34m(\u001b[0m\u001b[0mtail\u001b[0m\u001b[0;34m)\u001b[0m\u001b[0;34m\u001b[0m\u001b[0;34m\u001b[0m\u001b[0m\n\u001b[0m\u001b[1;32m   1139\u001b[0m \u001b[0;34m\u001b[0m\u001b[0m\n\u001b[1;32m   1140\u001b[0m             \u001b[0mindex\u001b[0m \u001b[0;34m=\u001b[0m \u001b[0mself\u001b[0m\u001b[0;34m.\u001b[0m\u001b[0mpartitions\u001b[0m\u001b[0;34m.\u001b[0m\u001b[0mget_index\u001b[0m\u001b[0;34m(\u001b[0m\u001b[0mlevel\u001b[0m\u001b[0;34m,\u001b[0m \u001b[0mname\u001b[0m\u001b[0;34m,\u001b[0m \u001b[0mkey\u001b[0m\u001b[0;34m)\u001b[0m\u001b[0;34m\u001b[0m\u001b[0;34m\u001b[0m\u001b[0m\n",
            "\u001b[0;32m/anaconda/envs/azureml_py36/lib/python3.6/site-packages/pyarrow/parquet.py\u001b[0m in \u001b[0;36m_parse_hive_partition\u001b[0;34m(value)\u001b[0m\n\u001b[1;32m   1171\u001b[0m     \u001b[0;32mif\u001b[0m \u001b[0;34m'='\u001b[0m \u001b[0;32mnot\u001b[0m \u001b[0;32min\u001b[0m \u001b[0mvalue\u001b[0m\u001b[0;34m:\u001b[0m\u001b[0;34m\u001b[0m\u001b[0;34m\u001b[0m\u001b[0m\n\u001b[1;32m   1172\u001b[0m         raise ValueError('Directory name did not appear to be a '\n\u001b[0;32m-> 1173\u001b[0;31m                          'partition: {}'.format(value))\n\u001b[0m\u001b[1;32m   1174\u001b[0m     \u001b[0;32mreturn\u001b[0m \u001b[0mvalue\u001b[0m\u001b[0;34m.\u001b[0m\u001b[0msplit\u001b[0m\u001b[0;34m(\u001b[0m\u001b[0;34m'='\u001b[0m\u001b[0;34m,\u001b[0m \u001b[0;36m1\u001b[0m\u001b[0;34m)\u001b[0m\u001b[0;34m\u001b[0m\u001b[0;34m\u001b[0m\u001b[0m\n\u001b[1;32m   1175\u001b[0m \u001b[0;34m\u001b[0m\u001b[0m\n",
            "\u001b[0;31mValueError\u001b[0m: Directory name did not appear to be a partition: month"
          ]
        }
      ],
      "execution_count": 12,
      "metadata": {
        "gather": {
          "logged": 1639098137329
        }
      }
    },
    {
      "cell_type": "code",
      "source": [
        "# https://adlsgen7.blob.core.windows.net/mltraining/ISDWeatherDelta/year2008/month/part-00009-21953d01-b5b8-4fa7-8bd2-96b025a24bc3.c000.snappy.parquet\n",
        "# https://adlsgen7.blob.core.windows.net/mltraining/ISDWeatherDelta/year2008/month10/part-00001-1b0e76df-8a22-4221-9b5a-8b7936aa13ea.c000.snappy.parquet\n",
        "data = ray.data.read_parquet(\"az://isdweatherdatacontainer/ISDWeather/year=2009\", filesystem=abfs2)\n",
        "data2 = ray.data.read_parquet(\"az://mltraining/ISDWeatherDelta/year2008\", filesystem=abfs)"
      ],
      "outputs": [
        {
          "output_type": "stream",
          "name": "stderr",
          "text": "Metadata Fetch Progress: 100%|██████████| 16/16 [00:04<00:00,  3.26it/s]\nMetadata Fetch Progress: 100%|██████████| 8/8 [00:00<00:00, 14.77it/s]\n"
        }
      ],
      "execution_count": 6,
      "metadata": {
        "gather": {
          "logged": 1639104941421
        }
      }
    },
    {
      "cell_type": "code",
      "source": [
        "data2.count()"
      ],
      "outputs": [
        {
          "output_type": "execute_result",
          "execution_count": 17,
          "data": {
            "text/plain": "97581959"
          },
          "metadata": {}
        }
      ],
      "execution_count": 17,
      "metadata": {
        "gather": {
          "logged": 1639098211710
        }
      }
    },
    {
      "cell_type": "code",
      "source": [
        "ddf.count().compute()"
      ],
      "outputs": [
        {
          "output_type": "execute_result",
          "execution_count": 14,
          "data": {
            "text/plain": "usaf                       97581959\nwban                       97581959\ndatetime                   97581959\nlatitude                   97581959\nlongitude                  97581959\nelevation                  97581959\nwindAngle                  79483952\nwindSpeed                  82288222\ntemperature                95119398\nseaLvlPressure             35943606\ncloudCoverage              57138202\npresentWeatherIndicator     9538179\npastWeatherIndicator        4114610\nprecipTime                 19003392\nprecipDepth                19003392\nsnowDepth                    353685\nstationName                97319338\ncountryOrRegion            97267449\np_k                        97581959\nday                        97581959\nversion                    97581959\ndtype: int64"
          },
          "metadata": {}
        }
      ],
      "execution_count": 14,
      "metadata": {
        "gather": {
          "logged": 1639098172528
        }
      }
    },
    {
      "cell_type": "code",
      "source": [],
      "outputs": [],
      "execution_count": null,
      "metadata": {}
    },
    {
      "cell_type": "code",
      "source": [
        "dask.config.set(scheduler=ray_dask_get)\n"
      ],
      "outputs": [
        {
          "output_type": "execute_result",
          "execution_count": 13,
          "data": {
            "text/plain": "<dask.config.set at 0x7fc4810f4c70>"
          },
          "metadata": {}
        }
      ],
      "execution_count": 13,
      "metadata": {}
    },
    {
      "cell_type": "code",
      "source": [
        "data.count()"
      ],
      "outputs": [
        {
          "output_type": "execute_result",
          "execution_count": 15,
          "data": {
            "text/plain": "98904376"
          },
          "metadata": {}
        }
      ],
      "execution_count": 15,
      "metadata": {}
    },
    {
      "cell_type": "code",
      "source": [
        "import ray\n",
        "import raydp\n",
        "import os\n",
        "ray.shutdown()\n",
        "ray.init()\n",
        "os.environ[\"PYSPARK_PYTHON\"]=\"/anaconda/envs/azureml_py38/bin/python3\"\n",
        "\n",
        "# ray.init(address ='ray://10.0.0.11:6379')\n",
        "spark = raydp.init_spark(\n",
        "  app_name = \"example\",\n",
        "  num_executors = 2,\n",
        "  executor_cores = 1,\n",
        "  executor_memory = \"1gb\"\n",
        ")\n",
        "\n",
        "# data =spark.read.format(\"csv\").option(\"header\", True).load(\"wasbs://ojsales-simulatedcontainer@azureopendatastorage.blob.core.windows.net/oj_sales_data/Store10*.csv\")\n",
        "\n",
        "\n",
        "# # normal data processesing with Spark\n",
        "# df = spark.createDataFrame([('look',), ('spark',), ('tutorial',), ('spark',), ('look', ), ('python', )], ['word'])\n",
        "# df.show()\n",
        "# word_count = df.groupBy('word').count()\n",
        "# word_count.show()\n",
        "import pandas as pd\n",
        "\n",
        "from pyspark.sql.functions import col, pandas_udf\n",
        "from pyspark.sql.types import LongType\n",
        "\n",
        "# Declare the function and create the UDF\n",
        "def multiply_func(a: pd.Series, b: pd.Series) -> pd.Series:\n",
        "    return a * b\n",
        "\n",
        "multiply = pandas_udf(multiply_func, returnType=LongType())\n",
        "\n",
        "# The function for a pandas_udf should be able to execute with local Pandas data\n",
        "x = pd.Series([1, 2, 3])\n",
        "print(multiply_func(x, x))\n",
        "# 0    1\n",
        "# 1    4\n",
        "# 2    9\n",
        "# dtype: int64\n",
        "\n",
        "# Create a Spark DataFrame, 'spark' is an existing SparkSession\n",
        "df = spark.createDataFrame(pd.DataFrame(x, columns=[\"x\"]))\n",
        "\n",
        "# Execute function as a Spark vectorized UDF\n",
        "df.select(multiply(col(\"x\"), col(\"x\"))).show()\n",
        "# +-------------------+\n",
        "# |multiply_func(x, x)|\n",
        "# +-------------------+\n",
        "# |                  1|\n",
        "# |                  4|\n",
        "# |                  9|\n",
        "# +-------------------+\n",
        "\n",
        "\n",
        "# stop the spark cluster\n",
        "raydp.stop_spark()\n"
      ],
      "outputs": [
        {
          "output_type": "stream",
          "name": "stderr",
          "text": "2021-12-06 19:48:42,187\tINFO services.py:1338 -- View the Ray dashboard at \u001b[1m\u001b[32mhttp://127.0.0.1:8266\u001b[39m\u001b[22m\n"
        },
        {
          "output_type": "stream",
          "name": "stdout",
          "text": "WARNING: sun.reflect.Reflection.getCallerClass is not supported. This will impact performance.\n2021-12-06 19:48:45,043 WARN Utils [Thread-1]: Your hostname, nc6v0 resolves to a loopback address: 127.0.0.1; using 10.0.0.11 instead (on interface eth0)\n2021-12-06 19:48:45,046 WARN Utils [Thread-1]: Set SPARK_LOCAL_IP if you need to bind to another address\n2021-12-06 19:48:45,240 WARN NativeCodeLoader [Thread-1]: Unable to load native-hadoop library for your platform... using builtin-java classes where applicable\n"
        },
        {
          "output_type": "stream",
          "name": "stderr",
          "text": "WARNING: An illegal reflective access operation has occurred\nWARNING: Illegal reflective access by org.apache.spark.unsafe.Platform (file:/anaconda/envs/azureml_py38/lib/python3.8/site-packages/pyspark/jars/spark-unsafe_2.12-3.2.0.jar) to constructor java.nio.DirectByteBuffer(long,int)\nWARNING: Please consider reporting this to the maintainers of org.apache.spark.unsafe.Platform\nWARNING: Use --illegal-access=warn to enable warnings of further illegal reflective access operations\nWARNING: All illegal access operations will be denied in a future release\n"
        },
        {
          "output_type": "stream",
          "name": "stdout",
          "text": "2021-12-06 19:48:45,321 INFO SecurityManager [Thread-1]: Changing view acls to: azureuser\n2021-12-06 19:48:45,321 INFO SecurityManager [Thread-1]: Changing modify acls to: azureuser\n2021-12-06 19:48:45,322 INFO SecurityManager [Thread-1]: Changing view acls groups to: \n2021-12-06 19:48:45,322 INFO SecurityManager [Thread-1]: Changing modify acls groups to: \n2021-12-06 19:48:45,323 INFO SecurityManager [Thread-1]: SecurityManager: authentication disabled; ui acls disabled; users  with view permissions: Set(azureuser); groups with view permissions: Set(); users  with modify permissions: Set(azureuser); groups with modify permissions: Set()\n2021-12-06 19:48:45,591 INFO Utils [Thread-1]: Successfully started service 'RAY_RPC_ENV' on port 44621.\n"
        },
        {
          "output_type": "stream",
          "name": "stderr",
          "text": "SLF4J: Class path contains multiple SLF4J bindings.\nSLF4J: Found binding in [jar:file:/anaconda/envs/azureml_py38/lib/python3.8/site-packages/ray/jars/ray_dist.jar!/org/slf4j/impl/StaticLoggerBinder.class]\nSLF4J: Found binding in [jar:file:/anaconda/envs/azureml_py38/lib/python3.8/site-packages/pyspark/jars/slf4j-log4j12-1.7.30.jar!/org/slf4j/impl/StaticLoggerBinder.class]\nSLF4J: See http://www.slf4j.org/codes.html#multiple_bindings for an explanation.\nSLF4J: Actual binding is of type [org.apache.logging.slf4j.Log4jLoggerFactory]\n"
        },
        {
          "output_type": "stream",
          "name": "stdout",
          "text": "WARNING: sun.reflect.Reflection.getCallerClass is not supported. This will impact performance.\n"
        },
        {
          "output_type": "stream",
          "name": "stderr",
          "text": "WARNING: An illegal reflective access operation has occurred\nWARNING: Illegal reflective access by org.apache.spark.unsafe.Platform (file:/anaconda/envs/azureml_py38/lib/python3.8/site-packages/pyspark/jars/spark-unsafe_2.12-3.2.0.jar) to constructor java.nio.DirectByteBuffer(long,int)\nWARNING: Please consider reporting this to the maintainers of org.apache.spark.unsafe.Platform\nWARNING: Use --illegal-access=warn to enable warnings of further illegal reflective access operations\nWARNING: All illegal access operations will be denied in a future release\n"
        },
        {
          "output_type": "stream",
          "name": "stdout",
          "text": "2021-12-06 19:48:48,798 INFO RayAppMaster$RayAppMasterEndpoint [dispatcher-event-loop-1]: Registering app example\n2021-12-06 19:48:48,802 INFO RayAppMaster$RayAppMasterEndpoint [dispatcher-event-loop-1]: Registered app example with ID app-20211206194848-0000\n0    1\n1    4\n2    9\ndtype: int64\n"
        },
        {
          "output_type": "stream",
          "name": "stderr",
          "text": "\u001b[2m\u001b[33m(raylet)\u001b[0m WARNING: An illegal reflective access operation has occurred\n\u001b[2m\u001b[33m(raylet)\u001b[0m WARNING: Illegal reflective access by org.apache.spark.unsafe.Platform (file:/anaconda/envs/azureml_py38/lib/python3.8/site-packages/pyspark/jars/spark-unsafe_2.12-3.2.0.jar) to constructor java.nio.DirectByteBuffer(long,int)\n\u001b[2m\u001b[33m(raylet)\u001b[0m WARNING: Please consider reporting this to the maintainers of org.apache.spark.unsafe.Platform\n\u001b[2m\u001b[33m(raylet)\u001b[0m WARNING: Use --illegal-access=warn to enable warnings of further illegal reflective access operations\n\u001b[2m\u001b[33m(raylet)\u001b[0m WARNING: All illegal access operations will be denied in a future release\n\u001b[2m\u001b[33m(raylet)\u001b[0m WARNING: An illegal reflective access operation has occurred\n\u001b[2m\u001b[33m(raylet)\u001b[0m WARNING: Illegal reflective access by org.apache.spark.unsafe.Platform (file:/anaconda/envs/azureml_py38/lib/python3.8/site-packages/pyspark/jars/spark-unsafe_2.12-3.2.0.jar) to constructor java.nio.DirectByteBuffer(long,int)\n\u001b[2m\u001b[33m(raylet)\u001b[0m WARNING: Please consider reporting this to the maintainers of org.apache.spark.unsafe.Platform\n\u001b[2m\u001b[33m(raylet)\u001b[0m WARNING: Use --illegal-access=warn to enable warnings of further illegal reflective access operations\n\u001b[2m\u001b[33m(raylet)\u001b[0m WARNING: All illegal access operations will be denied in a future release\n                                                                                \r"
        },
        {
          "output_type": "stream",
          "name": "stdout",
          "text": "+-------------------+\n|multiply_func(x, x)|\n+-------------------+\n|                  1|\n|                  4|\n|                  9|\n+-------------------+\n\n2021-12-06 19:48:59,086 INFO RayAppMaster [Thread-1]: Stopping RayAppMaster\n"
        }
      ],
      "execution_count": 1,
      "metadata": {}
    },
    {
      "cell_type": "code",
      "source": [
        "raydp.stop_spark()\n"
      ],
      "outputs": [],
      "execution_count": null,
      "metadata": {}
    },
    {
      "cell_type": "code",
      "source": [],
      "outputs": [],
      "execution_count": null,
      "metadata": {}
    }
  ],
  "metadata": {
    "interpreter": {
      "hash": "6d65a8c07f5b6469e0fc613f182488c0dccce05038bbda39e5ac9075c0454d11"
    },
    "kernelspec": {
      "name": "python38-azureml",
      "language": "python",
      "display_name": "Python 3.8 - AzureML"
    },
    "language_info": {
      "name": "python",
      "version": "3.8.1",
      "mimetype": "text/x-python",
      "codemirror_mode": {
        "name": "ipython",
        "version": 3
      },
      "pygments_lexer": "ipython3",
      "nbconvert_exporter": "python",
      "file_extension": ".py"
    },
    "nteract": {
      "version": "nteract-front-end@1.0.0"
    },
    "kernel_info": {
      "name": "python38-azureml"
    }
  },
  "nbformat": 4,
  "nbformat_minor": 0
}