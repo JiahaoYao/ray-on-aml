{
  "cells": [
    {
      "cell_type": "markdown",
      "metadata": {},
      "source": [
        "###  Testing with SDK v2"
      ]
    },
    {
      "cell_type": "code",
      "execution_count": 2,
      "metadata": {},
      "outputs": [],
      "source": [
        "# import required libraries\n",
        "from azure.ai.ml import MLClient\n",
        "from azure.ai.ml import command, Input\n",
        "from azure.identity import DefaultAzureCredential\n",
        "import sys\n",
        "\n",
        "# Enter details of your AML workspace\n",
        "subscription_id = \"840b5c5c-3f4a-459a-94fc-6bad2a969f9d\"\n",
        "resource_group = \"ml\"\n",
        "workspace = \"ws02ent\"\n",
        "# get a handle to the workspace\n",
        "ml_client = MLClient(\n",
        "    DefaultAzureCredential(), subscription_id, resource_group, workspace\n",
        ")\n",
        "\n",
        "sys.path.append(\"../\") # go to parent dir"
      ]
    },
    {
      "cell_type": "code",
      "execution_count": null,
      "metadata": {},
      "outputs": [],
      "source": []
    },
    {
      "cell_type": "code",
      "execution_count": 5,
      "metadata": {},
      "outputs": [
        {
          "name": "stdout",
          "output_type": "stream",
          "text": [
            "Using azureml_py310_sdkv2 for the master node\n"
          ]
        },
        {
          "name": "stderr",
          "output_type": "stream",
          "text": [
            "Usage stats collection will be enabled by default in the next release. See https://github.com/ray-project/ray/issues/20857 for more details.\n",
            "Traceback (most recent call last):\n",
            "  File \"/anaconda/envs/azureml_py38/bin//ray\", line 8, in <module>\n",
            "    sys.exit(main())\n",
            "  File \"/anaconda/envs/azureml_py38/lib/python3.8/site-packages/ray/scripts/scripts.py\", line 2269, in main\n",
            "    return cli()\n",
            "  File \"/anaconda/envs/azureml_py38/lib/python3.8/site-packages/click/core.py\", line 1130, in __call__\n",
            "    return self.main(*args, **kwargs)\n",
            "  File \"/anaconda/envs/azureml_py38/lib/python3.8/site-packages/click/core.py\", line 1055, in main\n",
            "    rv = self.invoke(ctx)\n",
            "  File \"/anaconda/envs/azureml_py38/lib/python3.8/site-packages/click/core.py\", line 1657, in invoke\n",
            "    return _process_result(sub_ctx.command.invoke(sub_ctx))\n",
            "  File \"/anaconda/envs/azureml_py38/lib/python3.8/site-packages/click/core.py\", line 1404, in invoke\n",
            "    return ctx.invoke(self.callback, **ctx.params)\n",
            "  File \"/anaconda/envs/azureml_py38/lib/python3.8/site-packages/click/core.py\", line 760, in invoke\n",
            "    return __callback(*args, **kwargs)\n",
            "  File \"/anaconda/envs/azureml_py38/lib/python3.8/site-packages/ray/autoscaler/_private/cli_logger.py\", line 808, in wrapper\n",
            "    return f(*args, **kwargs)\n",
            "  File \"/anaconda/envs/azureml_py38/lib/python3.8/site-packages/ray/scripts/scripts.py\", line 712, in start\n",
            "    raise ConnectionError(\n",
            "ConnectionError: Ray is trying to start at 10.0.0.7:6379, but is already running at {'10.0.0.7:6379'}. Please specify a different port using the `--port` flag of `ray start` command.\n"
          ]
        },
        {
          "name": "stdout",
          "output_type": "stream",
          "text": [
            "Waiting cluster to start and return head node ip\n"
          ]
        }
      ],
      "source": [
        "from src.ray_on_aml.core import Ray_On_AML\n",
        "from azure.ai.ml import  Input\n",
        "\n",
        "import ray\n",
        "\n",
        "ray_on_aml =Ray_On_AML(ml_client=ml_client, compute_cluster =\"ds11\" )\n",
        "\n",
        "# head_ip = ray_on_aml.getRay(num_node=2,pip_packages=[\"torch==1.13.0\", \"azureml-mlflow\"])\n",
        "# client = ray.init(f\"ray://{head_ip}:10001\")\n",
        "ray_on_aml.getRay(ci_is_head=True, num_node=2,pip_packages=[\"torch==1.13.0\", \"azureml-mlflow\"])"
      ]
    },
    {
      "cell_type": "code",
      "execution_count": 4,
      "metadata": {},
      "outputs": [
        {
          "data": {
            "text/plain": [
              "{'node:10.0.0.9': 1.0,\n",
              " 'node:10.0.0.10': 1.0,\n",
              " 'memory': 18718774068.0,\n",
              " 'CPU': 4.0,\n",
              " 'object_store_memory': 8634907852.0}"
            ]
          },
          "execution_count": 4,
          "metadata": {},
          "output_type": "execute_result"
        }
      ],
      "source": [
        "ray.cluster_resources()"
      ]
    },
    {
      "cell_type": "code",
      "execution_count": null,
      "metadata": {},
      "outputs": [],
      "source": [
        "client.disconnect()"
      ]
    },
    {
      "cell_type": "markdown",
      "metadata": {},
      "source": [
        "###  Testing with SDK v1"
      ]
    },
    {
      "cell_type": "code",
      "execution_count": 14,
      "metadata": {},
      "outputs": [],
      "source": [
        "ray_on_aml.shutdown(end_all_runs=True)"
      ]
    },
    {
      "cell_type": "code",
      "execution_count": 1,
      "metadata": {},
      "outputs": [],
      "source": [
        "from azureml.core import Workspace\n",
        "import sys\n",
        "sys.path.append(\"../\") # go to parent dir\n",
        "import importlib\n"
      ]
    },
    {
      "cell_type": "code",
      "execution_count": 7,
      "metadata": {},
      "outputs": [
        {
          "ename": "NameError",
          "evalue": "name 'Workspace' is not defined",
          "output_type": "error",
          "traceback": [
            "\u001b[0;31m---------------------------------------------------------------------------\u001b[0m",
            "\u001b[0;31mNameError\u001b[0m                                 Traceback (most recent call last)",
            "\u001b[1;32m/home/azureuser/cloudfiles/code/Users/janguy/ray-on-aml/tests/misc_test.ipynb Cell 10\u001b[0m in \u001b[0;36m<cell line: 3>\u001b[0;34m()\u001b[0m\n\u001b[1;32m      <a href='vscode-notebook-cell://amlext%2B2f737562736372697074696f6e732f38343062356335632d336634612d343539612d393466632d3662616432613936396639642f7265736f7572636547726f7570732f6d6c2f70726f7669646572732f4d6963726f736f66742e4d616368696e654c6561726e696e6753657276696365732f776f726b7370616365732f77733032656e742f636f6d70757465732f6431337632/home/azureuser/cloudfiles/code/Users/janguy/ray-on-aml/tests/misc_test.ipynb#X10sdnNjb2RlLXJlbW90ZQ%3D%3D?line=0'>1</a>\u001b[0m \u001b[39mfrom\u001b[39;00m \u001b[39msrc\u001b[39;00m\u001b[39m.\u001b[39;00m\u001b[39mray_on_aml\u001b[39;00m\u001b[39m.\u001b[39;00m\u001b[39mcore\u001b[39;00m \u001b[39mimport\u001b[39;00m Ray_On_AML\n\u001b[1;32m      <a href='vscode-notebook-cell://amlext%2B2f737562736372697074696f6e732f38343062356335632d336634612d343539612d393466632d3662616432613936396639642f7265736f7572636547726f7570732f6d6c2f70726f7669646572732f4d6963726f736f66742e4d616368696e654c6561726e696e6753657276696365732f776f726b7370616365732f77733032656e742f636f6d70757465732f6431337632/home/azureuser/cloudfiles/code/Users/janguy/ray-on-aml/tests/misc_test.ipynb#X10sdnNjb2RlLXJlbW90ZQ%3D%3D?line=1'>2</a>\u001b[0m \u001b[39mimport\u001b[39;00m \u001b[39mray\u001b[39;00m\n\u001b[0;32m----> <a href='vscode-notebook-cell://amlext%2B2f737562736372697074696f6e732f38343062356335632d336634612d343539612d393466632d3662616432613936396639642f7265736f7572636547726f7570732f6d6c2f70726f7669646572732f4d6963726f736f66742e4d616368696e654c6561726e696e6753657276696365732f776f726b7370616365732f77733032656e742f636f6d70757465732f6431337632/home/azureuser/cloudfiles/code/Users/janguy/ray-on-aml/tests/misc_test.ipynb#X10sdnNjb2RlLXJlbW90ZQ%3D%3D?line=2'>3</a>\u001b[0m ws \u001b[39m=\u001b[39m Workspace\u001b[39m.\u001b[39mfrom_config()\n\u001b[1;32m      <a href='vscode-notebook-cell://amlext%2B2f737562736372697074696f6e732f38343062356335632d336634612d343539612d393466632d3662616432613936396639642f7265736f7572636547726f7570732f6d6c2f70726f7669646572732f4d6963726f736f66742e4d616368696e654c6561726e696e6753657276696365732f776f726b7370616365732f77733032656e742f636f6d70757465732f6431337632/home/azureuser/cloudfiles/code/Users/janguy/ray-on-aml/tests/misc_test.ipynb#X10sdnNjb2RlLXJlbW90ZQ%3D%3D?line=3'>4</a>\u001b[0m ray_on_aml \u001b[39m=\u001b[39mRay_On_AML(ws\u001b[39m=\u001b[39mws, compute_cluster \u001b[39m=\u001b[39m\u001b[39m\"\u001b[39m\u001b[39mds11\u001b[39m\u001b[39m\"\u001b[39m,maxnode\u001b[39m=\u001b[39m\u001b[39m2\u001b[39m)\n\u001b[1;32m      <a href='vscode-notebook-cell://amlext%2B2f737562736372697074696f6e732f38343062356335632d336634612d343539612d393466632d3662616432613936396639642f7265736f7572636547726f7570732f6d6c2f70726f7669646572732f4d6963726f736f66742e4d616368696e654c6561726e696e6753657276696365732f776f726b7370616365732f77733032656e742f636f6d70757465732f6431337632/home/azureuser/cloudfiles/code/Users/janguy/ray-on-aml/tests/misc_test.ipynb#X10sdnNjb2RlLXJlbW90ZQ%3D%3D?line=4'>5</a>\u001b[0m ray_on_aml\u001b[39m.\u001b[39mgetRay(num_node\u001b[39m=\u001b[39m\u001b[39m2\u001b[39m,pip_packages\u001b[39m=\u001b[39m[\u001b[39m\"\u001b[39m\u001b[39mtorch==1.13.0\u001b[39m\u001b[39m\"\u001b[39m, \u001b[39m\"\u001b[39m\u001b[39mazureml-mlflow\u001b[39m\u001b[39m\"\u001b[39m], ci_is_head\u001b[39m=\u001b[39m\u001b[39mTrue\u001b[39;00m)\n",
            "\u001b[0;31mNameError\u001b[0m: name 'Workspace' is not defined"
          ]
        }
      ],
      "source": [
        "from src.ray_on_aml.core import Ray_On_AML\n",
        "import ray\n",
        "ws = Workspace.from_config()\n",
        "ray_on_aml =Ray_On_AML(ws=ws, compute_cluster =\"ds11\",maxnode=2)\n",
        "ray_on_aml.getRay(num_node=2,pip_packages=[\"torch==1.13.0\", \"azureml-mlflow\"], ci_is_head=True)\n",
        "\n",
        "# head_ip = ray_on_aml.getRay(num_node=2,pip_packages=[\"torch==1.13.0\", \"azureml-mlflow\"], ci_is_head=True)\n",
        "\n",
        "# client = ray.init(f\"ray://{head_ip}:10001\")\n"
      ]
    },
    {
      "cell_type": "code",
      "execution_count": 4,
      "metadata": {},
      "outputs": [],
      "source": [
        "ray.shutdown()"
      ]
    },
    {
      "cell_type": "code",
      "execution_count": 5,
      "metadata": {},
      "outputs": [
        {
          "ename": "RaySystemError",
          "evalue": "System error: Ray has not been started yet. You can start Ray with 'ray.init()'.",
          "output_type": "error",
          "traceback": [
            "\u001b[0;31m---------------------------------------------------------------------------\u001b[0m",
            "\u001b[0;31mRaySystemError\u001b[0m                            Traceback (most recent call last)",
            "\u001b[1;32m/home/azureuser/cloudfiles/code/Users/janguy/ray-on-aml/tests/misc_test.ipynb Cell 12\u001b[0m in \u001b[0;36m<cell line: 1>\u001b[0;34m()\u001b[0m\n\u001b[0;32m----> <a href='vscode-notebook-cell://amlext%2B2f737562736372697074696f6e732f38343062356335632d336634612d343539612d393466632d3662616432613936396639642f7265736f7572636547726f7570732f6d6c2f70726f7669646572732f4d6963726f736f66742e4d616368696e654c6561726e696e6753657276696365732f776f726b7370616365732f77733032656e742f636f6d70757465732f6431337632/home/azureuser/cloudfiles/code/Users/janguy/ray-on-aml/tests/misc_test.ipynb#X11sdnNjb2RlLXJlbW90ZQ%3D%3D?line=0'>1</a>\u001b[0m ray\u001b[39m.\u001b[39;49mcluster_resources()\n",
            "File \u001b[0;32m/anaconda/envs/azureml_py310_sdkv2/lib/python3.10/site-packages/ray/_private/client_mode_hook.py:105\u001b[0m, in \u001b[0;36mclient_mode_hook.<locals>.wrapper\u001b[0;34m(*args, **kwargs)\u001b[0m\n\u001b[1;32m    103\u001b[0m     \u001b[39mif\u001b[39;00m func\u001b[39m.\u001b[39m\u001b[39m__name__\u001b[39m \u001b[39m!=\u001b[39m \u001b[39m\"\u001b[39m\u001b[39minit\u001b[39m\u001b[39m\"\u001b[39m \u001b[39mor\u001b[39;00m is_client_mode_enabled_by_default:\n\u001b[1;32m    104\u001b[0m         \u001b[39mreturn\u001b[39;00m \u001b[39mgetattr\u001b[39m(ray, func\u001b[39m.\u001b[39m\u001b[39m__name__\u001b[39m)(\u001b[39m*\u001b[39margs, \u001b[39m*\u001b[39m\u001b[39m*\u001b[39mkwargs)\n\u001b[0;32m--> 105\u001b[0m \u001b[39mreturn\u001b[39;00m func(\u001b[39m*\u001b[39;49margs, \u001b[39m*\u001b[39;49m\u001b[39m*\u001b[39;49mkwargs)\n",
            "File \u001b[0;32m/anaconda/envs/azureml_py310_sdkv2/lib/python3.10/site-packages/ray/_private/state.py:880\u001b[0m, in \u001b[0;36mcluster_resources\u001b[0;34m()\u001b[0m\n\u001b[1;32m    868\u001b[0m \u001b[39m@DeveloperAPI\u001b[39m\n\u001b[1;32m    869\u001b[0m \u001b[39m@client_mode_hook\u001b[39m(auto_init\u001b[39m=\u001b[39m\u001b[39mFalse\u001b[39;00m)\n\u001b[1;32m    870\u001b[0m \u001b[39mdef\u001b[39;00m \u001b[39mcluster_resources\u001b[39m():\n\u001b[1;32m    871\u001b[0m     \u001b[39m\"\"\"Get the current total cluster resources.\u001b[39;00m\n\u001b[1;32m    872\u001b[0m \n\u001b[1;32m    873\u001b[0m \u001b[39m    Note that this information can grow stale as nodes are added to or removed\u001b[39;00m\n\u001b[0;32m   (...)\u001b[0m\n\u001b[1;32m    878\u001b[0m \u001b[39m            resource in the cluster.\u001b[39;00m\n\u001b[1;32m    879\u001b[0m \u001b[39m    \"\"\"\u001b[39;00m\n\u001b[0;32m--> 880\u001b[0m     \u001b[39mreturn\u001b[39;00m state\u001b[39m.\u001b[39;49mcluster_resources()\n",
            "File \u001b[0;32m/anaconda/envs/azureml_py310_sdkv2/lib/python3.10/site-packages/ray/_private/state.py:655\u001b[0m, in \u001b[0;36mGlobalState.cluster_resources\u001b[0;34m(self)\u001b[0m\n\u001b[1;32m    645\u001b[0m \u001b[39mdef\u001b[39;00m \u001b[39mcluster_resources\u001b[39m(\u001b[39mself\u001b[39m):\n\u001b[1;32m    646\u001b[0m     \u001b[39m\"\"\"Get the current total cluster resources.\u001b[39;00m\n\u001b[1;32m    647\u001b[0m \n\u001b[1;32m    648\u001b[0m \u001b[39m    Note that this information can grow stale as nodes are added to or\u001b[39;00m\n\u001b[0;32m   (...)\u001b[0m\n\u001b[1;32m    653\u001b[0m \u001b[39m            resource in the cluster.\u001b[39;00m\n\u001b[1;32m    654\u001b[0m \u001b[39m    \"\"\"\u001b[39;00m\n\u001b[0;32m--> 655\u001b[0m     \u001b[39mself\u001b[39;49m\u001b[39m.\u001b[39;49m_check_connected()\n\u001b[1;32m    657\u001b[0m     resources \u001b[39m=\u001b[39m defaultdict(\u001b[39mint\u001b[39m)\n\u001b[1;32m    658\u001b[0m     nodes \u001b[39m=\u001b[39m \u001b[39mself\u001b[39m\u001b[39m.\u001b[39mnode_table()\n",
            "File \u001b[0;32m/anaconda/envs/azureml_py310_sdkv2/lib/python3.10/site-packages/ray/_private/state.py:47\u001b[0m, in \u001b[0;36mGlobalState._check_connected\u001b[0;34m(self)\u001b[0m\n\u001b[1;32m     45\u001b[0m \u001b[39m# _really_init_global_state should have set self.global_state_accessor\u001b[39;00m\n\u001b[1;32m     46\u001b[0m \u001b[39mif\u001b[39;00m \u001b[39mself\u001b[39m\u001b[39m.\u001b[39mglobal_state_accessor \u001b[39mis\u001b[39;00m \u001b[39mNone\u001b[39;00m:\n\u001b[0;32m---> 47\u001b[0m     \u001b[39mraise\u001b[39;00m ray\u001b[39m.\u001b[39mexceptions\u001b[39m.\u001b[39mRaySystemError(\n\u001b[1;32m     48\u001b[0m         \u001b[39m\"\u001b[39m\u001b[39mRay has not been started yet. You can start Ray with \u001b[39m\u001b[39m'\u001b[39m\u001b[39mray.init()\u001b[39m\u001b[39m'\u001b[39m\u001b[39m.\u001b[39m\u001b[39m\"\u001b[39m\n\u001b[1;32m     49\u001b[0m     )\n",
            "\u001b[0;31mRaySystemError\u001b[0m: System error: Ray has not been started yet. You can start Ray with 'ray.init()'."
          ]
        }
      ],
      "source": [
        "ray.cluster_resources()"
      ]
    },
    {
      "cell_type": "code",
      "execution_count": 6,
      "metadata": {},
      "outputs": [],
      "source": [
        "ray_on_aml.shutdown()"
      ]
    },
    {
      "cell_type": "code",
      "execution_count": 4,
      "metadata": {},
      "outputs": [
        {
          "name": "stderr",
          "output_type": "stream",
          "text": [
            "2022-12-12 17:55:17,761\tINFO worker.py:1342 -- Connecting to existing Ray cluster at address: 10.0.0.7:6379...\n",
            "2022-12-12 17:55:17,772\tINFO worker.py:1528 -- Connected to Ray cluster.\n"
          ]
        },
        {
          "ename": "RayTaskError(ImportError)",
          "evalue": "\u001b[36mray::_get_read_tasks()\u001b[39m (pid=36833, ip=10.0.0.7)\n  File \"/anaconda/envs/azureml_py310_sdkv2/lib/python3.10/site-packages/ray/data/read_api.py\", line 1380, in _get_read_tasks\n    reader = ds.create_reader(**kwargs)\n  File \"/anaconda/envs/azureml_py310_sdkv2/lib/python3.10/site-packages/ray/data/datasource/file_based_datasource.py\", line 219, in create_reader\n    return _FileBasedDatasourceReader(self, **kwargs)\n  File \"/anaconda/envs/azureml_py310_sdkv2/lib/python3.10/site-packages/ray/data/datasource/file_based_datasource.py\", line 378, in __init__\n    paths, self._filesystem = _resolve_paths_and_filesystem(paths, filesystem)\n  File \"/anaconda/envs/azureml_py310_sdkv2/lib/python3.10/site-packages/ray/data/datasource/file_based_datasource.py\", line 666, in _resolve_paths_and_filesystem\n    raise ImportError(\nImportError: Please install fsspec to read files from HTTP.",
          "output_type": "error",
          "traceback": [
            "\u001b[0;31m---------------------------------------------------------------------------\u001b[0m",
            "\u001b[0;31mRayTaskError(ImportError)\u001b[0m                 Traceback (most recent call last)",
            "\u001b[1;32m/home/azureuser/cloudfiles/code/Users/janguy/ray-on-aml/tests/misc_test.ipynb Cell 13\u001b[0m in \u001b[0;36m<cell line: 4>\u001b[0;34m()\u001b[0m\n\u001b[1;32m      <a href='vscode-notebook-cell://amlext%2B2f737562736372697074696f6e732f38343062356335632d336634612d343539612d393466632d3662616432613936396639642f7265736f7572636547726f7570732f6d6c2f70726f7669646572732f4d6963726f736f66742e4d616368696e654c6561726e696e6753657276696365732f776f726b7370616365732f77733032656e742f636f6d70757465732f6431337632/home/azureuser/cloudfiles/code/Users/janguy/ray-on-aml/tests/misc_test.ipynb#X13sdnNjb2RlLXJlbW90ZQ%3D%3D?line=0'>1</a>\u001b[0m \u001b[39mimport\u001b[39;00m \u001b[39mray\u001b[39;00m\n\u001b[1;32m      <a href='vscode-notebook-cell://amlext%2B2f737562736372697074696f6e732f38343062356335632d336634612d343539612d393466632d3662616432613936396639642f7265736f7572636547726f7570732f6d6c2f70726f7669646572732f4d6963726f736f66742e4d616368696e654c6561726e696e6753657276696365732f776f726b7370616365732f77733032656e742f636f6d70757465732f6431337632/home/azureuser/cloudfiles/code/Users/janguy/ray-on-aml/tests/misc_test.ipynb#X13sdnNjb2RlLXJlbW90ZQ%3D%3D?line=2'>3</a>\u001b[0m \u001b[39m# Load data.\u001b[39;00m\n\u001b[0;32m----> <a href='vscode-notebook-cell://amlext%2B2f737562736372697074696f6e732f38343062356335632d336634612d343539612d393466632d3662616432613936396639642f7265736f7572636547726f7570732f6d6c2f70726f7669646572732f4d6963726f736f66742e4d616368696e654c6561726e696e6753657276696365732f776f726b7370616365732f77733032656e742f636f6d70757465732f6431337632/home/azureuser/cloudfiles/code/Users/janguy/ray-on-aml/tests/misc_test.ipynb#X13sdnNjb2RlLXJlbW90ZQ%3D%3D?line=3'>4</a>\u001b[0m dataset \u001b[39m=\u001b[39m ray\u001b[39m.\u001b[39;49mdata\u001b[39m.\u001b[39;49mread_csv(\u001b[39m\"\u001b[39;49m\u001b[39mhttps://azuremlexamples.blob.core.windows.net/datasets/iris.csv\u001b[39;49m\u001b[39m\"\u001b[39;49m)\u001b[39m.\u001b[39mrepartition(\u001b[39m4\u001b[39m)\n\u001b[1;32m      <a href='vscode-notebook-cell://amlext%2B2f737562736372697074696f6e732f38343062356335632d336634612d343539612d393466632d3662616432613936396639642f7265736f7572636547726f7570732f6d6c2f70726f7669646572732f4d6963726f736f66742e4d616368696e654c6561726e696e6753657276696365732f776f726b7370616365732f77733032656e742f636f6d70757465732f6431337632/home/azureuser/cloudfiles/code/Users/janguy/ray-on-aml/tests/misc_test.ipynb#X13sdnNjb2RlLXJlbW90ZQ%3D%3D?line=5'>6</a>\u001b[0m train_dataset, valid_dataset \u001b[39m=\u001b[39m dataset\u001b[39m.\u001b[39mtrain_test_split(test_size\u001b[39m=\u001b[39m\u001b[39m0.3\u001b[39m)\n\u001b[1;32m      <a href='vscode-notebook-cell://amlext%2B2f737562736372697074696f6e732f38343062356335632d336634612d343539612d393466632d3662616432613936396639642f7265736f7572636547726f7570732f6d6c2f70726f7669646572732f4d6963726f736f66742e4d616368696e654c6561726e696e6753657276696365732f776f726b7370616365732f77733032656e742f636f6d70757465732f6431337632/home/azureuser/cloudfiles/code/Users/janguy/ray-on-aml/tests/misc_test.ipynb#X13sdnNjb2RlLXJlbW90ZQ%3D%3D?line=7'>8</a>\u001b[0m \u001b[39m# Create a test dataset by dropping the target column.\u001b[39;00m\n",
            "File \u001b[0;32m/anaconda/envs/azureml_py310_sdkv2/lib/python3.10/site-packages/ray/data/read_api.py:744\u001b[0m, in \u001b[0;36mread_csv\u001b[0;34m(paths, filesystem, parallelism, ray_remote_args, arrow_open_stream_args, meta_provider, partition_filter, partitioning, **arrow_csv_args)\u001b[0m\n\u001b[1;32m    657\u001b[0m \u001b[39m@PublicAPI\u001b[39m\n\u001b[1;32m    658\u001b[0m \u001b[39mdef\u001b[39;00m \u001b[39mread_csv\u001b[39m(\n\u001b[1;32m    659\u001b[0m     paths: Union[\u001b[39mstr\u001b[39m, List[\u001b[39mstr\u001b[39m]],\n\u001b[0;32m   (...)\u001b[0m\n\u001b[1;32m    668\u001b[0m     \u001b[39m*\u001b[39m\u001b[39m*\u001b[39marrow_csv_args,\n\u001b[1;32m    669\u001b[0m ) \u001b[39m-\u001b[39m\u001b[39m>\u001b[39m Dataset[ArrowRow]:\n\u001b[1;32m    670\u001b[0m     \u001b[39mr\u001b[39m\u001b[39m\"\"\"Create an Arrow dataset from csv files.\u001b[39;00m\n\u001b[1;32m    671\u001b[0m \n\u001b[1;32m    672\u001b[0m \u001b[39m    Examples:\u001b[39;00m\n\u001b[0;32m   (...)\u001b[0m\n\u001b[1;32m    742\u001b[0m \u001b[39m        Dataset holding Arrow records read from the specified paths.\u001b[39;00m\n\u001b[1;32m    743\u001b[0m \u001b[39m    \"\"\"\u001b[39;00m  \u001b[39m# noqa: E501\u001b[39;00m\n\u001b[0;32m--> 744\u001b[0m     \u001b[39mreturn\u001b[39;00m read_datasource(\n\u001b[1;32m    745\u001b[0m         CSVDatasource(),\n\u001b[1;32m    746\u001b[0m         parallelism\u001b[39m=\u001b[39;49mparallelism,\n\u001b[1;32m    747\u001b[0m         paths\u001b[39m=\u001b[39;49mpaths,\n\u001b[1;32m    748\u001b[0m         filesystem\u001b[39m=\u001b[39;49mfilesystem,\n\u001b[1;32m    749\u001b[0m         ray_remote_args\u001b[39m=\u001b[39;49mray_remote_args,\n\u001b[1;32m    750\u001b[0m         open_stream_args\u001b[39m=\u001b[39;49marrow_open_stream_args,\n\u001b[1;32m    751\u001b[0m         meta_provider\u001b[39m=\u001b[39;49mmeta_provider,\n\u001b[1;32m    752\u001b[0m         partition_filter\u001b[39m=\u001b[39;49mpartition_filter,\n\u001b[1;32m    753\u001b[0m         partitioning\u001b[39m=\u001b[39;49mpartitioning,\n\u001b[1;32m    754\u001b[0m         \u001b[39m*\u001b[39;49m\u001b[39m*\u001b[39;49marrow_csv_args,\n\u001b[1;32m    755\u001b[0m     )\n",
            "File \u001b[0;32m/anaconda/envs/azureml_py310_sdkv2/lib/python3.10/site-packages/ray/data/read_api.py:273\u001b[0m, in \u001b[0;36mread_datasource\u001b[0;34m(datasource, parallelism, ray_remote_args, **read_args)\u001b[0m\n\u001b[1;32m    266\u001b[0m \u001b[39melse\u001b[39;00m:\n\u001b[1;32m    267\u001b[0m     \u001b[39m# Prepare read in a remote task so that in Ray client mode, we aren't\u001b[39;00m\n\u001b[1;32m    268\u001b[0m     \u001b[39m# attempting metadata resolution from the client machine.\u001b[39;00m\n\u001b[1;32m    269\u001b[0m     get_read_tasks \u001b[39m=\u001b[39m cached_remote_fn(\n\u001b[1;32m    270\u001b[0m         _get_read_tasks, retry_exceptions\u001b[39m=\u001b[39m\u001b[39mFalse\u001b[39;00m, num_cpus\u001b[39m=\u001b[39m\u001b[39m0\u001b[39m\n\u001b[1;32m    271\u001b[0m     )\n\u001b[0;32m--> 273\u001b[0m     requested_parallelism, min_safe_parallelism, read_tasks \u001b[39m=\u001b[39m ray\u001b[39m.\u001b[39;49mget(\n\u001b[1;32m    274\u001b[0m         get_read_tasks\u001b[39m.\u001b[39;49mremote(\n\u001b[1;32m    275\u001b[0m             datasource,\n\u001b[1;32m    276\u001b[0m             ctx,\n\u001b[1;32m    277\u001b[0m             cur_pg,\n\u001b[1;32m    278\u001b[0m             parallelism,\n\u001b[1;32m    279\u001b[0m             _wrap_and_register_arrow_serialization_workaround(read_args),\n\u001b[1;32m    280\u001b[0m         )\n\u001b[1;32m    281\u001b[0m     )\n\u001b[1;32m    283\u001b[0m \u001b[39mif\u001b[39;00m read_tasks \u001b[39mand\u001b[39;00m \u001b[39mlen\u001b[39m(read_tasks) \u001b[39m<\u001b[39m min_safe_parallelism \u001b[39m*\u001b[39m \u001b[39m0.7\u001b[39m:\n\u001b[1;32m    284\u001b[0m     perc \u001b[39m=\u001b[39m \u001b[39m1\u001b[39m \u001b[39m+\u001b[39m \u001b[39mround\u001b[39m((min_safe_parallelism \u001b[39m-\u001b[39m \u001b[39mlen\u001b[39m(read_tasks)) \u001b[39m/\u001b[39m \u001b[39mlen\u001b[39m(read_tasks), \u001b[39m1\u001b[39m)\n",
            "File \u001b[0;32m/anaconda/envs/azureml_py310_sdkv2/lib/python3.10/site-packages/ray/_private/client_mode_hook.py:105\u001b[0m, in \u001b[0;36mclient_mode_hook.<locals>.wrapper\u001b[0;34m(*args, **kwargs)\u001b[0m\n\u001b[1;32m    103\u001b[0m     \u001b[39mif\u001b[39;00m func\u001b[39m.\u001b[39m\u001b[39m__name__\u001b[39m \u001b[39m!=\u001b[39m \u001b[39m\"\u001b[39m\u001b[39minit\u001b[39m\u001b[39m\"\u001b[39m \u001b[39mor\u001b[39;00m is_client_mode_enabled_by_default:\n\u001b[1;32m    104\u001b[0m         \u001b[39mreturn\u001b[39;00m \u001b[39mgetattr\u001b[39m(ray, func\u001b[39m.\u001b[39m\u001b[39m__name__\u001b[39m)(\u001b[39m*\u001b[39margs, \u001b[39m*\u001b[39m\u001b[39m*\u001b[39mkwargs)\n\u001b[0;32m--> 105\u001b[0m \u001b[39mreturn\u001b[39;00m func(\u001b[39m*\u001b[39;49margs, \u001b[39m*\u001b[39;49m\u001b[39m*\u001b[39;49mkwargs)\n",
            "File \u001b[0;32m/anaconda/envs/azureml_py310_sdkv2/lib/python3.10/site-packages/ray/_private/worker.py:2289\u001b[0m, in \u001b[0;36mget\u001b[0;34m(object_refs, timeout)\u001b[0m\n\u001b[1;32m   2287\u001b[0m     worker\u001b[39m.\u001b[39mcore_worker\u001b[39m.\u001b[39mdump_object_store_memory_usage()\n\u001b[1;32m   2288\u001b[0m \u001b[39mif\u001b[39;00m \u001b[39misinstance\u001b[39m(value, RayTaskError):\n\u001b[0;32m-> 2289\u001b[0m     \u001b[39mraise\u001b[39;00m value\u001b[39m.\u001b[39mas_instanceof_cause()\n\u001b[1;32m   2290\u001b[0m \u001b[39melse\u001b[39;00m:\n\u001b[1;32m   2291\u001b[0m     \u001b[39mraise\u001b[39;00m value\n",
            "\u001b[0;31mRayTaskError(ImportError)\u001b[0m: \u001b[36mray::_get_read_tasks()\u001b[39m (pid=36833, ip=10.0.0.7)\n  File \"/anaconda/envs/azureml_py310_sdkv2/lib/python3.10/site-packages/ray/data/read_api.py\", line 1380, in _get_read_tasks\n    reader = ds.create_reader(**kwargs)\n  File \"/anaconda/envs/azureml_py310_sdkv2/lib/python3.10/site-packages/ray/data/datasource/file_based_datasource.py\", line 219, in create_reader\n    return _FileBasedDatasourceReader(self, **kwargs)\n  File \"/anaconda/envs/azureml_py310_sdkv2/lib/python3.10/site-packages/ray/data/datasource/file_based_datasource.py\", line 378, in __init__\n    paths, self._filesystem = _resolve_paths_and_filesystem(paths, filesystem)\n  File \"/anaconda/envs/azureml_py310_sdkv2/lib/python3.10/site-packages/ray/data/datasource/file_based_datasource.py\", line 666, in _resolve_paths_and_filesystem\n    raise ImportError(\nImportError: Please install fsspec to read files from HTTP."
          ]
        }
      ],
      "source": [
        "import ray\n",
        "\n",
        "# Load data.\n",
        "dataset = ray.data.read_csv(\"https://azuremlexamples.blob.core.windows.net/datasets/iris.csv\").repartition(4)\n",
        "\n",
        "train_dataset, valid_dataset = dataset.train_test_split(test_size=0.3)\n",
        "\n",
        "# Create a test dataset by dropping the target column.\n",
        "test_dataset = valid_dataset.drop_columns(cols=[\"target\"])\n",
        "# Create a preprocessor to scale some columns.\n",
        "\n",
        "import numpy as np\n",
        "\n",
        "from ray.data.preprocessors import Concatenator, Chain, StandardScaler\n",
        "\n",
        "# Create a preprocessor to scale some columns and concatenate the result.\n",
        "# preprocessor = Chain(\n",
        "#     StandardScaler(columns=[\"mean radius\", \"mean texture\"]),\n",
        "#     Concatenator(exclude=[\"target\"], dtype=np.float32),\n",
        "# )\n"
      ]
    },
    {
      "cell_type": "code",
      "execution_count": null,
      "metadata": {},
      "outputs": [],
      "source": [
        "pip install pyarrow==6.0.1"
      ]
    },
    {
      "cell_type": "code",
      "execution_count": null,
      "metadata": {},
      "outputs": [],
      "source": [
        "import torch\n",
        "import torch.nn as nn\n",
        "from torch.nn.modules.utils import consume_prefix_in_state_dict_if_present\n",
        "\n",
        "from ray import train\n",
        "from ray.air import session\n",
        "from ray.air.config import ScalingConfig\n",
        "from ray.train.torch import TorchCheckpoint, TorchTrainer\n",
        "\n",
        "\n",
        "def create_model(input_features):\n",
        "    return nn.Sequential(\n",
        "        nn.Linear(in_features=input_features, out_features=16),\n",
        "        nn.ReLU(),\n",
        "        nn.Linear(16, 16),\n",
        "        nn.ReLU(),\n",
        "        nn.Linear(16, 1),\n",
        "        nn.Sigmoid(),\n",
        "    )\n",
        "\n",
        "\n",
        "def train_loop_per_worker(config):\n",
        "    batch_size = config[\"batch_size\"]\n",
        "    lr = config[\"lr\"]\n",
        "    epochs = config[\"num_epochs\"]\n",
        "    num_features = config[\"num_features\"]\n",
        "\n",
        "    # Get the Ray Dataset shard for this data parallel worker,\n",
        "    # and convert it to a PyTorch Dataset.\n",
        "    train_data = train.get_dataset_shard(\"train\")\n",
        "    # Create model.\n",
        "    model = create_model(num_features)\n",
        "    model = train.torch.prepare_model(model)\n",
        "\n",
        "    loss_fn = nn.BCELoss()\n",
        "    optimizer = torch.optim.SGD(model.parameters(), lr=lr)\n",
        "\n",
        "    for cur_epoch in range(epochs):\n",
        "        for batch in train_data.iter_torch_batches(\n",
        "            batch_size=batch_size, dtypes=torch.float32\n",
        "        ):\n",
        "            # \"concat_out\" is the output column of the Concatenator.\n",
        "            inputs, labels = batch[\"concat_out\"], batch[\"target\"]\n",
        "            optimizer.zero_grad()\n",
        "            predictions = model(inputs)\n",
        "            train_loss = loss_fn(predictions, labels.unsqueeze(1))\n",
        "            train_loss.backward()\n",
        "            optimizer.step()\n",
        "        loss = train_loss.item()\n",
        "        session.report({\"loss\": loss}, checkpoint=TorchCheckpoint.from_model(model))\n",
        "\n",
        "\n",
        "num_features = len(train_dataset.schema().names) - 1\n",
        "\n",
        "trainer = TorchTrainer(\n",
        "    train_loop_per_worker=train_loop_per_worker,\n",
        "    train_loop_config={\n",
        "        \"batch_size\": 128,\n",
        "        \"num_epochs\": 20,\n",
        "        \"num_features\": num_features,\n",
        "        \"lr\": 0.001,\n",
        "    },\n",
        "    scaling_config=ScalingConfig(\n",
        "        num_workers=2,  # Number of workers to use for data parallelism.\n",
        "        use_gpu=False,\n",
        "        trainer_resources={\"CPU\": 1},  # so that the example works on Colab.\n",
        "    ),\n",
        "    datasets={\"train\": train_dataset},\n",
        "    preprocessor=preprocessor,\n",
        ")\n",
        "# Execute training.\n",
        "result = trainer.fit()\n",
        "print(f\"Last result: {result.metrics}\")\n",
        "# Last result: {'loss': 0.6559339960416158, ...}"
      ]
    },
    {
      "cell_type": "code",
      "execution_count": null,
      "metadata": {},
      "outputs": [],
      "source": [
        "pip install --upgrade ray"
      ]
    },
    {
      "cell_type": "code",
      "execution_count": null,
      "metadata": {},
      "outputs": [],
      "source": [
        "ray_on_aml.shutdown()"
      ]
    },
    {
      "cell_type": "code",
      "execution_count": null,
      "metadata": {},
      "outputs": [],
      "source": [
        "import ray\n",
        "client = ray.init(f\"ray://{head_ip}:10001\")\n"
      ]
    },
    {
      "cell_type": "code",
      "execution_count": null,
      "metadata": {},
      "outputs": [],
      "source": [
        "client"
      ]
    },
    {
      "cell_type": "code",
      "execution_count": null,
      "metadata": {},
      "outputs": [],
      "source": [
        "ray.shutdown()"
      ]
    },
    {
      "cell_type": "code",
      "execution_count": null,
      "metadata": {},
      "outputs": [],
      "source": [
        "client.disconnect()"
      ]
    },
    {
      "cell_type": "code",
      "execution_count": null,
      "metadata": {},
      "outputs": [],
      "source": []
    }
  ],
  "metadata": {
    "kernel_info": {
      "name": "python3"
    },
    "kernelspec": {
      "display_name": "Python 3.10.6 ('azureml_py310_sdkv2')",
      "language": "python",
      "name": "python3"
    },
    "language_info": {
      "codemirror_mode": {
        "name": "ipython",
        "version": 3
      },
      "file_extension": ".py",
      "mimetype": "text/x-python",
      "name": "python",
      "nbconvert_exporter": "python",
      "pygments_lexer": "ipython3",
      "version": "3.10.6"
    },
    "nteract": {
      "version": "nteract-front-end@1.0.0"
    },
    "orig_nbformat": 4,
    "vscode": {
      "interpreter": {
        "hash": "2139c70ac98f3202d028164a545621647e07f47fd6f5d8ac55cf952bf7c15ed1"
      }
    }
  },
  "nbformat": 4,
  "nbformat_minor": 2
}
