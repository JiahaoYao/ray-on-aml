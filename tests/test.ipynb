{
  "cells": [
    {
      "cell_type": "markdown",
      "metadata": {},
      "source": [
        "### Testing for Interactive use case"
      ]
    },
    {
      "cell_type": "code",
      "execution_count": 3,
      "metadata": {
        "gather": {
          "logged": 1639106529136
        }
      },
      "outputs": [],
      "source": [
        "import mlflow\n",
        "from azureml.core import Workspace, Experiment, Environment, Datastore, Dataset, ScriptRunConfig\n",
        "from azureml.core.runconfig import PyTorchConfiguration\n",
        "# from azureml.widgets import RunDetails\n",
        "from azureml.core.compute import ComputeTarget, AmlCompute\n",
        "from azureml.core.compute_target import ComputeTargetException\n",
        "from azureml.core.runconfig import PyTorchConfiguration\n",
        "from azureml.core.environment import Environment\n",
        "from azureml.core.conda_dependencies import CondaDependencies\n",
        "from IPython.display import clear_output\n",
        "import time\n",
        "import platform\n",
        "# from ray_on_azureml.ray_on_aml import getRay\n",
        "import sys\n",
        "sys.path.append(\"../\") # go to parent dir\n",
        "import importlib\n"
      ]
    },
    {
      "cell_type": "code",
      "execution_count": 4,
      "metadata": {
        "gather": {
          "logged": 1639106560046
        }
      },
      "outputs": [
        {
          "name": "stdout",
          "output_type": "stream",
          "text": [
            "azureml_py38\n",
            "Found existing cluster, use it.\n"
          ]
        },
        {
          "name": "stderr",
          "output_type": "stream",
          "text": [
            "2021-12-10 03:22:40,057\tINFO worker.py:842 -- Connecting to existing Ray cluster at address: 10.0.0.5:6379\n"
          ]
        },
        {
          "data": {
            "text/plain": [
              "{'CPU': 48.0,\n",
              " 'node:10.0.0.5': 1.0,\n",
              " 'memory': 58287493940.0,\n",
              " 'object_store_memory': 29143746969.0}"
            ]
          },
          "execution_count": 4,
          "metadata": {},
          "output_type": "execute_result"
        }
      ],
      "source": [
        "from src.ray_on_azureml.ray_on_aml import Ray_On_AML\n",
        "ws = Workspace.from_config()\n",
        "ray_on_aml =Ray_On_AML(ws=ws, compute_cluster =\"worker-cpu-v3\")\n",
        "_, ray = ray_on_aml.getRay()\n",
        "ray.cluster_resources()"
      ]
    },
    {
      "cell_type": "code",
      "execution_count": 11,
      "metadata": {
        "gather": {
          "logged": 1639106683762
        }
      },
      "outputs": [],
      "source": [
        "ray_on_aml.shutdown()\n",
        "# import ray\n",
        "# ray.shutdown()\n",
        "# ray.init()"
      ]
    },
    {
      "cell_type": "markdown",
      "metadata": {},
      "source": [
        "### Testing with Dask on Ray"
      ]
    },
    {
      "cell_type": "code",
      "execution_count": 7,
      "metadata": {
        "gather": {
          "logged": 1639105974201
        }
      },
      "outputs": [
        {
          "data": {
            "text/html": [
              "<div>\n",
              "<style scoped>\n",
              "    .dataframe tbody tr th:only-of-type {\n",
              "        vertical-align: middle;\n",
              "    }\n",
              "\n",
              "    .dataframe tbody tr th {\n",
              "        vertical-align: top;\n",
              "    }\n",
              "\n",
              "    .dataframe thead th {\n",
              "        text-align: right;\n",
              "    }\n",
              "</style>\n",
              "<table border=\"1\" class=\"dataframe\">\n",
              "  <thead>\n",
              "    <tr style=\"text-align: right;\">\n",
              "      <th></th>\n",
              "      <th>grade</th>\n",
              "    </tr>\n",
              "    <tr>\n",
              "      <th>age</th>\n",
              "      <th></th>\n",
              "    </tr>\n",
              "  </thead>\n",
              "  <tbody>\n",
              "    <tr>\n",
              "      <th>57</th>\n",
              "      <td>3707.0</td>\n",
              "    </tr>\n",
              "    <tr>\n",
              "      <th>106</th>\n",
              "      <td>4563.0</td>\n",
              "    </tr>\n",
              "    <tr>\n",
              "      <th>138</th>\n",
              "      <td>6669.0</td>\n",
              "    </tr>\n",
              "    <tr>\n",
              "      <th>171</th>\n",
              "      <td>6702.0</td>\n",
              "    </tr>\n",
              "    <tr>\n",
              "      <th>175</th>\n",
              "      <td>1546.0</td>\n",
              "    </tr>\n",
              "    <tr>\n",
              "      <th>...</th>\n",
              "      <td>...</td>\n",
              "    </tr>\n",
              "    <tr>\n",
              "      <th>9818</th>\n",
              "      <td>6851.0</td>\n",
              "    </tr>\n",
              "    <tr>\n",
              "      <th>9847</th>\n",
              "      <td>3783.0</td>\n",
              "    </tr>\n",
              "    <tr>\n",
              "      <th>9875</th>\n",
              "      <td>9748.0</td>\n",
              "    </tr>\n",
              "    <tr>\n",
              "      <th>9889</th>\n",
              "      <td>6494.0</td>\n",
              "    </tr>\n",
              "    <tr>\n",
              "      <th>9946</th>\n",
              "      <td>1265.0</td>\n",
              "    </tr>\n",
              "  </tbody>\n",
              "</table>\n",
              "<p>971 rows × 1 columns</p>\n",
              "</div>"
            ],
            "text/plain": [
              "       grade\n",
              "age         \n",
              "57    3707.0\n",
              "106   4563.0\n",
              "138   6669.0\n",
              "171   6702.0\n",
              "175   1546.0\n",
              "...      ...\n",
              "9818  6851.0\n",
              "9847  3783.0\n",
              "9875  9748.0\n",
              "9889  6494.0\n",
              "9946  1265.0\n",
              "\n",
              "[971 rows x 1 columns]"
            ]
          },
          "execution_count": 7,
          "metadata": {},
          "output_type": "execute_result"
        }
      ],
      "source": [
        "# import ray\n",
        "# ray.init()\n",
        "from ray.util.dask import ray_dask_get\n",
        "import dask\n",
        "import dask.array as da\n",
        "import dask.dataframe as dd\n",
        "import numpy as np\n",
        "import pandas as pd\n",
        "dask.config.set(scheduler=ray_dask_get)\n",
        "d_arr = da.from_array(np.random.randint(0, 1000, size=(256, 256)))\n",
        "\n",
        "# The Dask scheduler submits the underlying task graph to Ray.\n",
        "d_arr.mean().compute(scheduler=ray_dask_get)\n",
        "\n",
        "# Set the scheduler to ray_dask_get in your config so you don't have to\n",
        "# specify it on each compute call.\n",
        "\n",
        "df = dd.from_pandas(\n",
        "    pd.DataFrame(\n",
        "        np.random.randint(0, 10000, size=(1024, 2)), columns=[\"age\", \"grade\"]),\n",
        "    npartitions=2)\n",
        "df.groupby([\"age\"]).mean().compute()\n",
        "\n",
        "# ray.shutdown()"
      ]
    },
    {
      "cell_type": "code",
      "execution_count": 1,
      "metadata": {
        "gather": {
          "logged": 1639104458150
        }
      },
      "outputs": [
        {
          "data": {
            "text/plain": [
              "Dask Series Structure:\n",
              "npartitions=1\n",
              "doLocationId    int64\n",
              "vendorID          ...\n",
              "dtype: int64\n",
              "Dask Name: dataframe-count-agg, 17 tasks"
            ]
          },
          "execution_count": 1,
          "metadata": {},
          "output_type": "execute_result"
        }
      ],
      "source": [
        "import dask.dataframe as dd\n",
        "\n",
        "storage_options = {'account_name': 'azureopendatastorage'}\n",
        "ddf = dd.read_parquet('az://nyctlc/green/puYear=2019/puMonth=*/*.parquet', storage_options=storage_options)\n",
        "ddf.count()"
      ]
    },
    {
      "cell_type": "code",
      "execution_count": 5,
      "metadata": {
        "gather": {
          "logged": 1639106144831
        }
      },
      "outputs": [
        {
          "data": {
            "text/plain": [
              "'2021.07.2'"
            ]
          },
          "execution_count": 5,
          "metadata": {},
          "output_type": "execute_result"
        }
      ],
      "source": [
        "#dask\n",
        "\n",
        "# import ray\n",
        "from ray.util.dask import ray_dask_get\n",
        "import dask\n",
        "import dask.array as da\n",
        "import dask.dataframe as dd\n",
        "import numpy as np\n",
        "import pandas as pd\n",
        "import dask\n",
        "import dask.dataframe as dd\n",
        "import matplotlib.pyplot as plt\n",
        "\n",
        "from datetime import datetime\n",
        "\n",
        "from azureml.core import Workspace, Dataset, Model\n",
        "data_url = 'https://azureopendatastorage.blob.core.windows.net/isdweatherdatacontainer/ISDWeather'\n",
        "from adlfs import AzureBlobFileSystem,AzureDatalakeFileSystem\n",
        "sas_token='sp=rle&st=2021-11-27T19:26:49Z&se=2022-04-22T02:26:49Z&spr=https&sv=2020-08-04&sr=c&sig=gpYJ3LofkkjkeWkrMDTY1Ge6NsOCghbUR9CQs65HCvU%3D'\n",
        "account_key='ak7nSgU/iRc5XCvXjaM2UwX18ybS9WO1BsE4Vm42XLmiZvBm1kCyZQD3USeCCOiwusWkDaq0jcRF1JpPHiAMhw=='\n",
        "account_name=\"adlsgen7\"\n",
        "abfs = AzureBlobFileSystem(account_name=\"adlsgen7\",account_key=account_key,  container_name=\"mltraining\")\n",
        "abfs2 = AzureBlobFileSystem(account_name=\"azureopendatastorage\",  container_name=\"isdweatherdatacontainer\")\n",
        "\n",
        "\n",
        "storage_options={'account_name': account_name, 'account_key': account_key}\n",
        "\n",
        "ddf = dd.read_parquet('az://mltraining/ISDWeatherDelta/year2008', storage_options=storage_options)\n",
        "\n",
        "data = ray.data.read_parquet(\"az://isdweatherdatacontainer/ISDWeather/year=2009\", filesystem=abfs2)\n",
        "data2 = ray.data.read_parquet(\"az://mltraining/ISDWeatherDelta/year2008\", filesystem=abfs)\n",
        "data.count()"
      ]
    },
    {
      "cell_type": "markdown",
      "metadata": {},
      "source": [
        "### Testing Ray Tune for distributed ML tunning"
      ]
    },
    {
      "cell_type": "code",
      "execution_count": 9,
      "metadata": {
        "gather": {
          "logged": 1639106657384
        }
      },
      "outputs": [
        {
          "name": "stderr",
          "output_type": "stream",
          "text": [
            "2021-12-10 03:24:14,267\tWARNING function_runner.py:561 -- Function checkpointing is disabled. This may result in unexpected behavior when using checkpointing features or certain schedulers. To enable, set the train function arguments to be `func(config, checkpoint_dir=None)`.\n",
            "2021-12-10 03:24:14,281\tINFO logger.py:605 -- pip install \"ray[tune]\" to see TensorBoard files.\n",
            "2021-12-10 03:24:14,281\tWARNING callback.py:114 -- The TensorboardX logger cannot be instantiated because either TensorboardX or one of it's dependencies is not installed. Please make sure you have the latest version of TensorboardX installed: `pip install -U tensorboardx`\n"
          ]
        },
        {
          "data": {
            "text/html": [
              "== Status ==<br>Current time: 2021-12-10 03:24:14 (running for 00:00:00.11)<br>Memory usage on this node: 7.8/94.3 GiB<br>Using FIFO scheduling algorithm.<br>Resources requested: 0/48 CPUs, 0/0 GPUs, 0.0/54.28 GiB heap, 0.0/27.14 GiB objects<br>Result logdir: /home/azureuser/ray_results/train_mnist_2021-12-10_03-24-14<br>Number of trials: 1/1 (1 PENDING)<br><table>\n",
              "<thead>\n",
              "<tr><th>Trial name             </th><th>status  </th><th>loc  </th><th style=\"text-align: right;\">      lr</th><th style=\"text-align: right;\">  momentum</th></tr>\n",
              "</thead>\n",
              "<tbody>\n",
              "<tr><td>train_mnist_a6475_00000</td><td>PENDING </td><td>     </td><td style=\"text-align: right;\">0.201532</td><td style=\"text-align: right;\"> 0.0589635</td></tr>\n",
              "</tbody>\n",
              "</table><br><br>"
            ],
            "text/plain": [
              "<IPython.core.display.HTML object>"
            ]
          },
          "metadata": {},
          "output_type": "display_data"
        },
        {
          "name": "stderr",
          "output_type": "stream",
          "text": [
            "\u001b[2m\u001b[36m(ImplicitFunc pid=24467)\u001b[0m /anaconda/envs/azureml_py38/lib/python3.8/site-packages/torch/nn/functional.py:718: UserWarning: Named tensors and all their associated APIs are an experimental feature and subject to change. Please do not use them for anything important until they are released as stable. (Triggered internally at  /opt/conda/conda-bld/pytorch_1623448234945/work/c10/core/TensorImpl.h:1156.)\n",
            "\u001b[2m\u001b[36m(ImplicitFunc pid=24467)\u001b[0m   return torch.max_pool2d(input, kernel_size, stride, padding, dilation, ceil_mode)\n"
          ]
        },
        {
          "name": "stdout",
          "output_type": "stream",
          "text": [
            "Result for train_mnist_a6475_00000:\n",
            "  date: 2021-12-10_03-24-16\n",
            "  done: false\n",
            "  experiment_id: 611c4581174c40df89b7d6228c601fa2\n",
            "  hostname: janguy2\n",
            "  iterations_since_restore: 1\n",
            "  mean_accuracy: 0.546875\n",
            "  node_ip: 10.0.0.5\n",
            "  pid: 24467\n",
            "  time_since_restore: 1.1576545238494873\n",
            "  time_this_iter_s: 1.1576545238494873\n",
            "  time_total_s: 1.1576545238494873\n",
            "  timestamp: 1639106656\n",
            "  timesteps_since_restore: 0\n",
            "  training_iteration: 1\n",
            "  trial_id: a6475_00000\n",
            "  \n",
            "Result for train_mnist_a6475_00000:\n",
            "  date: 2021-12-10_03-24-17\n",
            "  done: true\n",
            "  experiment_id: 611c4581174c40df89b7d6228c601fa2\n",
            "  experiment_tag: 0_lr=0.20153,momentum=0.058964\n",
            "  hostname: janguy2\n",
            "  iterations_since_restore: 10\n",
            "  mean_accuracy: 0.934375\n",
            "  node_ip: 10.0.0.5\n",
            "  pid: 24467\n",
            "  time_since_restore: 2.322474479675293\n",
            "  time_this_iter_s: 0.12954235076904297\n",
            "  time_total_s: 2.322474479675293\n",
            "  timestamp: 1639106657\n",
            "  timesteps_since_restore: 0\n",
            "  training_iteration: 10\n",
            "  trial_id: a6475_00000\n",
            "  \n"
          ]
        },
        {
          "data": {
            "text/html": [
              "== Status ==<br>Current time: 2021-12-10 03:24:17 (running for 00:00:03.22)<br>Memory usage on this node: 7.7/94.3 GiB<br>Using FIFO scheduling algorithm.<br>Resources requested: 0/48 CPUs, 0/0 GPUs, 0.0/54.28 GiB heap, 0.0/27.14 GiB objects<br>Result logdir: /home/azureuser/ray_results/train_mnist_2021-12-10_03-24-14<br>Number of trials: 1/1 (1 TERMINATED)<br><table>\n",
              "<thead>\n",
              "<tr><th>Trial name             </th><th>status    </th><th>loc           </th><th style=\"text-align: right;\">      lr</th><th style=\"text-align: right;\">  momentum</th><th style=\"text-align: right;\">     acc</th><th style=\"text-align: right;\">  iter</th><th style=\"text-align: right;\">  total time (s)</th></tr>\n",
              "</thead>\n",
              "<tbody>\n",
              "<tr><td>train_mnist_a6475_00000</td><td>TERMINATED</td><td>10.0.0.5:24467</td><td style=\"text-align: right;\">0.201532</td><td style=\"text-align: right;\"> 0.0589635</td><td style=\"text-align: right;\">0.934375</td><td style=\"text-align: right;\">    10</td><td style=\"text-align: right;\">         2.32247</td></tr>\n",
              "</tbody>\n",
              "</table><br><br>"
            ],
            "text/plain": [
              "<IPython.core.display.HTML object>"
            ]
          },
          "metadata": {},
          "output_type": "display_data"
        },
        {
          "name": "stderr",
          "output_type": "stream",
          "text": [
            "2021-12-10 03:24:17,624\tINFO tune.py:626 -- Total run time: 3.36 seconds (3.22 seconds for the tuning loop).\n"
          ]
        }
      ],
      "source": [
        "import numpy as np\n",
        "import torch\n",
        "import torch.optim as optim\n",
        "import torch.nn as nn\n",
        "from torchvision import datasets, transforms\n",
        "from torch.utils.data import DataLoader\n",
        "import torch.nn.functional as F\n",
        "# import ray\n",
        "from ray import tune\n",
        "from ray.tune.schedulers import ASHAScheduler\n",
        "class ConvNet(nn.Module):\n",
        "    def __init__(self):\n",
        "        super(ConvNet, self).__init__()\n",
        "        # In this example, we don't change the model architecture\n",
        "        # due to simplicity.\n",
        "        self.conv1 = nn.Conv2d(1, 3, kernel_size=3)\n",
        "        self.fc = nn.Linear(192, 10)\n",
        "\n",
        "    def forward(self, x):\n",
        "        x = F.relu(F.max_pool2d(self.conv1(x), 3))\n",
        "        x = x.view(-1, 192)\n",
        "        x = self.fc(x)\n",
        "        return F.log_softmax(x, dim=1)\n",
        "# Change these values if you want the training to run quicker or slower.\n",
        "EPOCH_SIZE = 512\n",
        "TEST_SIZE = 256\n",
        "\n",
        "def train(model, optimizer, train_loader):\n",
        "    device = torch.device(\"cuda\" if torch.cuda.is_available() else \"cpu\")\n",
        "    model.train()\n",
        "    for batch_idx, (data, target) in enumerate(train_loader):\n",
        "        # We set this just for the example to run quickly.\n",
        "        if batch_idx * len(data) > EPOCH_SIZE:\n",
        "            return\n",
        "        data, target = data.to(device), target.to(device)\n",
        "        optimizer.zero_grad()\n",
        "        output = model(data)\n",
        "        loss = F.nll_loss(output, target)\n",
        "        loss.backward()\n",
        "        optimizer.step()\n",
        "\n",
        "\n",
        "def test(model, data_loader):\n",
        "    device = torch.device(\"cuda\" if torch.cuda.is_available() else \"cpu\")\n",
        "    model.eval()\n",
        "    correct = 0\n",
        "    total = 0\n",
        "    with torch.no_grad():\n",
        "        for batch_idx, (data, target) in enumerate(data_loader):\n",
        "            # We set this just for the example to run quickly.\n",
        "            if batch_idx * len(data) > TEST_SIZE:\n",
        "                break\n",
        "            data, target = data.to(device), target.to(device)\n",
        "            outputs = model(data)\n",
        "            _, predicted = torch.max(outputs.data, 1)\n",
        "            total += target.size(0)\n",
        "            correct += (predicted == target).sum().item()\n",
        "\n",
        "    return correct / total\n",
        "def train_mnist(config):\n",
        "    # Data Setup\n",
        "    mnist_transforms = transforms.Compose(\n",
        "        [transforms.ToTensor(),\n",
        "         transforms.Normalize((0.1307, ), (0.3081, ))])\n",
        "\n",
        "    train_loader = DataLoader(\n",
        "        datasets.MNIST(\"~/data\", train=True, download=True, transform=mnist_transforms),\n",
        "        batch_size=64,\n",
        "        shuffle=True)\n",
        "    test_loader = DataLoader(\n",
        "        datasets.MNIST(\"~/data\", train=False, transform=mnist_transforms),\n",
        "        batch_size=64,\n",
        "        shuffle=True)\n",
        "\n",
        "    device = torch.device(\"cuda\" if torch.cuda.is_available() else \"cpu\")\n",
        "\n",
        "    model = ConvNet()\n",
        "    model.to(device)\n",
        "\n",
        "    optimizer = optim.SGD(\n",
        "        model.parameters(), lr=config[\"lr\"], momentum=config[\"momentum\"])\n",
        "    for i in range(10):\n",
        "        train(model, optimizer, train_loader)\n",
        "        acc = test(model, test_loader)\n",
        "\n",
        "        # Send the current training result back to Tune\n",
        "        tune.report(mean_accuracy=acc)\n",
        "\n",
        "        if i % 5 == 0:\n",
        "            # This saves the model to the trial directory\n",
        "            torch.save(model.state_dict(), \"./model.pth\")\n",
        "search_space = {\n",
        "    \"lr\": tune.sample_from(lambda spec: 10**(-10 * np.random.rand())),\n",
        "    \"momentum\": tune.uniform(0.01, 0.09)\n",
        "}\n",
        "\n",
        "# Uncomment this to enable distributed execution\n",
        "# ray.shutdown()\n",
        "# ray.init(address=\"auto\",ignore_reinit_error=True)\n",
        "# ray.init(address =f'ray://{headnode_private_ip}:10001',allow_multiple=True,ignore_reinit_error=True )\n",
        "# Download the dataset first\n",
        "datasets.MNIST(\"~/data\", train=True, download=True)\n",
        "\n",
        "analysis = tune.run(train_mnist, config=search_space)\n"
      ]
    },
    {
      "cell_type": "code",
      "execution_count": 10,
      "metadata": {
        "gather": {
          "logged": 1639106681808
        }
      },
      "outputs": [
        {
          "name": "stderr",
          "output_type": "stream",
          "text": [
            "2021-12-10 03:24:19,734\tWARNING callback.py:114 -- The TensorboardX logger cannot be instantiated because either TensorboardX or one of it's dependencies is not installed. Please make sure you have the latest version of TensorboardX installed: `pip install -U tensorboardx`\n"
          ]
        },
        {
          "data": {
            "text/html": [
              "== Status ==<br>Current time: 2021-12-10 03:24:20 (running for 00:00:01.00)<br>Memory usage on this node: 7.5/94.3 GiB<br>Using FIFO scheduling algorithm.<br>Resources requested: 1.0/48 CPUs, 0/0 GPUs, 0.0/54.28 GiB heap, 0.0/27.14 GiB objects<br>Result logdir: /home/azureuser/ray_results/train_breast_cancer_2021-12-10_03-24-19<br>Number of trials: 10/10 (9 PENDING, 1 RUNNING)<br><table>\n",
              "<thead>\n",
              "<tr><th>Trial name                     </th><th>status  </th><th>loc           </th><th style=\"text-align: right;\">        eta</th><th style=\"text-align: right;\">  max_depth</th><th style=\"text-align: right;\">  min_child_weight</th><th style=\"text-align: right;\">  subsample</th></tr>\n",
              "</thead>\n",
              "<tbody>\n",
              "<tr><td>train_breast_cancer_a9876_00000</td><td>RUNNING </td><td>10.0.0.5:24461</td><td style=\"text-align: right;\">0.00378889 </td><td style=\"text-align: right;\">          6</td><td style=\"text-align: right;\">                 3</td><td style=\"text-align: right;\">   0.802378</td></tr>\n",
              "<tr><td>train_breast_cancer_a9876_00001</td><td>PENDING </td><td>              </td><td style=\"text-align: right;\">0.000491363</td><td style=\"text-align: right;\">          1</td><td style=\"text-align: right;\">                 2</td><td style=\"text-align: right;\">   0.888983</td></tr>\n",
              "<tr><td>train_breast_cancer_a9876_00002</td><td>PENDING </td><td>              </td><td style=\"text-align: right;\">0.00230636 </td><td style=\"text-align: right;\">          1</td><td style=\"text-align: right;\">                 3</td><td style=\"text-align: right;\">   0.908011</td></tr>\n",
              "<tr><td>train_breast_cancer_a9876_00003</td><td>PENDING </td><td>              </td><td style=\"text-align: right;\">0.00456041 </td><td style=\"text-align: right;\">          5</td><td style=\"text-align: right;\">                 1</td><td style=\"text-align: right;\">   0.909479</td></tr>\n",
              "<tr><td>train_breast_cancer_a9876_00004</td><td>PENDING </td><td>              </td><td style=\"text-align: right;\">0.000478117</td><td style=\"text-align: right;\">          7</td><td style=\"text-align: right;\">                 2</td><td style=\"text-align: right;\">   0.735239</td></tr>\n",
              "<tr><td>train_breast_cancer_a9876_00005</td><td>PENDING </td><td>              </td><td style=\"text-align: right;\">0.00181548 </td><td style=\"text-align: right;\">          7</td><td style=\"text-align: right;\">                 1</td><td style=\"text-align: right;\">   0.897581</td></tr>\n",
              "<tr><td>train_breast_cancer_a9876_00006</td><td>PENDING </td><td>              </td><td style=\"text-align: right;\">0.000361135</td><td style=\"text-align: right;\">          5</td><td style=\"text-align: right;\">                 3</td><td style=\"text-align: right;\">   0.543242</td></tr>\n",
              "<tr><td>train_breast_cancer_a9876_00007</td><td>PENDING </td><td>              </td><td style=\"text-align: right;\">0.00273367 </td><td style=\"text-align: right;\">          5</td><td style=\"text-align: right;\">                 1</td><td style=\"text-align: right;\">   0.975624</td></tr>\n",
              "<tr><td>train_breast_cancer_a9876_00008</td><td>PENDING </td><td>              </td><td style=\"text-align: right;\">0.0416131  </td><td style=\"text-align: right;\">          4</td><td style=\"text-align: right;\">                 1</td><td style=\"text-align: right;\">   0.95536 </td></tr>\n",
              "<tr><td>train_breast_cancer_a9876_00009</td><td>PENDING </td><td>              </td><td style=\"text-align: right;\">0.00919299 </td><td style=\"text-align: right;\">          3</td><td style=\"text-align: right;\">                 1</td><td style=\"text-align: right;\">   0.797331</td></tr>\n",
              "</tbody>\n",
              "</table><br><br>"
            ],
            "text/plain": [
              "<IPython.core.display.HTML object>"
            ]
          },
          "metadata": {},
          "output_type": "display_data"
        },
        {
          "data": {
            "text/html": [
              "== Status ==<br>Current time: 2021-12-10 03:24:25 (running for 00:00:06.03)<br>Memory usage on this node: 7.9/94.3 GiB<br>Using FIFO scheduling algorithm.<br>Resources requested: 10.0/48 CPUs, 0/0 GPUs, 0.0/54.28 GiB heap, 0.0/27.14 GiB objects<br>Result logdir: /home/azureuser/ray_results/train_breast_cancer_2021-12-10_03-24-19<br>Number of trials: 10/10 (10 RUNNING)<br><table>\n",
              "<thead>\n",
              "<tr><th>Trial name                     </th><th>status  </th><th>loc           </th><th style=\"text-align: right;\">        eta</th><th style=\"text-align: right;\">  max_depth</th><th style=\"text-align: right;\">  min_child_weight</th><th style=\"text-align: right;\">  subsample</th></tr>\n",
              "</thead>\n",
              "<tbody>\n",
              "<tr><td>train_breast_cancer_a9876_00000</td><td>RUNNING </td><td>10.0.0.5:24461</td><td style=\"text-align: right;\">0.00378889 </td><td style=\"text-align: right;\">          6</td><td style=\"text-align: right;\">                 3</td><td style=\"text-align: right;\">   0.802378</td></tr>\n",
              "<tr><td>train_breast_cancer_a9876_00001</td><td>RUNNING </td><td>10.0.0.5:24462</td><td style=\"text-align: right;\">0.000491363</td><td style=\"text-align: right;\">          1</td><td style=\"text-align: right;\">                 2</td><td style=\"text-align: right;\">   0.888983</td></tr>\n",
              "<tr><td>train_breast_cancer_a9876_00002</td><td>RUNNING </td><td>10.0.0.5:24479</td><td style=\"text-align: right;\">0.00230636 </td><td style=\"text-align: right;\">          1</td><td style=\"text-align: right;\">                 3</td><td style=\"text-align: right;\">   0.908011</td></tr>\n",
              "<tr><td>train_breast_cancer_a9876_00003</td><td>RUNNING </td><td>10.0.0.5:24466</td><td style=\"text-align: right;\">0.00456041 </td><td style=\"text-align: right;\">          5</td><td style=\"text-align: right;\">                 1</td><td style=\"text-align: right;\">   0.909479</td></tr>\n",
              "<tr><td>train_breast_cancer_a9876_00004</td><td>RUNNING </td><td>10.0.0.5:24469</td><td style=\"text-align: right;\">0.000478117</td><td style=\"text-align: right;\">          7</td><td style=\"text-align: right;\">                 2</td><td style=\"text-align: right;\">   0.735239</td></tr>\n",
              "<tr><td>train_breast_cancer_a9876_00005</td><td>RUNNING </td><td>10.0.0.5:24471</td><td style=\"text-align: right;\">0.00181548 </td><td style=\"text-align: right;\">          7</td><td style=\"text-align: right;\">                 1</td><td style=\"text-align: right;\">   0.897581</td></tr>\n",
              "<tr><td>train_breast_cancer_a9876_00006</td><td>RUNNING </td><td>10.0.0.5:24407</td><td style=\"text-align: right;\">0.000361135</td><td style=\"text-align: right;\">          5</td><td style=\"text-align: right;\">                 3</td><td style=\"text-align: right;\">   0.543242</td></tr>\n",
              "<tr><td>train_breast_cancer_a9876_00007</td><td>RUNNING </td><td>10.0.0.5:24470</td><td style=\"text-align: right;\">0.00273367 </td><td style=\"text-align: right;\">          5</td><td style=\"text-align: right;\">                 1</td><td style=\"text-align: right;\">   0.975624</td></tr>\n",
              "<tr><td>train_breast_cancer_a9876_00008</td><td>RUNNING </td><td>10.0.0.5:24463</td><td style=\"text-align: right;\">0.0416131  </td><td style=\"text-align: right;\">          4</td><td style=\"text-align: right;\">                 1</td><td style=\"text-align: right;\">   0.95536 </td></tr>\n",
              "<tr><td>train_breast_cancer_a9876_00009</td><td>RUNNING </td><td>10.0.0.5:24472</td><td style=\"text-align: right;\">0.00919299 </td><td style=\"text-align: right;\">          3</td><td style=\"text-align: right;\">                 1</td><td style=\"text-align: right;\">   0.797331</td></tr>\n",
              "</tbody>\n",
              "</table><br><br>"
            ],
            "text/plain": [
              "<IPython.core.display.HTML object>"
            ]
          },
          "metadata": {},
          "output_type": "display_data"
        },
        {
          "name": "stdout",
          "output_type": "stream",
          "text": [
            "Result for train_breast_cancer_a9876_00000:\n",
            "  date: 2021-12-10_03-24-28\n",
            "  done: true\n",
            "  experiment_id: 4b8c5fcd6681461fa96c1bef98240f5b\n",
            "  hostname: janguy2\n",
            "  iterations_since_restore: 1\n",
            "  mean_accuracy: 0.888112\n",
            "  node_ip: 10.0.0.5\n",
            "  pid: 24461\n",
            "  time_since_restore: 7.398552179336548\n",
            "  time_this_iter_s: 7.398552179336548\n",
            "  time_total_s: 7.398552179336548\n",
            "  timestamp: 1639106668\n",
            "  timesteps_since_restore: 0\n",
            "  training_iteration: 1\n",
            "  trial_id: a9876_00000\n",
            "  \n"
          ]
        },
        {
          "data": {
            "text/html": [
              "== Status ==<br>Current time: 2021-12-10 03:24:31 (running for 00:00:11.46)<br>Memory usage on this node: 7.7/94.3 GiB<br>Using FIFO scheduling algorithm.<br>Resources requested: 9.0/48 CPUs, 0/0 GPUs, 0.0/54.28 GiB heap, 0.0/27.14 GiB objects<br>Result logdir: /home/azureuser/ray_results/train_breast_cancer_2021-12-10_03-24-19<br>Number of trials: 10/10 (9 RUNNING, 1 TERMINATED)<br><table>\n",
              "<thead>\n",
              "<tr><th>Trial name                     </th><th>status    </th><th>loc           </th><th style=\"text-align: right;\">        eta</th><th style=\"text-align: right;\">  max_depth</th><th style=\"text-align: right;\">  min_child_weight</th><th style=\"text-align: right;\">  subsample</th><th style=\"text-align: right;\">     acc</th><th style=\"text-align: right;\">  iter</th><th style=\"text-align: right;\">  total time (s)</th></tr>\n",
              "</thead>\n",
              "<tbody>\n",
              "<tr><td>train_breast_cancer_a9876_00001</td><td>RUNNING   </td><td>10.0.0.5:24462</td><td style=\"text-align: right;\">0.000491363</td><td style=\"text-align: right;\">          1</td><td style=\"text-align: right;\">                 2</td><td style=\"text-align: right;\">   0.888983</td><td style=\"text-align: right;\">        </td><td style=\"text-align: right;\">      </td><td style=\"text-align: right;\">                </td></tr>\n",
              "<tr><td>train_breast_cancer_a9876_00002</td><td>RUNNING   </td><td>10.0.0.5:24479</td><td style=\"text-align: right;\">0.00230636 </td><td style=\"text-align: right;\">          1</td><td style=\"text-align: right;\">                 3</td><td style=\"text-align: right;\">   0.908011</td><td style=\"text-align: right;\">        </td><td style=\"text-align: right;\">      </td><td style=\"text-align: right;\">                </td></tr>\n",
              "<tr><td>train_breast_cancer_a9876_00003</td><td>RUNNING   </td><td>10.0.0.5:24466</td><td style=\"text-align: right;\">0.00456041 </td><td style=\"text-align: right;\">          5</td><td style=\"text-align: right;\">                 1</td><td style=\"text-align: right;\">   0.909479</td><td style=\"text-align: right;\">        </td><td style=\"text-align: right;\">      </td><td style=\"text-align: right;\">                </td></tr>\n",
              "<tr><td>train_breast_cancer_a9876_00004</td><td>RUNNING   </td><td>10.0.0.5:24469</td><td style=\"text-align: right;\">0.000478117</td><td style=\"text-align: right;\">          7</td><td style=\"text-align: right;\">                 2</td><td style=\"text-align: right;\">   0.735239</td><td style=\"text-align: right;\">        </td><td style=\"text-align: right;\">      </td><td style=\"text-align: right;\">                </td></tr>\n",
              "<tr><td>train_breast_cancer_a9876_00005</td><td>RUNNING   </td><td>10.0.0.5:24471</td><td style=\"text-align: right;\">0.00181548 </td><td style=\"text-align: right;\">          7</td><td style=\"text-align: right;\">                 1</td><td style=\"text-align: right;\">   0.897581</td><td style=\"text-align: right;\">        </td><td style=\"text-align: right;\">      </td><td style=\"text-align: right;\">                </td></tr>\n",
              "<tr><td>train_breast_cancer_a9876_00006</td><td>RUNNING   </td><td>10.0.0.5:24407</td><td style=\"text-align: right;\">0.000361135</td><td style=\"text-align: right;\">          5</td><td style=\"text-align: right;\">                 3</td><td style=\"text-align: right;\">   0.543242</td><td style=\"text-align: right;\">        </td><td style=\"text-align: right;\">      </td><td style=\"text-align: right;\">                </td></tr>\n",
              "<tr><td>train_breast_cancer_a9876_00007</td><td>RUNNING   </td><td>10.0.0.5:24470</td><td style=\"text-align: right;\">0.00273367 </td><td style=\"text-align: right;\">          5</td><td style=\"text-align: right;\">                 1</td><td style=\"text-align: right;\">   0.975624</td><td style=\"text-align: right;\">        </td><td style=\"text-align: right;\">      </td><td style=\"text-align: right;\">                </td></tr>\n",
              "<tr><td>train_breast_cancer_a9876_00008</td><td>RUNNING   </td><td>10.0.0.5:24463</td><td style=\"text-align: right;\">0.0416131  </td><td style=\"text-align: right;\">          4</td><td style=\"text-align: right;\">                 1</td><td style=\"text-align: right;\">   0.95536 </td><td style=\"text-align: right;\">        </td><td style=\"text-align: right;\">      </td><td style=\"text-align: right;\">                </td></tr>\n",
              "<tr><td>train_breast_cancer_a9876_00009</td><td>RUNNING   </td><td>10.0.0.5:24472</td><td style=\"text-align: right;\">0.00919299 </td><td style=\"text-align: right;\">          3</td><td style=\"text-align: right;\">                 1</td><td style=\"text-align: right;\">   0.797331</td><td style=\"text-align: right;\">        </td><td style=\"text-align: right;\">      </td><td style=\"text-align: right;\">                </td></tr>\n",
              "<tr><td>train_breast_cancer_a9876_00000</td><td>TERMINATED</td><td>10.0.0.5:24461</td><td style=\"text-align: right;\">0.00378889 </td><td style=\"text-align: right;\">          6</td><td style=\"text-align: right;\">                 3</td><td style=\"text-align: right;\">   0.802378</td><td style=\"text-align: right;\">0.888112</td><td style=\"text-align: right;\">     1</td><td style=\"text-align: right;\">         7.39855</td></tr>\n",
              "</tbody>\n",
              "</table><br><br>"
            ],
            "text/plain": [
              "<IPython.core.display.HTML object>"
            ]
          },
          "metadata": {},
          "output_type": "display_data"
        },
        {
          "name": "stdout",
          "output_type": "stream",
          "text": [
            "Result for train_breast_cancer_a9876_00001:\n",
            "  date: 2021-12-10_03-24-32\n",
            "  done: true\n",
            "  experiment_id: 71c40e70593f42dab1e1fde7e39e5f40\n",
            "  hostname: janguy2\n",
            "  iterations_since_restore: 1\n",
            "  mean_accuracy: 0.86014\n",
            "  node_ip: 10.0.0.5\n",
            "  pid: 24462\n",
            "  time_since_restore: 11.064076662063599\n",
            "  time_this_iter_s: 11.064076662063599\n",
            "  time_total_s: 11.064076662063599\n",
            "  timestamp: 1639106672\n",
            "  timesteps_since_restore: 0\n",
            "  training_iteration: 1\n",
            "  trial_id: a9876_00001\n",
            "  \n",
            "Result for train_breast_cancer_a9876_00002:\n",
            "  date: 2021-12-10_03-24-32\n",
            "  done: true\n",
            "  experiment_id: 16a03d4b623e418996df96241c8b2388\n",
            "  hostname: janguy2\n",
            "  iterations_since_restore: 1\n",
            "  mean_accuracy: 0.895105\n",
            "  node_ip: 10.0.0.5\n",
            "  pid: 24479\n",
            "  time_since_restore: 11.145933628082275\n",
            "  time_this_iter_s: 11.145933628082275\n",
            "  time_total_s: 11.145933628082275\n",
            "  timestamp: 1639106672\n",
            "  timesteps_since_restore: 0\n",
            "  training_iteration: 1\n",
            "  trial_id: a9876_00002\n",
            "  \n"
          ]
        },
        {
          "data": {
            "text/html": [
              "== Status ==<br>Current time: 2021-12-10 03:24:36 (running for 00:00:17.21)<br>Memory usage on this node: 7.3/94.3 GiB<br>Using FIFO scheduling algorithm.<br>Resources requested: 7.0/48 CPUs, 0/0 GPUs, 0.0/54.28 GiB heap, 0.0/27.14 GiB objects<br>Result logdir: /home/azureuser/ray_results/train_breast_cancer_2021-12-10_03-24-19<br>Number of trials: 10/10 (7 RUNNING, 3 TERMINATED)<br><table>\n",
              "<thead>\n",
              "<tr><th>Trial name                     </th><th>status    </th><th>loc           </th><th style=\"text-align: right;\">        eta</th><th style=\"text-align: right;\">  max_depth</th><th style=\"text-align: right;\">  min_child_weight</th><th style=\"text-align: right;\">  subsample</th><th style=\"text-align: right;\">     acc</th><th style=\"text-align: right;\">  iter</th><th style=\"text-align: right;\">  total time (s)</th></tr>\n",
              "</thead>\n",
              "<tbody>\n",
              "<tr><td>train_breast_cancer_a9876_00003</td><td>RUNNING   </td><td>10.0.0.5:24466</td><td style=\"text-align: right;\">0.00456041 </td><td style=\"text-align: right;\">          5</td><td style=\"text-align: right;\">                 1</td><td style=\"text-align: right;\">   0.909479</td><td style=\"text-align: right;\">        </td><td style=\"text-align: right;\">      </td><td style=\"text-align: right;\">                </td></tr>\n",
              "<tr><td>train_breast_cancer_a9876_00004</td><td>RUNNING   </td><td>10.0.0.5:24469</td><td style=\"text-align: right;\">0.000478117</td><td style=\"text-align: right;\">          7</td><td style=\"text-align: right;\">                 2</td><td style=\"text-align: right;\">   0.735239</td><td style=\"text-align: right;\">        </td><td style=\"text-align: right;\">      </td><td style=\"text-align: right;\">                </td></tr>\n",
              "<tr><td>train_breast_cancer_a9876_00005</td><td>RUNNING   </td><td>10.0.0.5:24471</td><td style=\"text-align: right;\">0.00181548 </td><td style=\"text-align: right;\">          7</td><td style=\"text-align: right;\">                 1</td><td style=\"text-align: right;\">   0.897581</td><td style=\"text-align: right;\">        </td><td style=\"text-align: right;\">      </td><td style=\"text-align: right;\">                </td></tr>\n",
              "<tr><td>train_breast_cancer_a9876_00006</td><td>RUNNING   </td><td>10.0.0.5:24407</td><td style=\"text-align: right;\">0.000361135</td><td style=\"text-align: right;\">          5</td><td style=\"text-align: right;\">                 3</td><td style=\"text-align: right;\">   0.543242</td><td style=\"text-align: right;\">        </td><td style=\"text-align: right;\">      </td><td style=\"text-align: right;\">                </td></tr>\n",
              "<tr><td>train_breast_cancer_a9876_00007</td><td>RUNNING   </td><td>10.0.0.5:24470</td><td style=\"text-align: right;\">0.00273367 </td><td style=\"text-align: right;\">          5</td><td style=\"text-align: right;\">                 1</td><td style=\"text-align: right;\">   0.975624</td><td style=\"text-align: right;\">        </td><td style=\"text-align: right;\">      </td><td style=\"text-align: right;\">                </td></tr>\n",
              "<tr><td>train_breast_cancer_a9876_00008</td><td>RUNNING   </td><td>10.0.0.5:24463</td><td style=\"text-align: right;\">0.0416131  </td><td style=\"text-align: right;\">          4</td><td style=\"text-align: right;\">                 1</td><td style=\"text-align: right;\">   0.95536 </td><td style=\"text-align: right;\">        </td><td style=\"text-align: right;\">      </td><td style=\"text-align: right;\">                </td></tr>\n",
              "<tr><td>train_breast_cancer_a9876_00009</td><td>RUNNING   </td><td>10.0.0.5:24472</td><td style=\"text-align: right;\">0.00919299 </td><td style=\"text-align: right;\">          3</td><td style=\"text-align: right;\">                 1</td><td style=\"text-align: right;\">   0.797331</td><td style=\"text-align: right;\">        </td><td style=\"text-align: right;\">      </td><td style=\"text-align: right;\">                </td></tr>\n",
              "<tr><td>train_breast_cancer_a9876_00000</td><td>TERMINATED</td><td>10.0.0.5:24461</td><td style=\"text-align: right;\">0.00378889 </td><td style=\"text-align: right;\">          6</td><td style=\"text-align: right;\">                 3</td><td style=\"text-align: right;\">   0.802378</td><td style=\"text-align: right;\">0.888112</td><td style=\"text-align: right;\">     1</td><td style=\"text-align: right;\">         7.39855</td></tr>\n",
              "<tr><td>train_breast_cancer_a9876_00001</td><td>TERMINATED</td><td>10.0.0.5:24462</td><td style=\"text-align: right;\">0.000491363</td><td style=\"text-align: right;\">          1</td><td style=\"text-align: right;\">                 2</td><td style=\"text-align: right;\">   0.888983</td><td style=\"text-align: right;\">0.86014 </td><td style=\"text-align: right;\">     1</td><td style=\"text-align: right;\">        11.0641 </td></tr>\n",
              "<tr><td>train_breast_cancer_a9876_00002</td><td>TERMINATED</td><td>10.0.0.5:24479</td><td style=\"text-align: right;\">0.00230636 </td><td style=\"text-align: right;\">          1</td><td style=\"text-align: right;\">                 3</td><td style=\"text-align: right;\">   0.908011</td><td style=\"text-align: right;\">0.895105</td><td style=\"text-align: right;\">     1</td><td style=\"text-align: right;\">        11.1459 </td></tr>\n",
              "</tbody>\n",
              "</table><br><br>"
            ],
            "text/plain": [
              "<IPython.core.display.HTML object>"
            ]
          },
          "metadata": {},
          "output_type": "display_data"
        },
        {
          "name": "stdout",
          "output_type": "stream",
          "text": [
            "Result for train_breast_cancer_a9876_00006:\n",
            "  date: 2021-12-10_03-24-38\n",
            "  done: true\n",
            "  experiment_id: 71e3908bad894d6489608e9104300e3b\n",
            "  hostname: janguy2\n",
            "  iterations_since_restore: 1\n",
            "  mean_accuracy: 0.93007\n",
            "  node_ip: 10.0.0.5\n",
            "  pid: 24407\n",
            "  time_since_restore: 17.26025152206421\n",
            "  time_this_iter_s: 17.26025152206421\n",
            "  time_total_s: 17.26025152206421\n",
            "  timestamp: 1639106678\n",
            "  timesteps_since_restore: 0\n",
            "  training_iteration: 1\n",
            "  trial_id: a9876_00006\n",
            "  \n",
            "Result for train_breast_cancer_a9876_00009:\n",
            "  date: 2021-12-10_03-24-39\n",
            "  done: true\n",
            "  experiment_id: 7a7618e5041f409692686cd22eea7b3d\n",
            "  hostname: janguy2\n",
            "  iterations_since_restore: 1\n",
            "  mean_accuracy: 0.923077\n",
            "  node_ip: 10.0.0.5\n",
            "  pid: 24472\n",
            "  time_since_restore: 17.459272861480713\n",
            "  time_this_iter_s: 17.459272861480713\n",
            "  time_total_s: 17.459272861480713\n",
            "  timestamp: 1639106679\n",
            "  timesteps_since_restore: 0\n",
            "  training_iteration: 1\n",
            "  trial_id: a9876_00009\n",
            "  \n",
            "Result for train_breast_cancer_a9876_00004:\n",
            "  date: 2021-12-10_03-24-40\n",
            "  done: true\n",
            "  experiment_id: e18db97b3f414dfb8bd4ab9ab6d7173f\n",
            "  hostname: janguy2\n",
            "  iterations_since_restore: 1\n",
            "  mean_accuracy: 0.958042\n",
            "  node_ip: 10.0.0.5\n",
            "  pid: 24469\n",
            "  time_since_restore: 19.217035055160522\n",
            "  time_this_iter_s: 19.217035055160522\n",
            "  time_total_s: 19.217035055160522\n",
            "  timestamp: 1639106680\n",
            "  timesteps_since_restore: 0\n",
            "  training_iteration: 1\n",
            "  trial_id: a9876_00004\n",
            "  \n",
            "Result for train_breast_cancer_a9876_00008:\n",
            "  date: 2021-12-10_03-24-41\n",
            "  done: true\n",
            "  experiment_id: 948e3c626b5e4e1683d19aabf71deabc\n",
            "  hostname: janguy2\n",
            "  iterations_since_restore: 1\n",
            "  mean_accuracy: 0.923077\n",
            "  node_ip: 10.0.0.5\n",
            "  pid: 24463\n",
            "  time_since_restore: 19.712729692459106\n",
            "  time_this_iter_s: 19.712729692459106\n",
            "  time_total_s: 19.712729692459106\n",
            "  timestamp: 1639106681\n",
            "  timesteps_since_restore: 0\n",
            "  training_iteration: 1\n",
            "  trial_id: a9876_00008\n",
            "  \n",
            "Result for train_breast_cancer_a9876_00005:\n",
            "  date: 2021-12-10_03-24-41\n",
            "  done: true\n",
            "  experiment_id: 7da6b61c5f8140c897c8c3d953841c73\n",
            "  hostname: janguy2\n",
            "  iterations_since_restore: 1\n",
            "  mean_accuracy: 0.916084\n",
            "  node_ip: 10.0.0.5\n",
            "  pid: 24471\n",
            "  time_since_restore: 20.038052082061768\n",
            "  time_this_iter_s: 20.038052082061768\n",
            "  time_total_s: 20.038052082061768\n",
            "  timestamp: 1639106681\n",
            "  timesteps_since_restore: 0\n",
            "  training_iteration: 1\n",
            "  trial_id: a9876_00005\n",
            "  \n",
            "Result for train_breast_cancer_a9876_00007:\n",
            "  date: 2021-12-10_03-24-42\n",
            "  done: true\n",
            "  experiment_id: e6fad8cf9daa4ce28d48df228815f102\n",
            "  hostname: janguy2\n",
            "  iterations_since_restore: 1\n",
            "  mean_accuracy: 0.958042\n",
            "  node_ip: 10.0.0.5\n",
            "  pid: 24470\n",
            "  time_since_restore: 20.27607297897339\n",
            "  time_this_iter_s: 20.27607297897339\n",
            "  time_total_s: 20.27607297897339\n",
            "  timestamp: 1639106682\n",
            "  timesteps_since_restore: 0\n",
            "  training_iteration: 1\n",
            "  trial_id: a9876_00007\n",
            "  \n",
            "Result for train_breast_cancer_a9876_00003:\n",
            "  date: 2021-12-10_03-24-42\n",
            "  done: true\n",
            "  experiment_id: 0ef300f575a84ae2a44540d2bacbc11a\n",
            "  hostname: janguy2\n",
            "  iterations_since_restore: 1\n",
            "  mean_accuracy: 0.944056\n",
            "  node_ip: 10.0.0.5\n",
            "  pid: 24466\n",
            "  time_since_restore: 20.275203466415405\n",
            "  time_this_iter_s: 20.275203466415405\n",
            "  time_total_s: 20.275203466415405\n",
            "  timestamp: 1639106682\n",
            "  timesteps_since_restore: 0\n",
            "  training_iteration: 1\n",
            "  trial_id: a9876_00003\n",
            "  \n"
          ]
        },
        {
          "data": {
            "text/html": [
              "== Status ==<br>Current time: 2021-12-10 03:24:42 (running for 00:00:22.30)<br>Memory usage on this node: 6.2/94.3 GiB<br>Using FIFO scheduling algorithm.<br>Resources requested: 0/48 CPUs, 0/0 GPUs, 0.0/54.28 GiB heap, 0.0/27.14 GiB objects<br>Result logdir: /home/azureuser/ray_results/train_breast_cancer_2021-12-10_03-24-19<br>Number of trials: 10/10 (10 TERMINATED)<br><table>\n",
              "<thead>\n",
              "<tr><th>Trial name                     </th><th>status    </th><th>loc           </th><th style=\"text-align: right;\">        eta</th><th style=\"text-align: right;\">  max_depth</th><th style=\"text-align: right;\">  min_child_weight</th><th style=\"text-align: right;\">  subsample</th><th style=\"text-align: right;\">     acc</th><th style=\"text-align: right;\">  iter</th><th style=\"text-align: right;\">  total time (s)</th></tr>\n",
              "</thead>\n",
              "<tbody>\n",
              "<tr><td>train_breast_cancer_a9876_00000</td><td>TERMINATED</td><td>10.0.0.5:24461</td><td style=\"text-align: right;\">0.00378889 </td><td style=\"text-align: right;\">          6</td><td style=\"text-align: right;\">                 3</td><td style=\"text-align: right;\">   0.802378</td><td style=\"text-align: right;\">0.888112</td><td style=\"text-align: right;\">     1</td><td style=\"text-align: right;\">         7.39855</td></tr>\n",
              "<tr><td>train_breast_cancer_a9876_00001</td><td>TERMINATED</td><td>10.0.0.5:24462</td><td style=\"text-align: right;\">0.000491363</td><td style=\"text-align: right;\">          1</td><td style=\"text-align: right;\">                 2</td><td style=\"text-align: right;\">   0.888983</td><td style=\"text-align: right;\">0.86014 </td><td style=\"text-align: right;\">     1</td><td style=\"text-align: right;\">        11.0641 </td></tr>\n",
              "<tr><td>train_breast_cancer_a9876_00002</td><td>TERMINATED</td><td>10.0.0.5:24479</td><td style=\"text-align: right;\">0.00230636 </td><td style=\"text-align: right;\">          1</td><td style=\"text-align: right;\">                 3</td><td style=\"text-align: right;\">   0.908011</td><td style=\"text-align: right;\">0.895105</td><td style=\"text-align: right;\">     1</td><td style=\"text-align: right;\">        11.1459 </td></tr>\n",
              "<tr><td>train_breast_cancer_a9876_00003</td><td>TERMINATED</td><td>10.0.0.5:24466</td><td style=\"text-align: right;\">0.00456041 </td><td style=\"text-align: right;\">          5</td><td style=\"text-align: right;\">                 1</td><td style=\"text-align: right;\">   0.909479</td><td style=\"text-align: right;\">0.944056</td><td style=\"text-align: right;\">     1</td><td style=\"text-align: right;\">        20.2752 </td></tr>\n",
              "<tr><td>train_breast_cancer_a9876_00004</td><td>TERMINATED</td><td>10.0.0.5:24469</td><td style=\"text-align: right;\">0.000478117</td><td style=\"text-align: right;\">          7</td><td style=\"text-align: right;\">                 2</td><td style=\"text-align: right;\">   0.735239</td><td style=\"text-align: right;\">0.958042</td><td style=\"text-align: right;\">     1</td><td style=\"text-align: right;\">        19.217  </td></tr>\n",
              "<tr><td>train_breast_cancer_a9876_00005</td><td>TERMINATED</td><td>10.0.0.5:24471</td><td style=\"text-align: right;\">0.00181548 </td><td style=\"text-align: right;\">          7</td><td style=\"text-align: right;\">                 1</td><td style=\"text-align: right;\">   0.897581</td><td style=\"text-align: right;\">0.916084</td><td style=\"text-align: right;\">     1</td><td style=\"text-align: right;\">        20.0381 </td></tr>\n",
              "<tr><td>train_breast_cancer_a9876_00006</td><td>TERMINATED</td><td>10.0.0.5:24407</td><td style=\"text-align: right;\">0.000361135</td><td style=\"text-align: right;\">          5</td><td style=\"text-align: right;\">                 3</td><td style=\"text-align: right;\">   0.543242</td><td style=\"text-align: right;\">0.93007 </td><td style=\"text-align: right;\">     1</td><td style=\"text-align: right;\">        17.2603 </td></tr>\n",
              "<tr><td>train_breast_cancer_a9876_00007</td><td>TERMINATED</td><td>10.0.0.5:24470</td><td style=\"text-align: right;\">0.00273367 </td><td style=\"text-align: right;\">          5</td><td style=\"text-align: right;\">                 1</td><td style=\"text-align: right;\">   0.975624</td><td style=\"text-align: right;\">0.958042</td><td style=\"text-align: right;\">     1</td><td style=\"text-align: right;\">        20.2761 </td></tr>\n",
              "<tr><td>train_breast_cancer_a9876_00008</td><td>TERMINATED</td><td>10.0.0.5:24463</td><td style=\"text-align: right;\">0.0416131  </td><td style=\"text-align: right;\">          4</td><td style=\"text-align: right;\">                 1</td><td style=\"text-align: right;\">   0.95536 </td><td style=\"text-align: right;\">0.923077</td><td style=\"text-align: right;\">     1</td><td style=\"text-align: right;\">        19.7127 </td></tr>\n",
              "<tr><td>train_breast_cancer_a9876_00009</td><td>TERMINATED</td><td>10.0.0.5:24472</td><td style=\"text-align: right;\">0.00919299 </td><td style=\"text-align: right;\">          3</td><td style=\"text-align: right;\">                 1</td><td style=\"text-align: right;\">   0.797331</td><td style=\"text-align: right;\">0.923077</td><td style=\"text-align: right;\">     1</td><td style=\"text-align: right;\">        17.4593 </td></tr>\n",
              "</tbody>\n",
              "</table><br><br>"
            ],
            "text/plain": [
              "<IPython.core.display.HTML object>"
            ]
          },
          "metadata": {},
          "output_type": "display_data"
        },
        {
          "data": {
            "text/html": [
              "== Status ==<br>Current time: 2021-12-10 03:24:42 (running for 00:00:22.27)<br>Memory usage on this node: 6.5/94.3 GiB<br>Using FIFO scheduling algorithm.<br>Resources requested: 1.0/48 CPUs, 0/0 GPUs, 0.0/54.28 GiB heap, 0.0/27.14 GiB objects<br>Result logdir: /home/azureuser/ray_results/train_breast_cancer_2021-12-10_03-24-19<br>Number of trials: 10/10 (1 RUNNING, 9 TERMINATED)<br><table>\n",
              "<thead>\n",
              "<tr><th>Trial name                     </th><th>status    </th><th>loc           </th><th style=\"text-align: right;\">        eta</th><th style=\"text-align: right;\">  max_depth</th><th style=\"text-align: right;\">  min_child_weight</th><th style=\"text-align: right;\">  subsample</th><th style=\"text-align: right;\">     acc</th><th style=\"text-align: right;\">  iter</th><th style=\"text-align: right;\">  total time (s)</th></tr>\n",
              "</thead>\n",
              "<tbody>\n",
              "<tr><td>train_breast_cancer_a9876_00003</td><td>RUNNING   </td><td>10.0.0.5:24466</td><td style=\"text-align: right;\">0.00456041 </td><td style=\"text-align: right;\">          5</td><td style=\"text-align: right;\">                 1</td><td style=\"text-align: right;\">   0.909479</td><td style=\"text-align: right;\">        </td><td style=\"text-align: right;\">      </td><td style=\"text-align: right;\">                </td></tr>\n",
              "<tr><td>train_breast_cancer_a9876_00000</td><td>TERMINATED</td><td>10.0.0.5:24461</td><td style=\"text-align: right;\">0.00378889 </td><td style=\"text-align: right;\">          6</td><td style=\"text-align: right;\">                 3</td><td style=\"text-align: right;\">   0.802378</td><td style=\"text-align: right;\">0.888112</td><td style=\"text-align: right;\">     1</td><td style=\"text-align: right;\">         7.39855</td></tr>\n",
              "<tr><td>train_breast_cancer_a9876_00001</td><td>TERMINATED</td><td>10.0.0.5:24462</td><td style=\"text-align: right;\">0.000491363</td><td style=\"text-align: right;\">          1</td><td style=\"text-align: right;\">                 2</td><td style=\"text-align: right;\">   0.888983</td><td style=\"text-align: right;\">0.86014 </td><td style=\"text-align: right;\">     1</td><td style=\"text-align: right;\">        11.0641 </td></tr>\n",
              "<tr><td>train_breast_cancer_a9876_00002</td><td>TERMINATED</td><td>10.0.0.5:24479</td><td style=\"text-align: right;\">0.00230636 </td><td style=\"text-align: right;\">          1</td><td style=\"text-align: right;\">                 3</td><td style=\"text-align: right;\">   0.908011</td><td style=\"text-align: right;\">0.895105</td><td style=\"text-align: right;\">     1</td><td style=\"text-align: right;\">        11.1459 </td></tr>\n",
              "<tr><td>train_breast_cancer_a9876_00004</td><td>TERMINATED</td><td>10.0.0.5:24469</td><td style=\"text-align: right;\">0.000478117</td><td style=\"text-align: right;\">          7</td><td style=\"text-align: right;\">                 2</td><td style=\"text-align: right;\">   0.735239</td><td style=\"text-align: right;\">0.958042</td><td style=\"text-align: right;\">     1</td><td style=\"text-align: right;\">        19.217  </td></tr>\n",
              "<tr><td>train_breast_cancer_a9876_00005</td><td>TERMINATED</td><td>10.0.0.5:24471</td><td style=\"text-align: right;\">0.00181548 </td><td style=\"text-align: right;\">          7</td><td style=\"text-align: right;\">                 1</td><td style=\"text-align: right;\">   0.897581</td><td style=\"text-align: right;\">0.916084</td><td style=\"text-align: right;\">     1</td><td style=\"text-align: right;\">        20.0381 </td></tr>\n",
              "<tr><td>train_breast_cancer_a9876_00006</td><td>TERMINATED</td><td>10.0.0.5:24407</td><td style=\"text-align: right;\">0.000361135</td><td style=\"text-align: right;\">          5</td><td style=\"text-align: right;\">                 3</td><td style=\"text-align: right;\">   0.543242</td><td style=\"text-align: right;\">0.93007 </td><td style=\"text-align: right;\">     1</td><td style=\"text-align: right;\">        17.2603 </td></tr>\n",
              "<tr><td>train_breast_cancer_a9876_00007</td><td>TERMINATED</td><td>10.0.0.5:24470</td><td style=\"text-align: right;\">0.00273367 </td><td style=\"text-align: right;\">          5</td><td style=\"text-align: right;\">                 1</td><td style=\"text-align: right;\">   0.975624</td><td style=\"text-align: right;\">0.958042</td><td style=\"text-align: right;\">     1</td><td style=\"text-align: right;\">        20.2761 </td></tr>\n",
              "<tr><td>train_breast_cancer_a9876_00008</td><td>TERMINATED</td><td>10.0.0.5:24463</td><td style=\"text-align: right;\">0.0416131  </td><td style=\"text-align: right;\">          4</td><td style=\"text-align: right;\">                 1</td><td style=\"text-align: right;\">   0.95536 </td><td style=\"text-align: right;\">0.923077</td><td style=\"text-align: right;\">     1</td><td style=\"text-align: right;\">        19.7127 </td></tr>\n",
              "<tr><td>train_breast_cancer_a9876_00009</td><td>TERMINATED</td><td>10.0.0.5:24472</td><td style=\"text-align: right;\">0.00919299 </td><td style=\"text-align: right;\">          3</td><td style=\"text-align: right;\">                 1</td><td style=\"text-align: right;\">   0.797331</td><td style=\"text-align: right;\">0.923077</td><td style=\"text-align: right;\">     1</td><td style=\"text-align: right;\">        17.4593 </td></tr>\n",
              "</tbody>\n",
              "</table><br><br>"
            ],
            "text/plain": [
              "<IPython.core.display.HTML object>"
            ]
          },
          "metadata": {},
          "output_type": "display_data"
        },
        {
          "name": "stderr",
          "output_type": "stream",
          "text": [
            "2021-12-10 03:24:42,146\tINFO tune.py:626 -- Total run time: 22.42 seconds (22.29 seconds for the tuning loop).\n"
          ]
        }
      ],
      "source": [
        " import sklearn.datasets\n",
        " import sklearn.metrics\n",
        " from sklearn.model_selection import train_test_split\n",
        " import xgboost as xgb\n",
        "\n",
        " from ray import tune\n",
        "\n",
        "\n",
        " def train_breast_cancer(config):\n",
        "     # Load dataset\n",
        "     data, labels = sklearn.datasets.load_breast_cancer(return_X_y=True)\n",
        "     # Split into train and test set\n",
        "     train_x, test_x, train_y, test_y = train_test_split(\n",
        "         data, labels, test_size=0.25)\n",
        "     # Build input matrices for XGBoost\n",
        "     train_set = xgb.DMatrix(train_x, label=train_y)\n",
        "     test_set = xgb.DMatrix(test_x, label=test_y)\n",
        "     # Train the classifier\n",
        "     results = {}\n",
        "     xgb.train(\n",
        "         config,\n",
        "         train_set,\n",
        "         evals=[(test_set, \"eval\")],\n",
        "         evals_result=results,\n",
        "         verbose_eval=False)\n",
        "     # Return prediction accuracy\n",
        "     accuracy = 1. - results[\"eval\"][\"error\"][-1]\n",
        "     tune.report(mean_accuracy=accuracy, done=True)\n",
        "\n",
        "\n",
        " config = {\n",
        "     \"objective\": \"binary:logistic\",\n",
        "     \"eval_metric\": [\"logloss\", \"error\"],\n",
        "     \"max_depth\": tune.randint(1, 9),\n",
        "     \"min_child_weight\": tune.choice([1, 2, 3]),\n",
        "     \"subsample\": tune.uniform(0.5, 1.0),\n",
        "     \"eta\": tune.loguniform(1e-4, 1e-1)\n",
        " }\n",
        " analysis = tune.run(\n",
        "     train_breast_cancer,\n",
        "     resources_per_trial={\"cpu\": 1},\n",
        "     config=config,\n",
        "     num_samples=10)\n"
      ]
    },
    {
      "cell_type": "markdown",
      "metadata": {},
      "source": [
        "### Testing Spark on Ray"
      ]
    },
    {
      "cell_type": "code",
      "execution_count": 1,
      "metadata": {},
      "outputs": [
        {
          "name": "stderr",
          "output_type": "stream",
          "text": [
            "2021-12-06 19:48:42,187\tINFO services.py:1338 -- View the Ray dashboard at \u001b[1m\u001b[32mhttp://127.0.0.1:8266\u001b[39m\u001b[22m\n"
          ]
        },
        {
          "name": "stdout",
          "output_type": "stream",
          "text": [
            "WARNING: sun.reflect.Reflection.getCallerClass is not supported. This will impact performance.\n",
            "2021-12-06 19:48:45,043 WARN Utils [Thread-1]: Your hostname, nc6v0 resolves to a loopback address: 127.0.0.1; using 10.0.0.11 instead (on interface eth0)\n",
            "2021-12-06 19:48:45,046 WARN Utils [Thread-1]: Set SPARK_LOCAL_IP if you need to bind to another address\n",
            "2021-12-06 19:48:45,240 WARN NativeCodeLoader [Thread-1]: Unable to load native-hadoop library for your platform... using builtin-java classes where applicable\n"
          ]
        },
        {
          "name": "stderr",
          "output_type": "stream",
          "text": [
            "WARNING: An illegal reflective access operation has occurred\n",
            "WARNING: Illegal reflective access by org.apache.spark.unsafe.Platform (file:/anaconda/envs/azureml_py38/lib/python3.8/site-packages/pyspark/jars/spark-unsafe_2.12-3.2.0.jar) to constructor java.nio.DirectByteBuffer(long,int)\n",
            "WARNING: Please consider reporting this to the maintainers of org.apache.spark.unsafe.Platform\n",
            "WARNING: Use --illegal-access=warn to enable warnings of further illegal reflective access operations\n",
            "WARNING: All illegal access operations will be denied in a future release\n"
          ]
        },
        {
          "name": "stdout",
          "output_type": "stream",
          "text": [
            "2021-12-06 19:48:45,321 INFO SecurityManager [Thread-1]: Changing view acls to: azureuser\n",
            "2021-12-06 19:48:45,321 INFO SecurityManager [Thread-1]: Changing modify acls to: azureuser\n",
            "2021-12-06 19:48:45,322 INFO SecurityManager [Thread-1]: Changing view acls groups to: \n",
            "2021-12-06 19:48:45,322 INFO SecurityManager [Thread-1]: Changing modify acls groups to: \n",
            "2021-12-06 19:48:45,323 INFO SecurityManager [Thread-1]: SecurityManager: authentication disabled; ui acls disabled; users  with view permissions: Set(azureuser); groups with view permissions: Set(); users  with modify permissions: Set(azureuser); groups with modify permissions: Set()\n",
            "2021-12-06 19:48:45,591 INFO Utils [Thread-1]: Successfully started service 'RAY_RPC_ENV' on port 44621.\n"
          ]
        },
        {
          "name": "stderr",
          "output_type": "stream",
          "text": [
            "SLF4J: Class path contains multiple SLF4J bindings.\n",
            "SLF4J: Found binding in [jar:file:/anaconda/envs/azureml_py38/lib/python3.8/site-packages/ray/jars/ray_dist.jar!/org/slf4j/impl/StaticLoggerBinder.class]\n",
            "SLF4J: Found binding in [jar:file:/anaconda/envs/azureml_py38/lib/python3.8/site-packages/pyspark/jars/slf4j-log4j12-1.7.30.jar!/org/slf4j/impl/StaticLoggerBinder.class]\n",
            "SLF4J: See http://www.slf4j.org/codes.html#multiple_bindings for an explanation.\n",
            "SLF4J: Actual binding is of type [org.apache.logging.slf4j.Log4jLoggerFactory]\n"
          ]
        },
        {
          "name": "stdout",
          "output_type": "stream",
          "text": [
            "WARNING: sun.reflect.Reflection.getCallerClass is not supported. This will impact performance.\n"
          ]
        },
        {
          "name": "stderr",
          "output_type": "stream",
          "text": [
            "WARNING: An illegal reflective access operation has occurred\n",
            "WARNING: Illegal reflective access by org.apache.spark.unsafe.Platform (file:/anaconda/envs/azureml_py38/lib/python3.8/site-packages/pyspark/jars/spark-unsafe_2.12-3.2.0.jar) to constructor java.nio.DirectByteBuffer(long,int)\n",
            "WARNING: Please consider reporting this to the maintainers of org.apache.spark.unsafe.Platform\n",
            "WARNING: Use --illegal-access=warn to enable warnings of further illegal reflective access operations\n",
            "WARNING: All illegal access operations will be denied in a future release\n"
          ]
        },
        {
          "name": "stdout",
          "output_type": "stream",
          "text": [
            "2021-12-06 19:48:48,798 INFO RayAppMaster$RayAppMasterEndpoint [dispatcher-event-loop-1]: Registering app example\n",
            "2021-12-06 19:48:48,802 INFO RayAppMaster$RayAppMasterEndpoint [dispatcher-event-loop-1]: Registered app example with ID app-20211206194848-0000\n",
            "0    1\n",
            "1    4\n",
            "2    9\n",
            "dtype: int64\n"
          ]
        },
        {
          "name": "stderr",
          "output_type": "stream",
          "text": [
            "\u001b[2m\u001b[33m(raylet)\u001b[0m WARNING: An illegal reflective access operation has occurred\n",
            "\u001b[2m\u001b[33m(raylet)\u001b[0m WARNING: Illegal reflective access by org.apache.spark.unsafe.Platform (file:/anaconda/envs/azureml_py38/lib/python3.8/site-packages/pyspark/jars/spark-unsafe_2.12-3.2.0.jar) to constructor java.nio.DirectByteBuffer(long,int)\n",
            "\u001b[2m\u001b[33m(raylet)\u001b[0m WARNING: Please consider reporting this to the maintainers of org.apache.spark.unsafe.Platform\n",
            "\u001b[2m\u001b[33m(raylet)\u001b[0m WARNING: Use --illegal-access=warn to enable warnings of further illegal reflective access operations\n",
            "\u001b[2m\u001b[33m(raylet)\u001b[0m WARNING: All illegal access operations will be denied in a future release\n",
            "\u001b[2m\u001b[33m(raylet)\u001b[0m WARNING: An illegal reflective access operation has occurred\n",
            "\u001b[2m\u001b[33m(raylet)\u001b[0m WARNING: Illegal reflective access by org.apache.spark.unsafe.Platform (file:/anaconda/envs/azureml_py38/lib/python3.8/site-packages/pyspark/jars/spark-unsafe_2.12-3.2.0.jar) to constructor java.nio.DirectByteBuffer(long,int)\n",
            "\u001b[2m\u001b[33m(raylet)\u001b[0m WARNING: Please consider reporting this to the maintainers of org.apache.spark.unsafe.Platform\n",
            "\u001b[2m\u001b[33m(raylet)\u001b[0m WARNING: Use --illegal-access=warn to enable warnings of further illegal reflective access operations\n",
            "\u001b[2m\u001b[33m(raylet)\u001b[0m WARNING: All illegal access operations will be denied in a future release\n",
            "                                                                                \r"
          ]
        },
        {
          "name": "stdout",
          "output_type": "stream",
          "text": [
            "+-------------------+\n",
            "|multiply_func(x, x)|\n",
            "+-------------------+\n",
            "|                  1|\n",
            "|                  4|\n",
            "|                  9|\n",
            "+-------------------+\n",
            "\n",
            "2021-12-06 19:48:59,086 INFO RayAppMaster [Thread-1]: Stopping RayAppMaster\n"
          ]
        }
      ],
      "source": [
        "import ray\n",
        "import raydp\n",
        "import os\n",
        "ray.shutdown()\n",
        "ray.init()\n",
        "os.environ[\"PYSPARK_PYTHON\"]=\"/anaconda/envs/azureml_py38/bin/python3\"\n",
        "\n",
        "# ray.init(address ='ray://10.0.0.11:6379')\n",
        "spark = raydp.init_spark(\n",
        "  app_name = \"example\",\n",
        "  num_executors = 2,\n",
        "  executor_cores = 1,\n",
        "  executor_memory = \"1gb\"\n",
        ")\n",
        "\n",
        "# data =spark.read.format(\"csv\").option(\"header\", True).load(\"wasbs://ojsales-simulatedcontainer@azureopendatastorage.blob.core.windows.net/oj_sales_data/Store10*.csv\")\n",
        "\n",
        "\n",
        "# # normal data processesing with Spark\n",
        "# df = spark.createDataFrame([('look',), ('spark',), ('tutorial',), ('spark',), ('look', ), ('python', )], ['word'])\n",
        "# df.show()\n",
        "# word_count = df.groupBy('word').count()\n",
        "# word_count.show()\n",
        "import pandas as pd\n",
        "\n",
        "from pyspark.sql.functions import col, pandas_udf\n",
        "from pyspark.sql.types import LongType\n",
        "\n",
        "# Declare the function and create the UDF\n",
        "def multiply_func(a: pd.Series, b: pd.Series) -> pd.Series:\n",
        "    return a * b\n",
        "\n",
        "multiply = pandas_udf(multiply_func, returnType=LongType())\n",
        "\n",
        "# The function for a pandas_udf should be able to execute with local Pandas data\n",
        "x = pd.Series([1, 2, 3])\n",
        "print(multiply_func(x, x))\n",
        "# 0    1\n",
        "# 1    4\n",
        "# 2    9\n",
        "# dtype: int64\n",
        "\n",
        "# Create a Spark DataFrame, 'spark' is an existing SparkSession\n",
        "df = spark.createDataFrame(pd.DataFrame(x, columns=[\"x\"]))\n",
        "\n",
        "# Execute function as a Spark vectorized UDF\n",
        "df.select(multiply(col(\"x\"), col(\"x\"))).show()\n",
        "# +-------------------+\n",
        "# |multiply_func(x, x)|\n",
        "# +-------------------+\n",
        "# |                  1|\n",
        "# |                  4|\n",
        "# |                  9|\n",
        "# +-------------------+\n",
        "\n",
        "\n",
        "# stop the spark cluster\n",
        "raydp.stop_spark()\n"
      ]
    },
    {
      "cell_type": "code",
      "execution_count": null,
      "metadata": {},
      "outputs": [],
      "source": [
        "raydp.stop_spark()\n"
      ]
    },
    {
      "cell_type": "markdown",
      "metadata": {},
      "source": [
        "## Testing Ray on Job Cluster"
      ]
    },
    {
      "cell_type": "code",
      "execution_count": 5,
      "metadata": {},
      "outputs": [
        {
          "name": "stdout",
          "output_type": "stream",
          "text": [
            "Found existing cluster, use it.\n"
          ]
        }
      ],
      "source": [
        "#     pyarrow >=6.0.1\n",
        "# dask >=2021.11.2\n",
        "# adlfs >=2021.10.0\n",
        "# fsspec==2021.10.1\n",
        "# ray[default]==1.9.0\n",
        "ws = Workspace.from_config()\n",
        "\n",
        "base_conda_dep =['adlfs>=2021.10.0','pytorch','matplotlib','torchvision','pip']\n",
        "base_pip_dep = ['sklearn','xgboost','lightgbm','ray[default]==1.9.0', 'xgboost_ray', 'dask>=2021.11.2','pyarrow>=6.0.1', 'azureml-mlflow']\n",
        "compute_cluster = 'worker-cpu-v3'\n",
        "maxnode =5\n",
        "vm_size='STANDARD_DS3_V2'\n",
        "vnet='rayvnet'\n",
        "subnet='default'\n",
        "exp ='ray_on_aml_job'\n",
        "ws_detail = ws.get_details()\n",
        "ws_rg = ws_detail['id'].split(\"/\")[4]\n",
        "vnet_rg=None\n",
        "try:\n",
        "    ray_cluster = ComputeTarget(workspace=ws, name=compute_cluster)\n",
        "\n",
        "    print('Found existing cluster, use it.')\n",
        "except ComputeTargetException:\n",
        "    if vnet_rg is None:\n",
        "        vnet_rg = ws_rg\n",
        "    compute_config = AmlCompute.provisioning_configuration(vm_size=vm_size,\n",
        "                                                        min_nodes=0, max_nodes=maxnode,\n",
        "                                                        vnet_resourcegroup_name=vnet_rg,\n",
        "                                                        vnet_name=vnet,\n",
        "                                                        subnet_name=subnet)\n",
        "    ray_cluster = ComputeTarget.create(ws, compute_cluster, compute_config)\n",
        "\n",
        "    ray_cluster.wait_for_completion(show_output=True)\n",
        "\n",
        "\n",
        "python_version = [\"python=\"+platform.python_version()]\n",
        "\n",
        "\n",
        "\n",
        "conda_packages = python_version+base_conda_dep\n",
        "pip_packages = base_pip_dep \n",
        "\n",
        "conda_dep = CondaDependencies()\n",
        "\n",
        "rayEnv = Environment(name=\"rayEnv\")\n",
        "for conda_package in conda_packages:\n",
        "    conda_dep.add_conda_package(conda_package)\n",
        "\n",
        "for pip_package in pip_packages:\n",
        "    conda_dep.add_pip_package(pip_package)\n",
        "\n",
        "# Adds dependencies to PythonSection of myenv\n",
        "rayEnv.python.conda_dependencies=conda_dep\n",
        "\n",
        "src = ScriptRunConfig(source_directory='job',\n",
        "                script='aml_job.py',\n",
        "                environment=rayEnv,\n",
        "                compute_target=ray_cluster,\n",
        "                distributed_job_config=PyTorchConfiguration(node_count=maxnode),\n",
        "                    # arguments = [\"--master_ip\",master_ip]\n",
        "                )\n",
        "run = Experiment(ws, exp).submit(src)"
      ]
    }
  ],
  "metadata": {
    "interpreter": {
      "hash": "cac4749ce6e64bfd07fafd5bf9c175e86cc05b1d81ce0d05824a22ecc489c963"
    },
    "kernel_info": {
      "name": "python38-azureml"
    },
    "kernelspec": {
      "display_name": "Python 3.8 - AzureML",
      "language": "python",
      "name": "python3"
    },
    "language_info": {
      "codemirror_mode": {
        "name": "ipython",
        "version": 3
      },
      "file_extension": ".py",
      "mimetype": "text/x-python",
      "name": "python",
      "nbconvert_exporter": "python",
      "pygments_lexer": "ipython3",
      "version": "3.6.9"
    },
    "nteract": {
      "version": "nteract-front-end@1.0.0"
    }
  },
  "nbformat": 4,
  "nbformat_minor": 0
}
